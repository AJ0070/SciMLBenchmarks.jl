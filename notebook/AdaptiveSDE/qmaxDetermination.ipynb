{
  "cells": [
    {
      "cell_type": "markdown",
      "source": [
        "# qmax Determination\n### Chris Rackauckas"
      ],
      "metadata": {}
    },
    {
      "outputs": [],
      "cell_type": "code",
      "source": [
        "using Distributed\naddprocs()\n\n@everywhere qs = 1.0 + 2.0.^(-5:2)\ntimes = Array{Float64}(undef,length(qs),4)\nmeans = Array{Float64}(undef,length(qs),4)\n\n@everywhere begin\n  using StochasticDiffEq, DiffEqBase, DiffEqProblemLibrary, Random,\n        Plots, ParallelDataTransfer, DiffEqMonteCarlo\n  Random.seed!(99 + myid())\n  full_prob = oval2ModelExample(largeFluctuations=true,useBigs=false)\n  prob = remake(full_prob,tspan=(0.0,1.0))\n  println(\"Solve once to compile.\")\n  sol = solve(prob,EM(),dt=1/2^(18))\n  Int(sol.u[end][1]!=NaN)\n  println(\"Compilation complete.\")\n  num_runs = 10000\n\n  probs = Vector{SDEProblem}(undef,3)\n  p1 = Vector{Any}(undef,3)\n  p2 = Vector{Any}(undef,3)\n  p3 = Vector{Any}(undef,3)\n  ## Problem 1\n  probs[1] = prob_sde_linear\n  ## Problem 2\n  probs[2] = prob_sde_wave\n  ## Problem 3\n  probs[3] = prob_sde_additive\nend\nprintln(\"Setup Complete\")\n\n## Timing Runs\n\n@everywhere function runAdaptive(i,k)\n  sol = solve(prob,SRIW1(),dt=1/2^(8),abstol=2.0^(-15),reltol=2.0^(-10),maxIters=Int(1e12),qmax=qs[k])\n  Int(any(isnan,sol[end]) || sol.t[end] != 1)\nend\n\n#Compile\nmonte_prob = MonteCarloProblem(probs[1])\ntest_mc = solve(monte_prob,SRIW1(),dt=1/2^(4),adaptive=true,num_monte=1000,abstol=2.0^(-1),reltol=0)\ncalculate_monte_errors(test_mc);"
      ],
      "metadata": {},
      "execution_count": null
    },
    {
      "cell_type": "markdown",
      "source": [
        "## qmax test on Oval2 Model"
      ],
      "metadata": {}
    },
    {
      "outputs": [],
      "cell_type": "code",
      "source": [
        "for k in eachindex(qs)\n  ParallelDataTransfer.sendto(workers(), k=k)\n  @everywhere Random.seed!(99 + myid())\n  adaptiveTime = @elapsed numFails = sum(pmap((i)->runAdaptive(i,k),1:num_runs))\n  println(\"k was $k. The number of Adaptive Fails is $numFails. Elapsed time was $adaptiveTime\")\n  times[k,4] = adaptiveTime\nend"
      ],
      "metadata": {},
      "execution_count": null
    },
    {
      "cell_type": "markdown",
      "source": [
        "## qmax test on other problems"
      ],
      "metadata": {}
    },
    {
      "outputs": [],
      "cell_type": "code",
      "source": [
        "for k in eachindex(probs)\n  println(\"Problem $k\")\n  ## Setup\n  prob = probs[k]\n  ParallelDataTransfer.sendto(workers(), prob=prob)\n\n  for i in eachindex(qs)\n    ParallelDataTransfer.sendto(workers(), i=i)\n    msim = solve(monte_prob,dt=1/2^(4),SRIW1(),adaptive=true,num_monte=num_runs,abstol=2.0^(-13),reltol=0,qmax=qs[i])\n    test_msim = calculate_monte_errors(msim)\n    times[i,k] = test_msim.elapsedTime\n    means[i,k] = test_msim.error_means[:final]\n    println(\"for k=$k and i=$i, we get that the error was $(means[i,k]) and it took $(times[i,k]) seconds\")\n  end\nend"
      ],
      "metadata": {},
      "execution_count": null
    },
    {
      "outputs": [],
      "cell_type": "code",
      "source": [
        "using DiffEqBenchmarks\nDiffEqBenchmarks.bench_footer(WEAVE_ARGS[:folder],WEAVE_ARGS[:file])"
      ],
      "metadata": {},
      "execution_count": null
    }
  ],
  "nbformat_minor": 2,
  "metadata": {
    "language_info": {
      "file_extension": ".jl",
      "mimetype": "application/julia",
      "name": "julia",
      "version": "1.1.0"
    },
    "kernelspec": {
      "name": "julia-1.1",
      "display_name": "Julia 1.1.0",
      "language": "julia"
    }
  },
  "nbformat": 4
}
