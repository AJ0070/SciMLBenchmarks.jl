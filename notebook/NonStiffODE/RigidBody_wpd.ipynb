{
  "cells": [
    {
      "cell_type": "markdown",
      "source": [
        "# Rigid Body Work-Precision Diagrams\n### Chris Rackauckas"
      ],
      "metadata": {}
    },
    {
      "outputs": [],
      "cell_type": "code",
      "source": [
        "using OrdinaryDiffEq, ParameterizedFunctions, ODE, ODEInterfaceDiffEq, LSODA,\n      Sundials, DiffEqDevTools\n\nk(t) = 0.25*sin(t)^2\n\ng = @ode_def RigidBody begin\n  dy1  = I₁*y2*y3\n  dy2  = I₂*y1*y3\n  dy3  = I₃*y1*y2 + k(t)\nend I₁ I₂ I₃\n\np = [-2.0,1.25,-0.5]\nprob = ODEProblem(g,[1.0;0.0;0.9],(0.0,10.0),p)\n\nabstols = 1.0 ./ 10.0 .^ (6:13)\nreltols = 1.0 ./ 10.0 .^ (3:10);\nsol = solve(prob,Vern7(),abstol=1/10^14,reltol=1/10^14)\ntest_sol = TestSolution(sol)\nusing Plots; gr()"
      ],
      "metadata": {},
      "execution_count": null
    },
    {
      "outputs": [],
      "cell_type": "code",
      "source": [
        "plot(sol)"
      ],
      "metadata": {},
      "execution_count": null
    },
    {
      "outputs": [],
      "cell_type": "code",
      "source": [
        "setups = [Dict(:alg=>DP5())\n          #Dict(:alg=>ode45()) # fails\n          Dict(:alg=>dopri5())\n          Dict(:alg=>Tsit5())\n          Dict(:alg=>Vern6())\n]\nwp = WorkPrecisionSet(prob,abstols,reltols,setups;appxsol=test_sol,save_everystep=true,numruns=100,maxiters=10000)\nplot(wp)"
      ],
      "metadata": {},
      "execution_count": null
    },
    {
      "cell_type": "markdown",
      "source": [
        "The DifferentialEquations.jl algorithms once again pull ahead. This is the first benchmark we've ran where `ode45` doesn't fail. However, it still doesn't do as well as `Tsit5`. One reason why it does so well is that the maximum norm that ODE.jl uses (as opposed to the L2 norm of Sundials, DifferentialEquations, and ODEInterface) seems to do really well on this problem. `dopri5` does surprisingly bad in this test.\n\n## Higher Order"
      ],
      "metadata": {}
    },
    {
      "outputs": [],
      "cell_type": "code",
      "source": [
        "setups = [Dict(:alg=>DP8())\n          #Dict(:alg=>ode78()) # fails\n          Dict(:alg=>Vern7())\n          Dict(:alg=>Vern8())\n          Dict(:alg=>dop853())\n          Dict(:alg=>Vern6())\n]\nwp = WorkPrecisionSet(prob,abstols,reltols,setups;appxsol=test_sol,save_everystep=false,numruns=100,maxiters=1000)\nplot(wp)"
      ],
      "metadata": {},
      "execution_count": null
    },
    {
      "outputs": [],
      "cell_type": "code",
      "source": [
        "setups = [Dict(:alg=>Vern7())\n          Dict(:alg=>Vern8())\n          Dict(:alg=>odex())\n          Dict(:alg=>CVODE_Adams())\n          Dict(:alg=>lsoda())\n          Dict(:alg=>ddeabm())\n          Dict(:alg=>ARKODE(Sundials.Explicit(),order=6))\n]\nwp = WorkPrecisionSet(prob,abstols,reltols,setups;appxsol=test_sol,save_everystep=false,numruns=100,maxiters=1000)\nplot(wp)"
      ],
      "metadata": {},
      "execution_count": null
    },
    {
      "cell_type": "markdown",
      "source": [
        "### Conclusion\n\nOnce again, the OrdinaryDiffEq.jl pull far ahead in terms of speed and accuracy."
      ],
      "metadata": {}
    },
    {
      "outputs": [],
      "cell_type": "code",
      "source": [
        "using DiffEqBenchmarks\nDiffEqBenchmarks.bench_footer(WEAVE_ARGS[:folder],WEAVE_ARGS[:file])"
      ],
      "metadata": {},
      "execution_count": null
    }
  ],
  "nbformat_minor": 2,
  "metadata": {
    "language_info": {
      "file_extension": ".jl",
      "mimetype": "application/julia",
      "name": "julia",
      "version": "1.1.0"
    },
    "kernelspec": {
      "name": "julia-1.1",
      "display_name": "Julia 1.1.0",
      "language": "julia"
    }
  },
  "nbformat": 4
}
