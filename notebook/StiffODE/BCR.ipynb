{
  "cells": [
    {
      "cell_type": "markdown",
      "source": [
        "# BCR Work-Precision Diagrams\n### Chris Rackauckas\n\nThe following benchmark is of a 1122 ODEs with 24388 terms that describe a\nstiff chemical reaction network."
      ],
      "metadata": {}
    },
    {
      "outputs": [],
      "cell_type": "code",
      "source": [
        "using ReactionNetworkImporters, OrdinaryDiffEq, DiffEqBiological,\n      Sundials, Plots, DiffEqDevTools, ODEInterface, ODEInterfaceDiffEq,\n      LSODA\ngr()\nprnbng = loadrxnetwork(BNGNetwork(), \"BNGRepressilator\",\n                       joinpath(pathof(ReactionNetworkImporters),\"..\",\"..\",\n                       \"data\",\"bcr\",\"bcr.net\"))\n\nrn = deepcopy(prnbng.rn)\naddodes!(rn; build_jac=false, build_symfuncs=false, build_paramjac=false)\ntf = 100000.0\noprob = ODEProblem(rn, prnbng.u₀, (0.,tf), prnbng.p);\n\nsparsejac_rn = deepcopy(prnbng.rn)\naddodes!(sparsejac_rn; build_jac=true, sparse_jac = true, build_symfuncs=false, build_paramjac=false)\ntf = 100000.0\nsparsejacprob = ODEProblem(sparsejac_rn, prnbng.u₀, (0.,tf), prnbng.p);"
      ],
      "metadata": {},
      "execution_count": null
    },
    {
      "outputs": [],
      "cell_type": "code",
      "source": [
        "@show numspecies(rn) # Number of ODEs\n@show numreactions(rn) # Apprx. number of terms in the ODE\n@show numparams(rn) # Number of Parameters"
      ],
      "metadata": {},
      "execution_count": null
    },
    {
      "cell_type": "markdown",
      "source": [
        "## Picture of the solution"
      ],
      "metadata": {}
    },
    {
      "outputs": [],
      "cell_type": "code",
      "source": [
        "sol = solve(oprob, CVODE_BDF(), saveat=tf/10000., reltol=1e-5, abstol=1e-5)\nplot(sol,legend=false)"
      ],
      "metadata": {},
      "execution_count": null
    },
    {
      "cell_type": "markdown",
      "source": [
        "For these benchmarks we will be using the timeseries error with these saving\npoints since the final time point is not well-indicative of the solution\nbehavior (capturing the oscillation is the key!).\n\n## Generate Test Solution"
      ],
      "metadata": {}
    },
    {
      "outputs": [],
      "cell_type": "code",
      "source": [
        "@time sol = solve(oprob,CVODE_BDF(),abstol=1/10^12,reltol=1/10^12)\ntest_sol = TestSolution(sol)"
      ],
      "metadata": {},
      "execution_count": null
    },
    {
      "cell_type": "markdown",
      "source": [
        "## Dense + Automatic Jacobian Solves\n\nDue to the computational cost of the problem, we are only going to focus on the\nmethods which demonstrated computational efficiency on the smaller biochemical\nbenchmark problems. This excludes the exponential integrator, stabilized explicit,\nand extrapolation classes of methods."
      ],
      "metadata": {}
    },
    {
      "outputs": [],
      "cell_type": "code",
      "source": [
        "abstols = 1.0 ./ 10.0 .^ (5:8)\nreltols = 1.0 ./ 10.0 .^ (5:8);\nsetups = [Dict(:alg=>Rosenbrock23()),\n          Dict(:alg=>TRBDF2()),\n          Dict(:alg=>CVODE_BDF()),\n          Dict(:alg=>rodas()),\n          Dict(:alg=>radau()),\n          Dict(:alg=>Rodas4()),\n          Dict(:alg=>Rodas5()),\n          Dict(:alg=>KenCarp4()),\n          Dict(:alg=>RadauIIA5()),\n          Dict(:alg=>ROS34PW1a()),\n          Dict(:alg=>lsoda()),\n          ]\nwp = WorkPrecisionSet(prob,abstols,reltols,setups;error_estimate=:l2,\n                      saveat=tf/10000.,appxsol=test_sol,maxiters=Int(1e5),numruns=1)\nplot(wp)"
      ],
      "metadata": {},
      "execution_count": null
    },
    {
      "cell_type": "markdown",
      "source": [
        "## Sparse + Analytical Jacobian"
      ],
      "metadata": {}
    },
    {
      "outputs": [],
      "cell_type": "code",
      "source": [
        "abstols = 1.0 ./ 10.0 .^ (5:8)\nreltols = 1.0 ./ 10.0 .^ (5:8);\nsetups = [Dict(:alg=>Rosenbrock23()),\n          Dict(:alg=>TRBDF2()),\n          Dict(:alg=>CVODE_BDF()),\n          Dict(:alg=>rodas()),\n          Dict(:alg=>radau()),\n          Dict(:alg=>Rodas4()),\n          Dict(:alg=>Rodas5()),\n          Dict(:alg=>KenCarp4()),\n          Dict(:alg=>RadauIIA5()),\n          Dict(:alg=>ROS34PW1a()),\n          Dict(:alg=>lsoda()),\n          ]\nwp = WorkPrecisionSet(sparsejacprob,abstols,reltols,setups;error_estimate=:l2,\n                      saveat=tf/10000.,appxsol=test_sol,maxiters=Int(1e5),numruns=1)\nplot(wp)"
      ],
      "metadata": {},
      "execution_count": null
    }
  ],
  "nbformat_minor": 2,
  "metadata": {
    "language_info": {
      "file_extension": ".jl",
      "mimetype": "application/julia",
      "name": "julia",
      "version": "1.2.0"
    },
    "kernelspec": {
      "name": "julia-1.2",
      "display_name": "Julia 1.2.0",
      "language": "julia"
    }
  },
  "nbformat": 4
}
