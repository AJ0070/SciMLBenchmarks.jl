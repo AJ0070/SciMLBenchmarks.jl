{
 "cells": [
  {
   "cell_type": "code",
   "execution_count": null,
   "metadata": {
    "collapsed": true
   },
   "outputs": [],
   "source": [
    "# Reference: https://doi.org/10.1103/PhysRevE.85.041502, although the boundaries here are free."
   ]
  },
  {
   "cell_type": "code",
   "execution_count": 1,
   "metadata": {},
   "outputs": [
    {
     "name": "stderr",
     "output_type": "stream",
     "text": [
      "\u001b[1m\u001b[36mINFO: \u001b[39m\u001b[22m\u001b[36mRecompiling stale cache file C:\\Users\\admin\\.julia\\lib\\v0.6\\DiffEqDiffTools.ji for module DiffEqDiffTools.\n",
      "\u001b[39m\u001b[1m\u001b[36mINFO: \u001b[39m\u001b[22m\u001b[36mRecompiling stale cache file C:\\Users\\admin\\.julia\\lib\\v0.6\\OrdinaryDiffEq.ji for module OrdinaryDiffEq.\n",
      "\u001b[39m"
     ]
    }
   ],
   "source": [
    "using OrdinaryDiffEq, ODEInterfaceDiffEq, Sundials, DiffEqDevTools"
   ]
  },
  {
   "cell_type": "code",
   "execution_count": 2,
   "metadata": {
    "collapsed": true
   },
   "outputs": [],
   "source": [
    "const T = Float64\n",
    "abstract type AbstractFilamentCache end\n",
    "abstract type AbstractMagneticForce end\n",
    "abstract type AbstractInextensibilityCache end\n",
    "abstract type AbstractSolver end\n",
    "abstract type AbstractSolverCache end"
   ]
  },
  {
   "cell_type": "code",
   "execution_count": 3,
   "metadata": {
    "collapsed": true
   },
   "outputs": [],
   "source": [
    "struct FerromagneticContinuous <: AbstractMagneticForce\n",
    "    ω :: T\n",
    "    F :: Vector{T}\n",
    "end\n",
    "\n",
    "mutable struct FilamentCache{\n",
    "        MagneticForce        <: AbstractMagneticForce,\n",
    "        InextensibilityCache <: AbstractInextensibilityCache,\n",
    "        SolverCache          <: AbstractSolverCache\n",
    "            } <: AbstractFilamentCache\n",
    "    N  :: Int\n",
    "    μ  :: T\n",
    "    Cm :: T\n",
    "    x  :: SubArray{T,1,Vector{T},Tuple{StepRange{Int,Int}},true}\n",
    "    y  :: SubArray{T,1,Vector{T},Tuple{StepRange{Int,Int}},true}\n",
    "    z  :: SubArray{T,1,Vector{T},Tuple{StepRange{Int,Int}},true}\n",
    "    A  :: Matrix{T}\n",
    "    P  :: InextensibilityCache\n",
    "    F  :: MagneticForce\n",
    "    Sc :: SolverCache\n",
    "end"
   ]
  },
  {
   "cell_type": "code",
   "execution_count": 4,
   "metadata": {
    "collapsed": true
   },
   "outputs": [],
   "source": [
    "struct NoHydroProjectionCache <: AbstractInextensibilityCache\n",
    "    J         :: Matrix{T}\n",
    "    P         :: Matrix{T}\n",
    "    J_JT      :: Matrix{T}\n",
    "    J_JT_LDLT :: Base.LinAlg.LDLt{T, SymTridiagonal{T}}\n",
    "    P0        :: Matrix{T}\n",
    "\n",
    "    NoHydroProjectionCache(N::Int) = new(\n",
    "        zeros(N, 3*(N+1)),          # J\n",
    "        zeros(3*(N+1), 3*(N+1)),    # P\n",
    "        zeros(N,N),                 # J_JT\n",
    "        Base.LinAlg.LDLt{T,SymTridiagonal{T}}(SymTridiagonal(zeros(N), zeros(N-1))),\n",
    "        zeros(N, 3*(N+1))\n",
    "    )\n",
    "end"
   ]
  },
  {
   "cell_type": "code",
   "execution_count": 5,
   "metadata": {
    "collapsed": true
   },
   "outputs": [],
   "source": [
    "struct DiffEqSolverCache <: AbstractSolverCache\n",
    "    S1 :: Vector{T}\n",
    "    S2 :: Vector{T}\n",
    "\n",
    "    DiffEqSolverCache(N::Integer) = new(zeros(T,3*(N+1)), zeros(T,3*(N+1)))\n",
    "end"
   ]
  },
  {
   "cell_type": "code",
   "execution_count": 6,
   "metadata": {},
   "outputs": [
    {
     "data": {
      "text/plain": [
       "FilamentCache"
      ]
     },
     "execution_count": 6,
     "metadata": {},
     "output_type": "execute_result"
    }
   ],
   "source": [
    "function FilamentCache(N=20; Cm=32, ω=200, Solver=SolverDiffEq)\n",
    "    InextensibilityCache = NoHydroProjectionCache\n",
    "    SolverCache = DiffEqSolverCache\n",
    "    tmp = zeros(3*(N+1))\n",
    "    FilamentCache{FerromagneticContinuous, InextensibilityCache, SolverCache}(\n",
    "        N, N+1, Cm, view(tmp,1:3:3*(N+1)), view(tmp,2:3:3*(N+1)), view(tmp,3:3:3*(N+1)),\n",
    "        zeros(3*(N+1), 3*(N+1)), # A\n",
    "        InextensibilityCache(N), # P\n",
    "        FerromagneticContinuous(ω, zeros(3*(N+1))),\n",
    "        SolverCache(N)\n",
    "    )\n",
    "end"
   ]
  },
  {
   "cell_type": "code",
   "execution_count": 7,
   "metadata": {},
   "outputs": [
    {
     "data": {
      "text/plain": [
       "stiffness_matrix! (generic function with 1 method)"
      ]
     },
     "execution_count": 7,
     "metadata": {},
     "output_type": "execute_result"
    }
   ],
   "source": [
    "function stiffness_matrix!(f::AbstractFilamentCache)\n",
    "    N, μ, A = f.N, f.μ, f.A\n",
    "    A[:] = eye(3*(N+1))\n",
    "    for i in 1 : 3\n",
    "        A[i,i] =    1\n",
    "        A[i,3+i] = -2\n",
    "        A[i,6+i] =  1\n",
    "\n",
    "        A[3+i,i]   = -2\n",
    "        A[3+i,3+i] =  5\n",
    "        A[3+i,6+i] = -4\n",
    "        A[3+i,9+i] =  1\n",
    "\n",
    "        A[3*(N-1)+i,3*(N-3)+i] =  1\n",
    "        A[3*(N-1)+i,3*(N-2)+i] = -4\n",
    "        A[3*(N-1)+i,3*(N-1)+i] =  5\n",
    "        A[3*(N-1)+i,3*N+i]     = -2\n",
    "\n",
    "        A[3*N+i,3*(N-2)+i]     =  1\n",
    "        A[3*N+i,3*(N-1)+i]     = -2\n",
    "        A[3*N+i,3*N+i]         =  1\n",
    "\n",
    "        for j in 2 : N-2\n",
    "            A[3*j+i,3*j+i]     =  6\n",
    "            A[3*j+i,3*(j-1)+i] = -4\n",
    "            A[3*j+i,3*(j+1)+i] = -4\n",
    "            A[3*j+i,3*(j-2)+i] =  1\n",
    "            A[3*j+i,3*(j+2)+i] =  1\n",
    "        end\n",
    "    end\n",
    "    scale!(A, -μ^4)\n",
    "    nothing\n",
    "end"
   ]
  },
  {
   "cell_type": "code",
   "execution_count": 8,
   "metadata": {},
   "outputs": [
    {
     "data": {
      "text/plain": [
       "update_united_coordinates (generic function with 1 method)"
      ]
     },
     "execution_count": 8,
     "metadata": {},
     "output_type": "execute_result"
    }
   ],
   "source": [
    "function update_separate_coordinates!(f::AbstractFilamentCache, r)\n",
    "    N, x, y, z = f.N, f.x, f.y, f.z\n",
    "    @inbounds for i in 1 : length(x)\n",
    "        x[i] = r[3*i-2]\n",
    "        y[i] = r[3*i-1]\n",
    "        z[i] = r[3*i]\n",
    "    end\n",
    "    nothing\n",
    "end\n",
    "\n",
    "function update_united_coordinates!(f::AbstractFilamentCache, r)\n",
    "    N, x, y, z = f.N, f.x, f.y, f.z\n",
    "    @inbounds for i in 1 : length(x)\n",
    "        r[3*i-2] = x[i]\n",
    "        r[3*i-1] = y[i]\n",
    "        r[3*i]   = z[i]\n",
    "    end\n",
    "    nothing\n",
    "end\n",
    "\n",
    "function update_united_coordinates(f::AbstractFilamentCache)\n",
    "    r = zeros(T, 3*length(f.x))\n",
    "    update_united_coordinates!(f, r)\n",
    "    r\n",
    "end"
   ]
  },
  {
   "cell_type": "code",
   "execution_count": 9,
   "metadata": {},
   "outputs": [
    {
     "data": {
      "text/plain": [
       "initialize! (generic function with 1 method)"
      ]
     },
     "execution_count": 9,
     "metadata": {},
     "output_type": "execute_result"
    }
   ],
   "source": [
    "function initialize!(initial_conf_type::Symbol, f::AbstractFilamentCache)\n",
    "    N, x, y, z = f.N, f.x, f.y, f.z\n",
    "    if initial_conf_type == :StraightX\n",
    "        x[:] = linspace(0, 1, N+1)\n",
    "        y[:] = 0 .* x\n",
    "        z[:] = 0 .* x\n",
    "    else\n",
    "        error(\"Unknown initial configuration requested.\")\n",
    "    end\n",
    "    update_united_coordinates(f)\n",
    "end"
   ]
  },
  {
   "cell_type": "code",
   "execution_count": 10,
   "metadata": {},
   "outputs": [
    {
     "data": {
      "text/plain": [
       "magnetic_force! (generic function with 1 method)"
      ]
     },
     "execution_count": 10,
     "metadata": {},
     "output_type": "execute_result"
    }
   ],
   "source": [
    "function magnetic_force!(::FerromagneticContinuous, f::AbstractFilamentCache, t)\n",
    "    # TODO: generalize this for different magnetic fields as well\n",
    "    N, μ, Cm, ω, F = f.N, f.μ, f.Cm, f.F.ω, f.F.F\n",
    "    F[1]         = -μ * Cm * cos(ω*t)\n",
    "    F[2]         = -μ * Cm * sin(ω*t)\n",
    "    F[3*(N+1)-2] =  μ * Cm * cos(ω*t)\n",
    "    F[3*(N+1)-1] =  μ * Cm * sin(ω*t)\n",
    "    nothing\n",
    "end"
   ]
  },
  {
   "cell_type": "code",
   "execution_count": 11,
   "metadata": {},
   "outputs": [
    {
     "data": {
      "text/plain": [
       "run (generic function with 1 method)"
      ]
     },
     "execution_count": 11,
     "metadata": {},
     "output_type": "execute_result"
    }
   ],
   "source": [
    "struct SolverDiffEq <: AbstractSolver end\n",
    "\n",
    "function (f::FilamentCache)(t, r, dr)\n",
    "    @views f.x, f.y, f.z = r[1:3:end], r[2:3:end], r[3:3:end]\n",
    "    jacobian!(f)\n",
    "    projection!(f)\n",
    "    magnetic_force!(f.F, f, t)\n",
    "    A, P, F, S1, S2 = f.A, f.P.P, f.F.F, f.Sc.S1, f.Sc.S2\n",
    "\n",
    "    # implement dr = P * (A*r + F) in an optimized way to avoid temporaries\n",
    "    A_mul_B!(S1, A, r)\n",
    "    S1 .+= F\n",
    "    A_mul_B!(S2, P, S1)\n",
    "    copy!(dr, S2)\n",
    "    return dr\n",
    "end\n",
    "\n",
    "function (f::FilamentCache)(::Type{Val{:jac}}, t, r, J)\n",
    "    A_mul_B!(J, f.P.P, f.A)\n",
    "    nothing\n",
    "end\n",
    "\n",
    "function run(::SolverDiffEq; N=20, Cm=32, ω=200, time_end=1., solver=TRBDF2(autodiff=false), reltol=1e-6, abstol=1e-6)\n",
    "    f = FilamentCache(N, Solver=SolverDiffEq, Cm=Cm, ω=ω)\n",
    "    r0 = initialize!(:StraightX, f)\n",
    "    stiffness_matrix!(FreeEnds(), f)\n",
    "    prob = ODEProblem(f, r0, (0., time_end))\n",
    "    sol = solve(prob, solver, dense=false, reltol=reltol, abstol=abstol)\n",
    "end"
   ]
  },
  {
   "cell_type": "code",
   "execution_count": 12,
   "metadata": {},
   "outputs": [
    {
     "data": {
      "text/plain": [
       "jacobian! (generic function with 1 method)"
      ]
     },
     "execution_count": 12,
     "metadata": {},
     "output_type": "execute_result"
    }
   ],
   "source": [
    "function jacobian!(f::FilamentCache)\n",
    "    N, x, y, z, J = f.N, f.x, f.y, f.z, f.P.J\n",
    "    @inbounds for i in 1 : N\n",
    "        J[i, 3*i-2]     = -2 * (x[i+1]-x[i])\n",
    "        J[i, 3*i-1]     = -2 * (y[i+1]-y[i])\n",
    "        J[i, 3*i]       = -2 * (z[i+1]-z[i])\n",
    "        J[i, 3*(i+1)-2] =  2 * (x[i+1]-x[i])\n",
    "        J[i, 3*(i+1)-1] =  2 * (y[i+1]-y[i])\n",
    "        J[i, 3*(i+1)]   =  2 * (z[i+1]-z[i])\n",
    "    end\n",
    "    nothing\n",
    "end"
   ]
  },
  {
   "cell_type": "code",
   "execution_count": 13,
   "metadata": {},
   "outputs": [
    {
     "data": {
      "text/plain": [
       "projection! (generic function with 1 method)"
      ]
     },
     "execution_count": 13,
     "metadata": {},
     "output_type": "execute_result"
    }
   ],
   "source": [
    "function projection!(f::FilamentCache)\n",
    "    # implement P[:] = I - J'/(J*J')*J in an optimized way to avoid temporaries\n",
    "    J, P, J_JT, J_JT_LDLT, P0 = f.P.J, f.P.P, f.P.J_JT, f.P.J_JT_LDLT, f.P.P0\n",
    "    A_mul_Bt!(J_JT, J, J)\n",
    "    LDLt_inplace!(J_JT_LDLT, J_JT)\n",
    "    A_ldiv_B!(P0, J_JT_LDLT, J)\n",
    "    At_mul_B!(P, P0, J)\n",
    "    subtract_from_identity!(P)\n",
    "    nothing\n",
    "end"
   ]
  },
  {
   "cell_type": "code",
   "execution_count": 14,
   "metadata": {},
   "outputs": [
    {
     "data": {
      "text/plain": [
       "subtract_from_identity! (generic function with 1 method)"
      ]
     },
     "execution_count": 14,
     "metadata": {},
     "output_type": "execute_result"
    }
   ],
   "source": [
    "function subtract_from_identity!(A)\n",
    "    scale!(-1, A)\n",
    "    @inbounds for i in 1 : size(A,1)\n",
    "        A[i,i] += 1\n",
    "    end\n",
    "    nothing\n",
    "end"
   ]
  },
  {
   "cell_type": "code",
   "execution_count": 15,
   "metadata": {},
   "outputs": [
    {
     "data": {
      "text/plain": [
       "LDLt_inplace! (generic function with 1 method)"
      ]
     },
     "execution_count": 15,
     "metadata": {},
     "output_type": "execute_result"
    }
   ],
   "source": [
    "function LDLt_inplace!{T<:Real}(L::Base.LinAlg.LDLt{T,SymTridiagonal{T}}, A::Matrix{T})\n",
    "    n = size(A,1)\n",
    "    dv, ev = L.data.dv, L.data.ev\n",
    "    @inbounds for (i,d) in enumerate(diagind(A))\n",
    "        dv[i] = A[d]\n",
    "    end\n",
    "    @inbounds for (i,d) in enumerate(diagind(A,-1))\n",
    "        ev[i] = A[d]\n",
    "    end\n",
    "    @inbounds @simd for i in 1 : n-1\n",
    "        ev[i]   /= dv[i]\n",
    "        dv[i+1] -= abs2(ev[i]) * dv[i]\n",
    "    end\n",
    "    L\n",
    "end"
   ]
  },
  {
   "cell_type": "code",
   "execution_count": 16,
   "metadata": {},
   "outputs": [],
   "source": [
    "N=20\n",
    "abstols=1./10.^(3:6)\n",
    "reltols=1./10.^(3:6)\n",
    "f = FilamentCache(N, Solver=SolverDiffEq)\n",
    "r0 = initialize!(:StraightX, f)\n",
    "stiffness_matrix!(f)\n",
    "prob = ODEProblem(f, r0, (0., 0.01))\n",
    "\n",
    "setups = [\n",
    "    # low accuracy\n",
    "    #Dict(:alg => CVODE_BDF()),\n",
    "    #Dict(:alg => Rosenbrock23(autodiff=false)),\n",
    "    #Dict(:alg => Rodas4(autodiff=false)),\n",
    "    #Dict(:alg => BS3()),\n",
    "    #Dict(:alg => Tsit5()),\n",
    "    #Dict(:alg => ImplicitEuler(autodiff=false)),\n",
    "    #Dict(:alg => Trapezoid(autodiff=false)),\n",
    "    #Dict(:alg => TRBDF2(autodiff=false)),\n",
    "    Dict(:alg => radau()),\n",
    "    #Dict(:alg => rodas()),\n",
    "    #Dict(:alg => dop853()),\n",
    "\n",
    "    # high accuracy\n",
    "    \"\"\"\n",
    "    Dict(:alg => CVODE_BDF()),\n",
    "    Dict(:alg => Vern7()),\n",
    "    Dict(:alg => Vern9()),\n",
    "    Dict(:alg => TRBDF2(autodiff=false)),\n",
    "    Dict(:alg => Rodas4(autodiff=false)),\n",
    "    Dict(:alg => Rodas5(autodiff=false)),\n",
    "    Dict(:alg => ImplicitEuler(autodiff=false), :dts => 1e-6*ones(length(abstols)), :adaptive => false),\n",
    "    Dict(:alg => radau()),\n",
    "    Dict(:alg => dop853())\n",
    "    \"\"\"\n",
    "];\n",
    "names = [\n",
    "    # low accuracy\n",
    "    #\"CVODE-BDF\",\n",
    "    #\"Rosenbrock23\",\n",
    "    #\"Rodas4\",\n",
    "    #\"BS3\",\n",
    "    #\"Tsit5\",\n",
    "    #\"ImplicitEuler\",\n",
    "    #\"Trapezoid\",\n",
    "    #\"TRBDF2\",\n",
    "    \"radau\",\n",
    "    #\"rodas\",\n",
    "    #\"dop853\",\n",
    "\n",
    "    # high accuracy\n",
    "    \"\"\"\n",
    "    \"CVODE_BDF\",\n",
    "    \"Vern7\",\n",
    "    \"Vern9\",\n",
    "    \"TRBDF2\",\n",
    "    \"Rodas4\",\n",
    "    \"Rodas5\",\n",
    "    \"ImplicitEuler_nonadaptive_1e-6\",\n",
    "    \"radau\",\n",
    "    \"dop853\"\n",
    "    \"\"\"\n",
    "];"
   ]
  },
  {
   "cell_type": "code",
   "execution_count": 17,
   "metadata": {},
   "outputs": [
    {
     "data": {
      "text/plain": [
       "retcode: Success\n",
       "Interpolation: No interpolation\n",
       "t: 9283-element Array{Float64,1}:\n",
       " 0.0       \n",
       " 5.57235e-7\n",
       " 9.58262e-7\n",
       " 1.49324e-6\n",
       " 2.04886e-6\n",
       " 2.69476e-6\n",
       " 3.37975e-6\n",
       " 4.17797e-6\n",
       " 5.04105e-6\n",
       " 6.0132e-6 \n",
       " 7.20029e-6\n",
       " 8.42041e-6\n",
       " 9.78027e-6\n",
       " ⋮         \n",
       " 0.0099892 \n",
       " 0.00999022\n",
       " 0.00999126\n",
       " 0.00999224\n",
       " 0.00999331\n",
       " 0.00999434\n",
       " 0.00999534\n",
       " 0.00999637\n",
       " 0.00999738\n",
       " 0.00999844\n",
       " 0.00999947\n",
       " 0.01      \n",
       "u: 9283-element Array{Array{Float64,1},1}:\n",
       " [0.0, 0.0, 0.0, 0.05, 0.0, 0.0, 0.1, 0.0, 0.0, 0.15  …  0.0, 0.9, 0.0, 0.0, 0.95, 0.0, 0.0, 1.0, 0.0, 0.0]                                                                 \n",
       " [3.59593e-15, -2.01704e-8, 0.0, 0.05, -1.27659e-9, 0.0, 0.1, 5.05306e-10, 0.0, 0.15  …  0.0, 0.9, -5.05306e-10, 0.0, 0.95, 1.27659e-9, 0.0, 1.0, 2.01704e-8, 0.0]          \n",
       " [2.84072e-14, -5.84698e-8, 0.0, 0.05, -5.74405e-9, 0.0, 0.1, 1.97338e-9, 0.0, 0.15  …  0.0, 0.9, -1.97338e-9, 0.0, 0.95, 5.74405e-9, 0.0, 1.0, 5.84698e-8, 0.0]            \n",
       " [1.49834e-13, -1.38789e-7, 0.0, 0.05, -1.88555e-8, 0.0, 0.1, 5.36509e-9, 0.0, 0.15  …  0.0, 0.9, -5.36509e-9, 0.0, 0.95, 1.88555e-8, 0.0, 1.0, 1.38789e-7, 0.0]            \n",
       " [4.82968e-13, -2.56073e-7, 0.0, 0.05, -4.28627e-8, 0.0, 0.1, 9.99828e-9, 0.0, 0.15  …  0.0, 0.9, -9.99828e-9, 0.0, 0.95, 4.28627e-8, 0.0, 1.0, 2.56073e-7, 0.0]            \n",
       " [1.31796e-12, -4.34078e-7, 0.0, 0.05, -8.5685e-8, 0.0, 0.1, 1.57047e-8, 0.0, 0.15  …  0.0, 0.9, -1.57047e-8, 0.0, 0.95, 8.5685e-8, 0.0, 1.0, 4.34078e-7, 0.0]              \n",
       " [3.00168e-12, -6.70097e-7, 0.0, 0.05, -1.49925e-7, 0.0, 0.1, 2.08007e-8, 0.0, 0.15  …  0.0, 0.9, -2.08007e-8, 0.0, 0.95, 1.49925e-7, 0.0, 1.0, 6.70097e-7, 0.0]            \n",
       " [6.4524e-12, -1.00447e-6, 0.0, 0.05, -2.50487e-7, 0.0, 0.1, 2.37947e-8, 0.0, 0.15  …  0.0, 0.9, -2.37947e-8, 0.0, 0.95, 2.50487e-7, 0.0, 1.0, 1.00447e-6, 0.0]             \n",
       " [1.26569e-11, -1.43567e-6, 0.0, 0.05, -3.91458e-7, 0.0, 0.1, 2.15505e-8, 0.0, 0.15  …  0.0, 0.9, -2.15505e-8, 0.0, 0.95, 3.91458e-7, 0.0, 1.0, 1.43567e-6, 0.0]            \n",
       " [2.37492e-11, -2.00549e-6, 0.0, 0.05, -5.91396e-7, 0.0, 0.1, 9.9819e-9, 0.0, 0.15  …  0.0, 0.9, -9.9819e-9, 0.0, 0.95, 5.91396e-7, 0.0, 1.0, 2.00549e-6, 0.0]              \n",
       " [4.5028e-11, -2.81858e-6, 0.0, 0.05, -8.95769e-7, 0.0, 0.1, -2.01274e-8, 0.0, 0.15  …  0.0, 0.9, 2.01274e-8, 0.0, 0.95, 8.95769e-7, 0.0, 1.0, 2.81858e-6, 0.0]             \n",
       " [7.82985e-11, -3.78483e-6, 0.0, 0.05, -1.27853e-6, 0.0, 0.1, -7.25163e-8, 0.0, 0.15  …  0.0, 0.9, 7.25163e-8, 0.0, 0.95, 1.27853e-6, 0.0, 1.0, 3.78483e-6, 0.0]            \n",
       " [1.32611e-10, -5.01327e-6, 0.0, 0.05, -1.78937e-6, 0.0, 0.1, -1.599e-7, 0.0, 0.15  …  0.0, 0.9, 1.599e-7, 0.0, 0.95, 1.78937e-6, 0.0, 1.0, 5.01327e-6, 0.0]                \n",
       " ⋮                                                                                                                                                                          \n",
       " [0.426931, -0.49262, 0.0, 0.427413, -0.442622, 0.0, 0.428872, -0.392644, 0.0, 0.431912  …  0.0, 0.571128, 0.392644, 0.0, 0.572587, 0.442622, 0.0, 0.573069, 0.49262, 0.0]  \n",
       " [0.427027, -0.492634, 0.0, 0.427499, -0.442636, 0.0, 0.428948, -0.392657, 0.0, 0.431978  …  0.0, 0.571052, 0.392657, 0.0, 0.572501, 0.442636, 0.0, 0.572973, 0.492634, 0.0]\n",
       " [0.427124, -0.492648, 0.0, 0.427585, -0.44265, 0.0, 0.429025, -0.392671, 0.0, 0.432045  …  0.0, 0.570975, 0.392671, 0.0, 0.572415, 0.44265, 0.0, 0.572876, 0.492648, 0.0]  \n",
       " [0.427216, -0.492662, 0.0, 0.427668, -0.442664, 0.0, 0.429098, -0.392684, 0.0, 0.432109  …  0.0, 0.570902, 0.392684, 0.0, 0.572332, 0.442664, 0.0, 0.572784, 0.492662, 0.0]\n",
       " [0.427317, -0.492677, 0.0, 0.427758, -0.442679, 0.0, 0.429178, -0.392699, 0.0, 0.432179  …  0.0, 0.570822, 0.392699, 0.0, 0.572242, 0.442679, 0.0, 0.572683, 0.492677, 0.0]\n",
       " [0.427413, -0.492691, 0.0, 0.427845, -0.442693, 0.0, 0.429255, -0.392713, 0.0, 0.432246  …  0.0, 0.570745, 0.392713, 0.0, 0.572155, 0.442693, 0.0, 0.572587, 0.492691, 0.0]\n",
       " [0.427507, -0.492705, 0.0, 0.42793, -0.442706, 0.0, 0.42933, -0.392726, 0.0, 0.432311  …  0.0, 0.57067, 0.392726, 0.0, 0.57207, 0.442706, 0.0, 0.572493, 0.492705, 0.0]    \n",
       " [0.427604, -0.492719, 0.0, 0.428016, -0.44272, 0.0, 0.429407, -0.39274, 0.0, 0.432378  …  0.0, 0.570593, 0.39274, 0.0, 0.571984, 0.44272, 0.0, 0.572396, 0.492719, 0.0]    \n",
       " [0.427699, -0.492733, 0.0, 0.428101, -0.442734, 0.0, 0.429482, -0.392753, 0.0, 0.432444  …  0.0, 0.570518, 0.392753, 0.0, 0.571899, 0.442734, 0.0, 0.572301, 0.492733, 0.0]\n",
       " [0.427798, -0.492747, 0.0, 0.428191, -0.442749, 0.0, 0.429561, -0.392767, 0.0, 0.432512  …  0.0, 0.570439, 0.392767, 0.0, 0.571809, 0.442749, 0.0, 0.572202, 0.492747, 0.0]\n",
       " [0.427895, -0.492761, 0.0, 0.428277, -0.442763, 0.0, 0.429638, -0.392781, 0.0, 0.432579  …  0.0, 0.570362, 0.392781, 0.0, 0.571723, 0.442763, 0.0, 0.572105, 0.492761, 0.0]\n",
       " [0.427944, -0.492768, 0.0, 0.428322, -0.44277, 0.0, 0.429677, -0.392788, 0.0, 0.432614  …  0.0, 0.570323, 0.392788, 0.0, 0.571678, 0.44277, 0.0, 0.572056, 0.492768, 0.0]  "
      ]
     },
     "execution_count": 17,
     "metadata": {},
     "output_type": "execute_result"
    }
   ],
   "source": [
    "sol = solve(prob, Vern9(), reltol=1e-14, abstol=1e-14)\n",
    "test_sol = TestSolution(sol.t, sol.u)"
   ]
  },
  {
   "cell_type": "code",
   "execution_count": 18,
   "metadata": {},
   "outputs": [
    {
     "data": {
      "text/plain": [
       "retcode: Success\n",
       "Interpolation: 1st order linear\n",
       "t: 79-element Array{Float64,1}:\n",
       " 0.0       \n",
       " 1.0e-6    \n",
       " 9.0e-6    \n",
       " 7.3e-5    \n",
       " 0.00030255\n",
       " 0.00071217\n",
       " 0.00106185\n",
       " 0.0013415 \n",
       " 0.00162116\n",
       " 0.0018829 \n",
       " 0.00214463\n",
       " 0.00244662\n",
       " 0.00261444\n",
       " ⋮         \n",
       " 0.00896231\n",
       " 0.00904039\n",
       " 0.00911979\n",
       " 0.00919919\n",
       " 0.00932373\n",
       " 0.00941903\n",
       " 0.00951433\n",
       " 0.00960061\n",
       " 0.00968689\n",
       " 0.00976516\n",
       " 0.00984344\n",
       " 0.01      \n",
       "u: 79-element Array{Array{Float64,1},1}:\n",
       " [0.0, 0.0, 0.0, 0.05, 0.0, 0.0, 0.1, 0.0, 0.0, 0.15  …  0.0, 0.9, 0.0, 0.0, 0.95, 0.0, 0.0, 1.0, 0.0, 0.0]                                                                                \n",
       " [-1.32836e-17, -6.37911e-8, 0.0, 0.05, -6.2712e-9, 0.0, 0.1, 2.24816e-9, 0.0, 0.15  …  0.0, 0.9, -2.24816e-9, 0.0, 0.95, 6.2712e-9, 0.0, 1.0, 6.37911e-8, 0.0]                            \n",
       " [-2.36733e-10, -4.3155e-6, 0.0, 0.05, -1.44866e-6, 0.0, 0.1, -1.12189e-7, 0.0, 0.15  …  0.0, 0.9, 1.12189e-7, 0.0, 0.95, 1.44866e-6, 0.0, 1.0, 4.3155e-6, 0.0]                            \n",
       " [1.07071e-7, -0.000201129, 0.0, 0.0500001, -0.000119647, 0.0, 0.1, -5.70359e-5, 0.0, 0.15  …  0.0, 0.9, 5.70359e-5, 0.0, 0.95, 0.000119647, 0.0, 1.0, 0.000201129, 0.0]                   \n",
       " [1.27171e-5, -0.00248913, 0.0, 0.0500081, -0.00179436, 0.0, 0.100004, -0.00118725, 0.0, 0.150002  …  0.0, 0.899996, 0.00118725, 0.0, 0.949992, 0.00179436, 0.0, 0.999987, 0.00248913, 0.0]\n",
       " [0.00017305, -0.0107432, 0.0, 0.05012, -0.00844307, 0.0, 0.100076, -0.00634415, 0.0, 0.150044  …  0.0, 0.899924, 0.00634415, 0.0, 0.94988, 0.00844307, 0.0, 0.999827, 0.0107432, 0.0]     \n",
       " [0.000579197, -0.0211095, 0.0, 0.0504238, -0.0171663, 0.0, 0.100289, -0.0135093, 0.0, 0.150187  …  0.0, 0.899711, 0.0135093, 0.0, 0.949576, 0.0171663, 0.0, 0.999421, 0.0211095, 0.0]     \n",
       " [0.00118869, -0.0313027, 0.0, 0.0508981, -0.0259039, 0.0, 0.100639, -0.0208518, 0.0, 0.150438  …  0.0, 0.899361, 0.0208518, 0.0, 0.949102, 0.0259039, 0.0, 0.998811, 0.0313027, 0.0]      \n",
       " [0.00214382, -0.0430033, 0.0, 0.0516586, -0.0360389, 0.0, 0.101223, -0.0294764, 0.0, 0.150873  …  0.0, 0.898777, 0.0294764, 0.0, 0.948341, 0.0360389, 0.0, 0.997856, 0.0430033, 0.0]      \n",
       " [0.00342857, -0.0551814, 0.0, 0.0527005, -0.0466643, 0.0, 0.102041, -0.0385954, 0.0, 0.151499  …  0.0, 0.897959, 0.0385954, 0.0, 0.947299, 0.0466643, 0.0, 0.996571, 0.0551814, 0.0]      \n",
       " [0.00516423, -0.0684219, 0.0, 0.0541289, -0.0582782, 0.0, 0.103181, -0.0486248, 0.0, 0.152392  …  0.0, 0.896819, 0.0486248, 0.0, 0.945871, 0.0582782, 0.0, 0.994836, 0.0684219, 0.0]      \n",
       " [0.00781853, -0.084868, 0.0, 0.0563373, -0.0727703, 0.0, 0.104974, -0.0612041, 0.0, 0.153816  …  0.0, 0.895026, 0.0612041, 0.0, 0.943663, 0.0727703, 0.0, 0.992181, 0.084868, 0.0]        \n",
       " [0.00963072, -0.0944896, 0.0, 0.0578573, -0.0812753, 0.0, 0.10622, -0.0686129, 0.0, 0.154817  …  0.0, 0.89378, 0.0686129, 0.0, 0.942143, 0.0812753, 0.0, 0.990369, 0.0944896, 0.0]        \n",
       " ⋮                                                                                                                                                                                         \n",
       " [0.333293, -0.469392, 0.0, 0.343545, -0.420458, 0.0, 0.354737, -0.371713, 0.0, 0.367429  …  0.0, 0.645263, 0.371713, 0.0, 0.656455, 0.420458, 0.0, 0.666707, 0.469392, 0.0]               \n",
       " [0.340181, -0.471774, 0.0, 0.349703, -0.422693, 0.0, 0.360171, -0.373786, 0.0, 0.372145  …  0.0, 0.639829, 0.373786, 0.0, 0.650297, 0.422693, 0.0, 0.659819, 0.471774, 0.0]               \n",
       " [0.34723, -0.4741, 0.0, 0.356007, -0.424883, 0.0, 0.365735, -0.375818, 0.0, 0.376976  …  0.0, 0.634265, 0.375818, 0.0, 0.643993, 0.424883, 0.0, 0.65277, 0.4741, 0.0]                     \n",
       " [0.354323, -0.47632, 0.0, 0.362353, -0.426976, 0.0, 0.371337, -0.377769, 0.0, 0.381843  …  0.0, 0.628663, 0.377769, 0.0, 0.637647, 0.426976, 0.0, 0.645677, 0.47632, 0.0]                 \n",
       " [0.365533, -0.479593, 0.0, 0.372385, -0.430077, 0.0, 0.3802, -0.380661, 0.0, 0.389542  …  0.0, 0.6198, 0.380661, 0.0, 0.627615, 0.430077, 0.0, 0.634467, 0.479593, 0.0]                   \n",
       " [0.374177, -0.481925, 0.0, 0.380125, -0.432293, 0.0, 0.387038, -0.382741, 0.0, 0.395488  …  0.0, 0.612962, 0.382741, 0.0, 0.619875, 0.432293, 0.0, 0.625823, 0.481925, 0.0]               \n",
       " [0.382876, -0.484104, 0.0, 0.387915, -0.434374, 0.0, 0.393925, -0.3847, 0.0, 0.401478  …  0.0, 0.606075, 0.3847, 0.0, 0.612085, 0.434374, 0.0, 0.617124, 0.484104, 0.0]                   \n",
       " [0.390794, -0.485951, 0.0, 0.395009, -0.436151, 0.0, 0.400198, -0.38637, 0.0, 0.406934  …  0.0, 0.599802, 0.38637, 0.0, 0.604991, 0.436151, 0.0, 0.609206, 0.485951, 0.0]                 \n",
       " [0.398752, -0.487664, 0.0, 0.402141, -0.437802, 0.0, 0.406506, -0.387941, 0.0, 0.412426  …  0.0, 0.593494, 0.387941, 0.0, 0.597859, 0.437802, 0.0, 0.601248, 0.487664, 0.0]               \n",
       " [0.406005, -0.489108, 0.0, 0.408643, -0.439201, 0.0, 0.412259, -0.389278, 0.0, 0.417435  …  0.0, 0.587741, 0.389278, 0.0, 0.591357, 0.439201, 0.0, 0.593995, 0.489108, 0.0]               \n",
       " [0.413287, -0.490445, 0.0, 0.415173, -0.440505, 0.0, 0.418038, -0.390532, 0.0, 0.422468  …  0.0, 0.581962, 0.390532, 0.0, 0.584827, 0.440505, 0.0, 0.586713, 0.490445, 0.0]               \n",
       " [0.427931, -0.492799, 0.0, 0.428311, -0.442825, 0.0, 0.429669, -0.392787, 0.0, 0.432604  …  0.0, 0.570331, 0.392787, 0.0, 0.571689, 0.442825, 0.0, 0.572069, 0.492799, 0.0]               "
      ]
     },
     "execution_count": 18,
     "metadata": {},
     "output_type": "execute_result"
    }
   ],
   "source": [
    "# manually check that the solver actually works\n",
    "sol2 = solve(prob, radau(), reltol=1e-5, abstol=1e-5)"
   ]
  },
  {
   "cell_type": "code",
   "execution_count": 25,
   "metadata": {
    "scrolled": true
   },
   "outputs": [
    {
     "ename": "LoadError",
     "evalue": "\u001b[91mMethodError: no method matching haskey(::String, ::Symbol)\u001b[0m\nClosest candidates are:\n  haskey(\u001b[91m::Plots.Axis\u001b[39m, ::Symbol) at C:\\Users\\admin\\.julia\\v0.6\\Plots\\src\\axes.jl:120\n  haskey(\u001b[91m::PyCall.PyObject\u001b[39m, ::Union{AbstractString, Symbol}) at C:\\Users\\admin\\.julia\\v0.6\\PyCall\\src\\PyCall.jl:267\n  haskey(\u001b[91m::PyPlot.Figure\u001b[39m, ::Any) at C:\\Users\\admin\\.julia\\v0.6\\PyPlot\\src\\PyPlot.jl:70\n  ...\u001b[39m",
     "output_type": "error",
     "traceback": [
      "\u001b[91mMethodError: no method matching haskey(::String, ::Symbol)\u001b[0m\nClosest candidates are:\n  haskey(\u001b[91m::Plots.Axis\u001b[39m, ::Symbol) at C:\\Users\\admin\\.julia\\v0.6\\Plots\\src\\axes.jl:120\n  haskey(\u001b[91m::PyCall.PyObject\u001b[39m, ::Union{AbstractString, Symbol}) at C:\\Users\\admin\\.julia\\v0.6\\PyCall\\src\\PyCall.jl:267\n  haskey(\u001b[91m::PyPlot.Figure\u001b[39m, ::Any) at C:\\Users\\admin\\.julia\\v0.6\\PyPlot\\src\\PyPlot.jl:70\n  ...\u001b[39m",
      "",
      "Stacktrace:",
      " [1] \u001b[1m#WorkPrecisionSet#13\u001b[22m\u001b[22m\u001b[1m(\u001b[22m\u001b[22m::Int64, ::Bool, ::Array{String,1}, ::DiffEqDevTools.TestSolution{Float64,2,false,Array{Float64,1},Array{Array{Float64,1},1},Void}, ::Array{Any,1}, ::Type{T} where T, ::DiffEqBase.ODEProblem{Array{Float64,1},Float64,true,FilamentCache{FerromagneticContinuous,NoHydroProjectionCache,DiffEqSolverCache},Void,UniformScaling{Int64},DiffEqBase.StandardODEProblem}, ::Array{Float64,1}, ::Array{Float64,1}, ::Array{Any,1}\u001b[1m)\u001b[22m\u001b[22m at \u001b[1mC:\\Users\\admin\\.julia\\v0.6\\DiffEqDevTools\\src\\benchmark.jl:302\u001b[22m\u001b[22m",
      " [2] \u001b[1m(::Core.#kw#Type)\u001b[22m\u001b[22m\u001b[1m(\u001b[22m\u001b[22m::Array{Any,1}, ::Type{DiffEqDevTools.WorkPrecisionSet}, ::DiffEqBase.ODEProblem{Array{Float64,1},Float64,true,FilamentCache{FerromagneticContinuous,NoHydroProjectionCache,DiffEqSolverCache},Void,UniformScaling{Int64},DiffEqBase.StandardODEProblem}, ::Array{Float64,1}, ::Array{Float64,1}, ::Array{Any,1}\u001b[1m)\u001b[22m\u001b[22m at \u001b[1m.\\<missing>:0\u001b[22m\u001b[22m",
      " [3] \u001b[1minclude_string\u001b[22m\u001b[22m\u001b[1m(\u001b[22m\u001b[22m::String, ::String\u001b[1m)\u001b[22m\u001b[22m at \u001b[1m.\\loading.jl:515\u001b[22m\u001b[22m"
     ]
    }
   ],
   "source": [
    "wp = WorkPrecisionSet(prob, abstols, reltols, setups; names=names, appxsol=test_sol, maxiters=Int(1e6))"
   ]
  },
  {
   "cell_type": "code",
   "execution_count": 24,
   "metadata": {},
   "outputs": [
    {
     "data": {
      "text/plain": [
       "Plots.GRBackend()"
      ]
     },
     "execution_count": 24,
     "metadata": {},
     "output_type": "execute_result"
    }
   ],
   "source": [
    "using Plots; gr()"
   ]
  },
  {
   "cell_type": "code",
   "execution_count": 21,
   "metadata": {},
   "outputs": [
    {
     "ename": "LoadError",
     "evalue": "\u001b[91mUndefVarError: wp not defined\u001b[39m",
     "output_type": "error",
     "traceback": [
      "\u001b[91mUndefVarError: wp not defined\u001b[39m",
      "",
      "Stacktrace:",
      " [1] \u001b[1minclude_string\u001b[22m\u001b[22m\u001b[1m(\u001b[22m\u001b[22m::String, ::String\u001b[1m)\u001b[22m\u001b[22m at \u001b[1m.\\loading.jl:515\u001b[22m\u001b[22m"
     ]
    }
   ],
   "source": [
    "plot(wp)"
   ]
  },
  {
   "cell_type": "code",
   "execution_count": null,
   "metadata": {
    "collapsed": true
   },
   "outputs": [],
   "source": []
  }
 ],
 "metadata": {
  "kernelspec": {
   "display_name": "Julia 0.6.0",
   "language": "julia",
   "name": "julia-0.6"
  },
  "language_info": {
   "file_extension": ".jl",
   "mimetype": "application/julia",
   "name": "julia",
   "version": "0.6.0"
  }
 },
 "nbformat": 4,
 "nbformat_minor": 2
}
