{
 "cells": [
  {
   "cell_type": "markdown",
   "metadata": {},
   "source": [
    "In this notebook we will study the energy conservation properties of several high-order methods for the Hénon–Heiles system. We will se how the energy error behaves at very thight tolerances and how different techniques such as using symplectic solvers or manifold projections benchmark against each other.\n",
    "The Hamiltonian for this system is given by:\n",
    "$$\n",
    "\\mathcal{H}=\\frac{1}{2}(p_1^2 + p_2^2) + \\frac{1}{2}\\left(q_1^2 + q_2^2 + 2q_1^2 q_2 - \\frac{2}{3}q_2^3\\right)\n",
    "$$"
   ]
  },
  {
   "cell_type": "code",
   "execution_count": 1,
   "metadata": {
    "inputHidden": false,
    "outputHidden": false
   },
   "outputs": [],
   "source": [
    "using DifferentialEquations, Plots\n",
    "using TaylorIntegration\n",
    "pyplot()\n",
    "\n",
    "T(p) = 1//2 * sum(p.^2)\n",
    "V(q) = 1//2 * (q[1]^2 + q[2]^2 + 2q[1]^2 * q[2]- 2//3 * q[2]^3)\n",
    "H(q, p) = T(p) + V(q)\n",
    "\n",
    "function q̇(t, q, p, dq)\n",
    "    dq[1] = p[1]\n",
    "    dq[2] = p[2]\n",
    "end\n",
    "\n",
    "function ṗ(t, q, p, dp)\n",
    "    dp[1] = -q[1] * (1 + 2q[2])\n",
    "    dp[2] = -q[2] - (q[1]^2 - q[2]^2)\n",
    "end\n",
    "\n",
    "const q0 = [0.1, 0.]\n",
    "const p0 = [0., 0.5]\n",
    "const E = H(q0, p0)\n",
    "\n",
    "function g(u, resid)\n",
    "    resid[1,1] = H(u[1,:], u[2,:]) - E\n",
    "    resid[1,2] = 0\n",
    "    resid[2,:] .= 0\n",
    "end\n",
    "\n",
    "const cb = ManifoldProjection(g, nlopts=Dict(:ftol=>1e-13));"
   ]
  },
  {
   "cell_type": "markdown",
   "metadata": {},
   "source": [
    "For the comparison we will use the following function"
   ]
  },
  {
   "cell_type": "code",
   "execution_count": 2,
   "metadata": {
    "inputHidden": false,
    "outputHidden": false
   },
   "outputs": [
    {
     "data": {
      "text/plain": [
       "compare (generic function with 1 method)"
      ]
     },
     "execution_count": 2,
     "metadata": {},
     "output_type": "execute_result"
    }
   ],
   "source": [
    "energy_err(t,u1,u2,u3,u4) = (t, H([u1,u2], [u3,u4]) - E)\n",
    "energy_err(sol) = [abs.(H([sol[1,j], sol[2,j]], [sol[3,j], sol[4,j]]) - E) for j=1:size(sol,2)]\n",
    "\n",
    "function compare(; tmax=1e2)\n",
    "    prob = DynamicalODEProblem(q̇, ṗ, q0, p0, (0., tmax))\n",
    "    @time sol1 = solve(prob, Vern9(), callback=cb, abstol=1e-14, reltol=1e-14)\n",
    "    @time sol2 = solve(prob, KahanLi8(), dt=1e-2)\n",
    "    @time sol3 = solve(prob, Vern9(), abstol=1e-14, reltol=1e-14)\n",
    "    @time sol4 = solve(prob, DPRKN12(), abstol=1e-14, reltol=1e-14)\n",
    "    @time sol5 = solve(prob, TaylorMethod(50), abstol=1e-20)\n",
    "    \n",
    "    println(\"Vern9 + ManifoldProjection max energy error: \", maximum(energy_err(sol1)))\n",
    "    println(\"KahanLi8 max energy error: \",                   maximum(energy_err(sol2)))\n",
    "    println(\"Vern9 max energy error: \",                      maximum(energy_err(sol3)))\n",
    "    println(\"DPRKN12 max energy error: \",                    maximum(energy_err(sol4)))\n",
    "    println(\"TaylorMethod max energy error: \",               maximum(energy_err(sol5)))\n",
    "    \n",
    "    plot(xlabel=\"t\", ylabel=\"Energy error\")\n",
    "    plot!(sol1, vars=(energy_err, 0,1,2,3,4), label=\"Vern9 + ManifoldProjection\")\n",
    "    plot!(sol2, vars=(energy_err, 0,1,2,3,4), label=\"KahanLi8\")\n",
    "    plot!(sol3, vars=(energy_err, 0,1,2,3,4), label=\"Vern9\")\n",
    "    plot!(sol4, vars=(energy_err, 0,1,2,3,4), label=\"DPRKN12\")\n",
    "    plot!(sol5, vars=(energy_err, 0,1,2,3,4), label=\"TaylorMethod\")\n",
    "end"
   ]
  },
  {
   "cell_type": "markdown",
   "metadata": {},
   "source": [
    "Note: The `NLsolve` call used by `ManifoldProjection` was modified to use `ftol=1e-13` in order to obtain a very low energy error. "
   ]
  },
  {
   "cell_type": "code",
   "execution_count": 4,
   "metadata": {
    "inputHidden": false,
    "outputHidden": false
   },
   "outputs": [
    {
     "name": "stdout",
     "output_type": "stream",
     "text": [
      " 54.586408 seconds (300.84 M allocations: 9.440 GiB, 3.26% gc time)\n",
      "  0.020354 seconds (190.20 k allocations: 10.318 MiB, 44.72% gc time)\n",
      "  0.036949 seconds (1.58 M allocations: 26.838 MiB, 33.37% gc time)\n",
      "  0.000726 seconds (9.00 k allocations: 407.922 KiB)\n"
     ]
    },
    {
     "ename": "LoadError",
     "evalue": "\u001b[91mMethodError: no method matching vec(::Tuple{Array{Float64,1},Array{Float64,1}})\u001b[0m\nClosest candidates are:\n  vec(\u001b[91m::SparseMatrixCSC\u001b[39m) at sparse/sparsematrix.jl:384\n  vec(\u001b[91m::AbstractSparseArray{Tv,Ti,1} where Ti where Tv\u001b[39m) at sparse/sparsevector.jl:824\n  vec(\u001b[91m::StaticArrays.StaticArray\u001b[39m) at /home/user/.julia/v0.6/StaticArrays/src/abstractarray.jl:122\n  ...\u001b[39m",
     "output_type": "error",
     "traceback": [
      "\u001b[91mMethodError: no method matching vec(::Tuple{Array{Float64,1},Array{Float64,1}})\u001b[0m\nClosest candidates are:\n  vec(\u001b[91m::SparseMatrixCSC\u001b[39m) at sparse/sparsematrix.jl:384\n  vec(\u001b[91m::AbstractSparseArray{Tv,Ti,1} where Ti where Tv\u001b[39m) at sparse/sparsevector.jl:824\n  vec(\u001b[91m::StaticArrays.StaticArray\u001b[39m) at /home/user/.julia/v0.6/StaticArrays/src/abstractarray.jl:122\n  ...\u001b[39m",
      "",
      "Stacktrace:",
      " [1] \u001b[1m#solve#9\u001b[22m\u001b[22m\u001b[1m(\u001b[22m\u001b[22m::Bool, ::Float64, ::Bool, ::Bool, ::Int64, ::Void, ::Array{Any,1}, ::Function, ::DiffEqBase.ODEProblem{Tuple{Array{Float64,1},Array{Float64,1}},Float64,true,DiffEqBase.DynamicalODEFunction{true,#q̇,#ṗ},Void,UniformScaling{Int64},DiffEqBase.StandardODEProblem}, ::TaylorIntegration.TaylorMethod, ::Array{Any,1}, ::Array{Any,1}, ::Array{Any,1}\u001b[1m)\u001b[22m\u001b[22m at \u001b[1m/home/user/.julia/v0.6/TaylorIntegration/src/common.jl:30\u001b[22m\u001b[22m",
      " [2] \u001b[1m(::DiffEqBase.#kw##solve)\u001b[22m\u001b[22m\u001b[1m(\u001b[22m\u001b[22m::Array{Any,1}, ::DiffEqBase.#solve, ::DiffEqBase.ODEProblem{Tuple{Array{Float64,1},Array{Float64,1}},Float64,true,DiffEqBase.DynamicalODEFunction{true,#q̇,#ṗ},Void,UniformScaling{Int64},DiffEqBase.StandardODEProblem}, ::TaylorIntegration.TaylorMethod, ::Array{Any,1}, ::Array{Any,1}, ::Array{Any,1}\u001b[1m)\u001b[22m\u001b[22m at \u001b[1m./<missing>:0\u001b[22m\u001b[22m (repeats 2 times)",
      " [3] \u001b[1mmacro expansion\u001b[22m\u001b[22m at \u001b[1m./util.jl:237\u001b[22m\u001b[22m [inlined]",
      " [4] \u001b[1m#compare#5\u001b[22m\u001b[22m\u001b[1m(\u001b[22m\u001b[22m::Float64, ::Function\u001b[1m)\u001b[22m\u001b[22m at \u001b[1m./In[2]:10\u001b[22m\u001b[22m",
      " [5] \u001b[1m(::#kw##compare)\u001b[22m\u001b[22m\u001b[1m(\u001b[22m\u001b[22m::Array{Any,1}, ::#compare\u001b[1m)\u001b[22m\u001b[22m at \u001b[1m./<missing>:0\u001b[22m\u001b[22m",
      " [6] \u001b[1minclude_string\u001b[22m\u001b[22m\u001b[1m(\u001b[22m\u001b[22m::String, ::String\u001b[1m)\u001b[22m\u001b[22m at \u001b[1m./loading.jl:522\u001b[22m\u001b[22m"
     ]
    }
   ],
   "source": [
    "compare(tmax=1e2)"
   ]
  },
  {
   "cell_type": "markdown",
   "metadata": {},
   "source": [
    "Because the energy error for the `Vern9` method is lower than the tolerance for `NLsolve`, this method and the `ManifoldProjection` version produce identical results."
   ]
  },
  {
   "cell_type": "code",
   "execution_count": null,
   "metadata": {
    "inputHidden": false,
    "outputHidden": false
   },
   "outputs": [],
   "source": [
    "compare(tmax=1e3)"
   ]
  },
  {
   "cell_type": "code",
   "execution_count": null,
   "metadata": {
    "inputHidden": false,
    "outputHidden": false
   },
   "outputs": [],
   "source": [
    "compare(tmax=1e4)"
   ]
  },
  {
   "cell_type": "code",
   "execution_count": null,
   "metadata": {
    "inputHidden": false,
    "outputHidden": false
   },
   "outputs": [],
   "source": [
    "compare(tmax=5e4)"
   ]
  },
  {
   "cell_type": "markdown",
   "metadata": {
    "collapsed": true,
    "inputHidden": false,
    "outputHidden": false
   },
   "source": [
    "We can see that as the simulation time increases, the energy error increases. For this particular example the energy error for all the methods is comparable, but for smaller simulation times, if a highly accurate solution is required, the symplectic method is not recommended as its energy error fluctuations are relatively larger.\n",
    "The above plot shows how the `Vern9` method and the `ManifoldProjection` version start to differ exactly when the energy error reaches the chosen tolerance for `NLsolve` (`ftol=1e-13`)."
   ]
  },
  {
   "cell_type": "code",
   "execution_count": null,
   "metadata": {
    "collapsed": true
   },
   "outputs": [],
   "source": []
  }
 ],
 "metadata": {
  "kernel_info": {
   "name": "julia-0.6"
  },
  "kernelspec": {
   "display_name": "Julia 0.6.2",
   "language": "julia",
   "name": "julia-0.6"
  },
  "language_info": {
   "file_extension": ".jl",
   "mimetype": "application/julia",
   "name": "julia",
   "version": "0.6.2"
  },
  "nteract": {
   "version": "0.2.0"
  }
 },
 "nbformat": 4,
 "nbformat_minor": 4
}
