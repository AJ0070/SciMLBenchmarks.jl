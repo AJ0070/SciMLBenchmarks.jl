{
 "cells": [
  {
   "cell_type": "markdown",
   "metadata": {},
   "source": [
    "# Runge-Kutta Benchmarks on Linear ODEs\n",
    "\n",
    "This notebook is to document benchmarks between the Runge-Kutta solvers implemented in Julia. These are the implementations native to DifferentialEquations.jl, ODE.jl, and those the classic Hairer methods provided by ODEInterface.jl. We will use DifferentialEquations.jl's benchmarking framework for performing these tests. Since DifferentialEquations.jl wraps all of these functions, we can simply use the same wrapper to judge all of the algorithms equally. First, let's define our problems:"
   ]
  },
  {
   "cell_type": "code",
   "execution_count": 1,
   "metadata": {
    "collapsed": false
   },
   "outputs": [],
   "source": [
    "using DifferentialEquations\n",
    "\n",
    "# Linear ODE\n",
    "f = (t,u) -> (1.01*u)\n",
    "analytic = (t,u₀) -> u₀*exp(1.01*t)\n",
    "probnum = ODEProblem(f,1/2,analytic=analytic)\n",
    "\n",
    "# 2D Linear ODE\n",
    "f = (t,u,du) -> begin\n",
    "  for i in 1:length(u)\n",
    "    du[i] = 1.01*u[i]\n",
    "  end\n",
    "end\n",
    "analytic = (t,u₀) -> u₀*exp(1.01*t)\n",
    "prob = ODEProblem(f,rand(100,100),analytic=analytic)\n",
    "\n",
    "tspan = [0,1];"
   ]
  },
  {
   "cell_type": "markdown",
   "metadata": {},
   "source": [
    "Here, `probnum` is a simply the 1-dimensional linear ODE, and `prob` is a 100x100 matrix of linear ODEs.\n",
    "\n",
    "Although  the linear ODE may be the most \"basic\" case, the linear ODE on [0,10] has some interesting qualities. Since it rises so fast in the end, most of the error is accumulated there. However, error from earlier is compounded in later stages. Therefore, in order for an algorithm to achieve low error, it has to be able to evenly distribute its error (in percentage) about the whole problem. Thus it is a good test of the ability for the adaptivity algorithm to control error globally. Also, the small time it takes for the actual function calculations better highlights the differences between implementations. Lastly, the steep rise in the end can be a problem for methods trying to scrape by with higher error but faster speeds. This means that lower order methods tend to get trapped, but too high of an order simply costs too much. Who will do best? Let's see what we get!\n",
    "\n",
    "## First, A Choice\n",
    "\n",
    "Note that DifferentialEquations.jl by default stores more information than the other algorithms. This is for the continuous output that is allowed via `sol(t)`. To make the tests fair, we turn this off for the tests.\n",
    "\n",
    "## RK4\n",
    "\n",
    "To use the suite, we simply define the setups we want to run on a problem, and then call the shootout function. Let's start by testing the RK4 implementations on probnum. RK4 algorithms are fixed timestep, and so by choosing the same timestep, we should arrive at around the same error (sans numerical truncation), meaning this is a good test of how efficient the most basic implementaions are. Since RK4 is a relatively simple algorithm, the differences shouldn't be too dramatic. Here we will test DifferentialEquations' native `:RK4` vs the implementation `:ode4` from ODE.jl."
   ]
  },
  {
   "cell_type": "code",
   "execution_count": 68,
   "metadata": {
    "collapsed": false
   },
   "outputs": [
    {
     "data": {
      "text/plain": [
       "Winner: RK4 Save End\n",
       "EffRatios: [2.03843,1.8663,1.0,3.40863]\n"
      ]
     },
     "execution_count": 68,
     "metadata": {},
     "output_type": "execute_result"
    }
   ],
   "source": [
    "setups = [Dict(:alg=>:RK4);Dict(:alg=>:RK4,:dense=>false);Dict(:alg=>:RK4,:dense=>false,:save_timeseries=>false);Dict(:alg=>:ode4)]\n",
    "names = [\"RK4 Continuous\";\"RK4 Non-Dense\";\"RK4 Save End\";\"ode4\"]\n",
    "shoot = ode_shootout(probnum,tspan,setups;Δt=1/2^(6),names=names)"
   ]
  },
  {
   "cell_type": "markdown",
   "metadata": {},
   "source": [
    "Here, we define:\n",
    "\n",
    "$$ Efficiency = \\frac{1}{Error \\times Time} $$\n",
    "\n",
    "Thus if an algorithm results in less error or faster runtimes, it's calculated as more efficient. These results show that DifferentialEquations' `:RK4` is 1.75x as efficient as ODE.jl's `:ode4`. We can get more information by printing the results:"
   ]
  },
  {
   "cell_type": "code",
   "execution_count": 69,
   "metadata": {
    "collapsed": false
   },
   "outputs": [
    {
     "name": "stdout",
     "output_type": "stream",
     "text": [
      "Names: String[\"RK4 Continuous\",\"RK4 Non-Dense\",\"RK4 Save End\",\"ode4\"], Winner: RK4 Save End\n",
      "Efficiencies: [3.38802e12,3.70049e12,6.90624e12,2.0261e12]\n",
      "EffRatios: [2.03843,1.8663,1.0,3.40863]\n",
      "Times: [0.000417303,0.000382066,0.000204718,0.000697806]\n",
      "Errors: [7.07298e-10,7.07298e-10,7.07298e-10,7.073e-10]\n"
     ]
    }
   ],
   "source": [
    "print(shoot)"
   ]
  },
  {
   "cell_type": "markdown",
   "metadata": {},
   "source": [
    "This shows that the resulting error was essentialy the same, but `:RK4` ran faster ~4x faster. This shows how the DifferentialEquations.jl algorithms are well-optimized, and even the non-multithreaded versions can beat other other Julia implmentations. This is by default a mean of 20 runs and is thus quite stable result. A plot recipe is provided to plot the efficiencies together:"
   ]
  },
  {
   "cell_type": "code",
   "execution_count": 70,
   "metadata": {
    "collapsed": false
   },
   "outputs": [
    {
     "data": {
      "text/html": [
       "<?xml version=\"1.0\" encoding=\"utf-8\"?>\n",
       "<svg xmlns=\"http://www.w3.org/2000/svg\" xmlns:xlink=\"http://www.w3.org/1999/xlink\" width=\"600\" height=\"400\" viewBox=\"0 0 600 400\">\n",
       "<defs>\n",
       "  <clipPath id=\"clip00\">\n",
       "    <rect x=\"0\" y=\"0\" width=\"600\" height=\"400\"/>\n",
       "  </clipPath>\n",
       "</defs>\n",
       "<polygon clip-path=\"url(#clip00)\" points=\"\n",
       "0,400 600,400 600,0 0,0 \n",
       "  \" fill=\"#ffffff\" fill-opacity=\"1\"/>\n",
       "<defs>\n",
       "  <clipPath id=\"clip01\">\n",
       "    <rect x=\"120\" y=\"0\" width=\"421\" height=\"400\"/>\n",
       "  </clipPath>\n",
       "</defs>\n",
       "<polygon clip-path=\"url(#clip00)\" points=\"\n",
       "50.7108,361.8 596.063,361.8 596.063,3.93701 50.7108,3.93701 \n",
       "  \" fill=\"#ffffff\" fill-opacity=\"1\"/>\n",
       "<defs>\n",
       "  <clipPath id=\"clip02\">\n",
       "    <rect x=\"50\" y=\"3\" width=\"546\" height=\"358\"/>\n",
       "  </clipPath>\n",
       "</defs>\n",
       "<polyline clip-path=\"url(#clip02)\" style=\"stroke:#00002d; stroke-width:0.8; stroke-opacity:0.5; fill:none\" stroke-dasharray=\"1, 2\" points=\"\n",
       "  118.88,356.432 118.88,9.30495 \n",
       "  \"/>\n",
       "<polyline clip-path=\"url(#clip02)\" style=\"stroke:#00002d; stroke-width:0.8; stroke-opacity:0.5; fill:none\" stroke-dasharray=\"1, 2\" points=\"\n",
       "  255.218,356.432 255.218,9.30495 \n",
       "  \"/>\n",
       "<polyline clip-path=\"url(#clip02)\" style=\"stroke:#00002d; stroke-width:0.8; stroke-opacity:0.5; fill:none\" stroke-dasharray=\"1, 2\" points=\"\n",
       "  391.556,356.432 391.556,9.30495 \n",
       "  \"/>\n",
       "<polyline clip-path=\"url(#clip02)\" style=\"stroke:#00002d; stroke-width:0.8; stroke-opacity:0.5; fill:none\" stroke-dasharray=\"1, 2\" points=\"\n",
       "  527.894,356.432 527.894,9.30495 \n",
       "  \"/>\n",
       "<polyline clip-path=\"url(#clip02)\" style=\"stroke:#00002d; stroke-width:0.8; stroke-opacity:0.5; fill:none\" stroke-dasharray=\"1, 2\" points=\"\n",
       "  58.8911,361.8 587.883,361.8 \n",
       "  \"/>\n",
       "<polyline clip-path=\"url(#clip02)\" style=\"stroke:#00002d; stroke-width:0.8; stroke-opacity:0.5; fill:none\" stroke-dasharray=\"1, 2\" points=\"\n",
       "  58.8911,258.165 587.883,258.165 \n",
       "  \"/>\n",
       "<polyline clip-path=\"url(#clip02)\" style=\"stroke:#00002d; stroke-width:0.8; stroke-opacity:0.5; fill:none\" stroke-dasharray=\"1, 2\" points=\"\n",
       "  58.8911,154.531 587.883,154.531 \n",
       "  \"/>\n",
       "<polyline clip-path=\"url(#clip02)\" style=\"stroke:#00002d; stroke-width:0.8; stroke-opacity:0.5; fill:none\" stroke-dasharray=\"1, 2\" points=\"\n",
       "  58.8911,50.896 587.883,50.896 \n",
       "  \"/>\n",
       "<polyline clip-path=\"url(#clip02)\" style=\"stroke:#00002d; stroke-width:0.8; stroke-opacity:1; fill:none\" points=\"\n",
       "  50.7108,361.8 596.063,361.8 \n",
       "  \"/>\n",
       "<polyline clip-path=\"url(#clip02)\" style=\"stroke:#00002d; stroke-width:0.8; stroke-opacity:1; fill:none\" points=\"\n",
       "  50.7108,3.93701 596.063,3.93701 \n",
       "  \"/>\n",
       "<polyline clip-path=\"url(#clip02)\" style=\"stroke:#00002d; stroke-width:0.8; stroke-opacity:1; fill:none\" points=\"\n",
       "  118.88,361.8 118.88,356.432 \n",
       "  \"/>\n",
       "<polyline clip-path=\"url(#clip02)\" style=\"stroke:#00002d; stroke-width:0.8; stroke-opacity:1; fill:none\" points=\"\n",
       "  118.88,3.93701 118.88,9.30495 \n",
       "  \"/>\n",
       "<polyline clip-path=\"url(#clip02)\" style=\"stroke:#00002d; stroke-width:0.8; stroke-opacity:1; fill:none\" points=\"\n",
       "  255.218,361.8 255.218,356.432 \n",
       "  \"/>\n",
       "<polyline clip-path=\"url(#clip02)\" style=\"stroke:#00002d; stroke-width:0.8; stroke-opacity:1; fill:none\" points=\"\n",
       "  255.218,3.93701 255.218,9.30495 \n",
       "  \"/>\n",
       "<polyline clip-path=\"url(#clip02)\" style=\"stroke:#00002d; stroke-width:0.8; stroke-opacity:1; fill:none\" points=\"\n",
       "  391.556,361.8 391.556,356.432 \n",
       "  \"/>\n",
       "<polyline clip-path=\"url(#clip02)\" style=\"stroke:#00002d; stroke-width:0.8; stroke-opacity:1; fill:none\" points=\"\n",
       "  391.556,3.93701 391.556,9.30495 \n",
       "  \"/>\n",
       "<polyline clip-path=\"url(#clip02)\" style=\"stroke:#00002d; stroke-width:0.8; stroke-opacity:1; fill:none\" points=\"\n",
       "  527.894,361.8 527.894,356.432 \n",
       "  \"/>\n",
       "<polyline clip-path=\"url(#clip02)\" style=\"stroke:#00002d; stroke-width:0.8; stroke-opacity:1; fill:none\" points=\"\n",
       "  527.894,3.93701 527.894,9.30495 \n",
       "  \"/>\n",
       "<polyline clip-path=\"url(#clip02)\" style=\"stroke:#00002d; stroke-width:0.8; stroke-opacity:1; fill:none\" points=\"\n",
       "  50.7108,361.8 50.7108,3.93701 \n",
       "  \"/>\n",
       "<polyline clip-path=\"url(#clip02)\" style=\"stroke:#00002d; stroke-width:0.8; stroke-opacity:1; fill:none\" points=\"\n",
       "  596.063,361.8 596.063,3.93701 \n",
       "  \"/>\n",
       "<polyline clip-path=\"url(#clip02)\" style=\"stroke:#00002d; stroke-width:0.8; stroke-opacity:1; fill:none\" points=\"\n",
       "  50.7108,361.8 58.8911,361.8 \n",
       "  \"/>\n",
       "<polyline clip-path=\"url(#clip02)\" style=\"stroke:#00002d; stroke-width:0.8; stroke-opacity:1; fill:none\" points=\"\n",
       "  596.063,361.8 587.883,361.8 \n",
       "  \"/>\n",
       "<polyline clip-path=\"url(#clip02)\" style=\"stroke:#00002d; stroke-width:0.8; stroke-opacity:1; fill:none\" points=\"\n",
       "  50.7108,258.165 58.8911,258.165 \n",
       "  \"/>\n",
       "<polyline clip-path=\"url(#clip02)\" style=\"stroke:#00002d; stroke-width:0.8; stroke-opacity:1; fill:none\" points=\"\n",
       "  596.063,258.165 587.883,258.165 \n",
       "  \"/>\n",
       "<polyline clip-path=\"url(#clip02)\" style=\"stroke:#00002d; stroke-width:0.8; stroke-opacity:1; fill:none\" points=\"\n",
       "  50.7108,154.531 58.8911,154.531 \n",
       "  \"/>\n",
       "<polyline clip-path=\"url(#clip02)\" style=\"stroke:#00002d; stroke-width:0.8; stroke-opacity:1; fill:none\" points=\"\n",
       "  596.063,154.531 587.883,154.531 \n",
       "  \"/>\n",
       "<polyline clip-path=\"url(#clip02)\" style=\"stroke:#00002d; stroke-width:0.8; stroke-opacity:1; fill:none\" points=\"\n",
       "  50.7108,50.896 58.8911,50.896 \n",
       "  \"/>\n",
       "<polyline clip-path=\"url(#clip02)\" style=\"stroke:#00002d; stroke-width:0.8; stroke-opacity:1; fill:none\" points=\"\n",
       "  596.063,50.896 587.883,50.896 \n",
       "  \"/>\n",
       "<g clip-path=\"url(#clip00)\">\n",
       "<text style=\"fill:#00002d; fill-opacity:1; font-family:Arial,Helvetica Neue,Helvetica,sans-serif; font-size:12; text-anchor:middle;\" transform=\"rotate(0, 118.88, 378.6)\" x=\"118.88\" y=\"378.6\">RK4 Continuous</text>\n",
       "</g>\n",
       "<g clip-path=\"url(#clip00)\">\n",
       "<text style=\"fill:#00002d; fill-opacity:1; font-family:Arial,Helvetica Neue,Helvetica,sans-serif; font-size:12; text-anchor:middle;\" transform=\"rotate(0, 255.218, 378.6)\" x=\"255.218\" y=\"378.6\">RK4 Non-Dense</text>\n",
       "</g>\n",
       "<g clip-path=\"url(#clip00)\">\n",
       "<text style=\"fill:#00002d; fill-opacity:1; font-family:Arial,Helvetica Neue,Helvetica,sans-serif; font-size:12; text-anchor:middle;\" transform=\"rotate(0, 391.556, 378.6)\" x=\"391.556\" y=\"378.6\">RK4 Save End</text>\n",
       "</g>\n",
       "<g clip-path=\"url(#clip00)\">\n",
       "<text style=\"fill:#00002d; fill-opacity:1; font-family:Arial,Helvetica Neue,Helvetica,sans-serif; font-size:12; text-anchor:middle;\" transform=\"rotate(0, 527.894, 378.6)\" x=\"527.894\" y=\"378.6\">ode4</text>\n",
       "</g>\n",
       "<g clip-path=\"url(#clip00)\">\n",
       "<text style=\"fill:#00002d; fill-opacity:1; font-family:Arial,Helvetica Neue,Helvetica,sans-serif; font-size:12; text-anchor:end;\" transform=\"rotate(0, 44.7108, 366.3)\" x=\"44.7108\" y=\"366.3\">0</text>\n",
       "</g>\n",
       "<g clip-path=\"url(#clip00)\">\n",
       "<text style=\"fill:#00002d; fill-opacity:1; font-family:Arial,Helvetica Neue,Helvetica,sans-serif; font-size:12; text-anchor:end;\" transform=\"rotate(0, 44.7108, 262.665)\" x=\"44.7108\" y=\"262.665\">2000000000000</text>\n",
       "</g>\n",
       "<g clip-path=\"url(#clip00)\">\n",
       "<text style=\"fill:#00002d; fill-opacity:1; font-family:Arial,Helvetica Neue,Helvetica,sans-serif; font-size:12; text-anchor:end;\" transform=\"rotate(0, 44.7108, 159.031)\" x=\"44.7108\" y=\"159.031\">4000000000000</text>\n",
       "</g>\n",
       "<g clip-path=\"url(#clip00)\">\n",
       "<text style=\"fill:#00002d; fill-opacity:1; font-family:Arial,Helvetica Neue,Helvetica,sans-serif; font-size:12; text-anchor:end;\" transform=\"rotate(0, 44.7108, 55.396)\" x=\"44.7108\" y=\"55.396\">6000000000000</text>\n",
       "</g>\n",
       "<g clip-path=\"url(#clip00)\">\n",
       "<text style=\"fill:#00002d; fill-opacity:1; font-family:Arial,Helvetica Neue,Helvetica,sans-serif; font-size:16; text-anchor:middle;\" transform=\"rotate(0, 323.387, 397.6)\" x=\"323.387\" y=\"397.6\">Algorithms</text>\n",
       "</g>\n",
       "<g clip-path=\"url(#clip00)\">\n",
       "<text style=\"fill:#00002d; fill-opacity:1; font-family:Arial,Helvetica Neue,Helvetica,sans-serif; font-size:16; text-anchor:middle;\" transform=\"rotate(-90, 14.4, 182.869)\" x=\"14.4\" y=\"182.869\">Efficiency</text>\n",
       "</g>\n",
       "<polygon clip-path=\"url(#clip02)\" points=\"\n",
       "50.7108,186.242 50.7108,361.8 187.049,361.8 187.049,186.242 50.7108,186.242 50.7108,186.242 \n",
       "  \" fill=\"#0099ff\" fill-opacity=\"1\"/>\n",
       "<polyline clip-path=\"url(#clip02)\" style=\"stroke:#00002d; stroke-width:0.8; stroke-opacity:1; fill:none\" points=\"\n",
       "  50.7108,186.242 50.7108,361.8 187.049,361.8 187.049,186.242 50.7108,186.242 \n",
       "  \"/>\n",
       "<polygon clip-path=\"url(#clip02)\" points=\"\n",
       "187.049,170.05 187.049,361.8 323.387,361.8 323.387,170.05 187.049,170.05 187.049,170.05 \n",
       "  \" fill=\"#0099ff\" fill-opacity=\"1\"/>\n",
       "<polyline clip-path=\"url(#clip02)\" style=\"stroke:#00002d; stroke-width:0.8; stroke-opacity:1; fill:none\" points=\"\n",
       "  187.049,170.05 187.049,361.8 323.387,361.8 323.387,170.05 187.049,170.05 \n",
       "  \"/>\n",
       "<polygon clip-path=\"url(#clip02)\" points=\"\n",
       "323.387,3.93701 323.387,361.8 459.725,361.8 459.725,3.93701 323.387,3.93701 323.387,3.93701 \n",
       "  \" fill=\"#0099ff\" fill-opacity=\"1\"/>\n",
       "<polyline clip-path=\"url(#clip02)\" style=\"stroke:#00002d; stroke-width:0.8; stroke-opacity:1; fill:none\" points=\"\n",
       "  323.387,3.93701 323.387,361.8 459.725,361.8 459.725,3.93701 323.387,3.93701 \n",
       "  \"/>\n",
       "<polygon clip-path=\"url(#clip02)\" points=\"\n",
       "459.725,256.813 459.725,361.8 596.063,361.8 596.063,256.813 459.725,256.813 459.725,256.813 \n",
       "  \" fill=\"#0099ff\" fill-opacity=\"1\"/>\n",
       "<polyline clip-path=\"url(#clip02)\" style=\"stroke:#00002d; stroke-width:0.8; stroke-opacity:1; fill:none\" points=\"\n",
       "  459.725,256.813 459.725,361.8 596.063,361.8 596.063,256.813 459.725,256.813 \n",
       "  \"/>\n",
       "</svg>\n"
      ]
     },
     "execution_count": 70,
     "metadata": {},
     "output_type": "execute_result"
    }
   ],
   "source": [
    "plot(shoot)"
   ]
  },
  {
   "cell_type": "markdown",
   "metadata": {},
   "source": [
    "Next we test the difference between the implementations on the larger problem."
   ]
  },
  {
   "cell_type": "code",
   "execution_count": 76,
   "metadata": {
    "collapsed": false
   },
   "outputs": [
    {
     "name": "stdout",
     "output_type": "stream",
     "text": [
      "Names: String[\"RK4 Continuous\",\"RK4 Non-Dense\",\"RK4 Save End\",\"ode4\"], Winner: RK4 Save End\n",
      "Efficiencies: [1.97408e10,2.65473e10,3.32777e11,1.847e10]\n",
      "EffRatios: [16.8574,12.5352,1.0,18.0172]\n",
      "Times: [0.071622,0.0532586,0.00424871,0.0765497]\n",
      "Errors: [7.07277e-10,7.07277e-10,7.07277e-10,7.07277e-10]\n",
      "\n"
     ]
    },
    {
     "data": {
      "text/html": [
       "<?xml version=\"1.0\" encoding=\"utf-8\"?>\n",
       "<svg xmlns=\"http://www.w3.org/2000/svg\" xmlns:xlink=\"http://www.w3.org/1999/xlink\" width=\"600\" height=\"400\" viewBox=\"0 0 600 400\">\n",
       "<defs>\n",
       "  <clipPath id=\"clip00\">\n",
       "    <rect x=\"0\" y=\"0\" width=\"600\" height=\"400\"/>\n",
       "  </clipPath>\n",
       "</defs>\n",
       "<polygon clip-path=\"url(#clip00)\" points=\"\n",
       "0,400 600,400 600,0 0,0 \n",
       "  \" fill=\"#ffffff\" fill-opacity=\"1\"/>\n",
       "<defs>\n",
       "  <clipPath id=\"clip01\">\n",
       "    <rect x=\"120\" y=\"0\" width=\"421\" height=\"400\"/>\n",
       "  </clipPath>\n",
       "</defs>\n",
       "<polygon clip-path=\"url(#clip00)\" points=\"\n",
       "50.7108,361.8 596.063,361.8 596.063,3.93701 50.7108,3.93701 \n",
       "  \" fill=\"#ffffff\" fill-opacity=\"1\"/>\n",
       "<defs>\n",
       "  <clipPath id=\"clip02\">\n",
       "    <rect x=\"50\" y=\"3\" width=\"546\" height=\"358\"/>\n",
       "  </clipPath>\n",
       "</defs>\n",
       "<polyline clip-path=\"url(#clip02)\" style=\"stroke:#00002d; stroke-width:0.8; stroke-opacity:0.5; fill:none\" stroke-dasharray=\"1, 2\" points=\"\n",
       "  118.88,356.432 118.88,9.30495 \n",
       "  \"/>\n",
       "<polyline clip-path=\"url(#clip02)\" style=\"stroke:#00002d; stroke-width:0.8; stroke-opacity:0.5; fill:none\" stroke-dasharray=\"1, 2\" points=\"\n",
       "  255.218,356.432 255.218,9.30495 \n",
       "  \"/>\n",
       "<polyline clip-path=\"url(#clip02)\" style=\"stroke:#00002d; stroke-width:0.8; stroke-opacity:0.5; fill:none\" stroke-dasharray=\"1, 2\" points=\"\n",
       "  391.556,356.432 391.556,9.30495 \n",
       "  \"/>\n",
       "<polyline clip-path=\"url(#clip02)\" style=\"stroke:#00002d; stroke-width:0.8; stroke-opacity:0.5; fill:none\" stroke-dasharray=\"1, 2\" points=\"\n",
       "  527.894,356.432 527.894,9.30495 \n",
       "  \"/>\n",
       "<polyline clip-path=\"url(#clip02)\" style=\"stroke:#00002d; stroke-width:0.8; stroke-opacity:0.5; fill:none\" stroke-dasharray=\"1, 2\" points=\"\n",
       "  58.8911,361.8 587.883,361.8 \n",
       "  \"/>\n",
       "<polyline clip-path=\"url(#clip02)\" style=\"stroke:#00002d; stroke-width:0.8; stroke-opacity:0.5; fill:none\" stroke-dasharray=\"1, 2\" points=\"\n",
       "  58.8911,254.262 587.883,254.262 \n",
       "  \"/>\n",
       "<polyline clip-path=\"url(#clip02)\" style=\"stroke:#00002d; stroke-width:0.8; stroke-opacity:0.5; fill:none\" stroke-dasharray=\"1, 2\" points=\"\n",
       "  58.8911,146.724 587.883,146.724 \n",
       "  \"/>\n",
       "<polyline clip-path=\"url(#clip02)\" style=\"stroke:#00002d; stroke-width:0.8; stroke-opacity:0.5; fill:none\" stroke-dasharray=\"1, 2\" points=\"\n",
       "  58.8911,39.1852 587.883,39.1852 \n",
       "  \"/>\n",
       "<polyline clip-path=\"url(#clip02)\" style=\"stroke:#00002d; stroke-width:0.8; stroke-opacity:1; fill:none\" points=\"\n",
       "  50.7108,361.8 596.063,361.8 \n",
       "  \"/>\n",
       "<polyline clip-path=\"url(#clip02)\" style=\"stroke:#00002d; stroke-width:0.8; stroke-opacity:1; fill:none\" points=\"\n",
       "  50.7108,3.93701 596.063,3.93701 \n",
       "  \"/>\n",
       "<polyline clip-path=\"url(#clip02)\" style=\"stroke:#00002d; stroke-width:0.8; stroke-opacity:1; fill:none\" points=\"\n",
       "  118.88,361.8 118.88,356.432 \n",
       "  \"/>\n",
       "<polyline clip-path=\"url(#clip02)\" style=\"stroke:#00002d; stroke-width:0.8; stroke-opacity:1; fill:none\" points=\"\n",
       "  118.88,3.93701 118.88,9.30495 \n",
       "  \"/>\n",
       "<polyline clip-path=\"url(#clip02)\" style=\"stroke:#00002d; stroke-width:0.8; stroke-opacity:1; fill:none\" points=\"\n",
       "  255.218,361.8 255.218,356.432 \n",
       "  \"/>\n",
       "<polyline clip-path=\"url(#clip02)\" style=\"stroke:#00002d; stroke-width:0.8; stroke-opacity:1; fill:none\" points=\"\n",
       "  255.218,3.93701 255.218,9.30495 \n",
       "  \"/>\n",
       "<polyline clip-path=\"url(#clip02)\" style=\"stroke:#00002d; stroke-width:0.8; stroke-opacity:1; fill:none\" points=\"\n",
       "  391.556,361.8 391.556,356.432 \n",
       "  \"/>\n",
       "<polyline clip-path=\"url(#clip02)\" style=\"stroke:#00002d; stroke-width:0.8; stroke-opacity:1; fill:none\" points=\"\n",
       "  391.556,3.93701 391.556,9.30495 \n",
       "  \"/>\n",
       "<polyline clip-path=\"url(#clip02)\" style=\"stroke:#00002d; stroke-width:0.8; stroke-opacity:1; fill:none\" points=\"\n",
       "  527.894,361.8 527.894,356.432 \n",
       "  \"/>\n",
       "<polyline clip-path=\"url(#clip02)\" style=\"stroke:#00002d; stroke-width:0.8; stroke-opacity:1; fill:none\" points=\"\n",
       "  527.894,3.93701 527.894,9.30495 \n",
       "  \"/>\n",
       "<polyline clip-path=\"url(#clip02)\" style=\"stroke:#00002d; stroke-width:0.8; stroke-opacity:1; fill:none\" points=\"\n",
       "  50.7108,361.8 50.7108,3.93701 \n",
       "  \"/>\n",
       "<polyline clip-path=\"url(#clip02)\" style=\"stroke:#00002d; stroke-width:0.8; stroke-opacity:1; fill:none\" points=\"\n",
       "  596.063,361.8 596.063,3.93701 \n",
       "  \"/>\n",
       "<polyline clip-path=\"url(#clip02)\" style=\"stroke:#00002d; stroke-width:0.8; stroke-opacity:1; fill:none\" points=\"\n",
       "  50.7108,361.8 58.8911,361.8 \n",
       "  \"/>\n",
       "<polyline clip-path=\"url(#clip02)\" style=\"stroke:#00002d; stroke-width:0.8; stroke-opacity:1; fill:none\" points=\"\n",
       "  596.063,361.8 587.883,361.8 \n",
       "  \"/>\n",
       "<polyline clip-path=\"url(#clip02)\" style=\"stroke:#00002d; stroke-width:0.8; stroke-opacity:1; fill:none\" points=\"\n",
       "  50.7108,254.262 58.8911,254.262 \n",
       "  \"/>\n",
       "<polyline clip-path=\"url(#clip02)\" style=\"stroke:#00002d; stroke-width:0.8; stroke-opacity:1; fill:none\" points=\"\n",
       "  596.063,254.262 587.883,254.262 \n",
       "  \"/>\n",
       "<polyline clip-path=\"url(#clip02)\" style=\"stroke:#00002d; stroke-width:0.8; stroke-opacity:1; fill:none\" points=\"\n",
       "  50.7108,146.724 58.8911,146.724 \n",
       "  \"/>\n",
       "<polyline clip-path=\"url(#clip02)\" style=\"stroke:#00002d; stroke-width:0.8; stroke-opacity:1; fill:none\" points=\"\n",
       "  596.063,146.724 587.883,146.724 \n",
       "  \"/>\n",
       "<polyline clip-path=\"url(#clip02)\" style=\"stroke:#00002d; stroke-width:0.8; stroke-opacity:1; fill:none\" points=\"\n",
       "  50.7108,39.1852 58.8911,39.1852 \n",
       "  \"/>\n",
       "<polyline clip-path=\"url(#clip02)\" style=\"stroke:#00002d; stroke-width:0.8; stroke-opacity:1; fill:none\" points=\"\n",
       "  596.063,39.1852 587.883,39.1852 \n",
       "  \"/>\n",
       "<g clip-path=\"url(#clip00)\">\n",
       "<text style=\"fill:#00002d; fill-opacity:1; font-family:Arial,Helvetica Neue,Helvetica,sans-serif; font-size:12; text-anchor:middle;\" transform=\"rotate(0, 118.88, 378.6)\" x=\"118.88\" y=\"378.6\">RK4 Continuous</text>\n",
       "</g>\n",
       "<g clip-path=\"url(#clip00)\">\n",
       "<text style=\"fill:#00002d; fill-opacity:1; font-family:Arial,Helvetica Neue,Helvetica,sans-serif; font-size:12; text-anchor:middle;\" transform=\"rotate(0, 255.218, 378.6)\" x=\"255.218\" y=\"378.6\">RK4 Non-Dense</text>\n",
       "</g>\n",
       "<g clip-path=\"url(#clip00)\">\n",
       "<text style=\"fill:#00002d; fill-opacity:1; font-family:Arial,Helvetica Neue,Helvetica,sans-serif; font-size:12; text-anchor:middle;\" transform=\"rotate(0, 391.556, 378.6)\" x=\"391.556\" y=\"378.6\">RK4 Save End</text>\n",
       "</g>\n",
       "<g clip-path=\"url(#clip00)\">\n",
       "<text style=\"fill:#00002d; fill-opacity:1; font-family:Arial,Helvetica Neue,Helvetica,sans-serif; font-size:12; text-anchor:middle;\" transform=\"rotate(0, 527.894, 378.6)\" x=\"527.894\" y=\"378.6\">ode4</text>\n",
       "</g>\n",
       "<g clip-path=\"url(#clip00)\">\n",
       "<text style=\"fill:#00002d; fill-opacity:1; font-family:Arial,Helvetica Neue,Helvetica,sans-serif; font-size:12; text-anchor:end;\" transform=\"rotate(0, 44.7108, 366.3)\" x=\"44.7108\" y=\"366.3\">0</text>\n",
       "</g>\n",
       "<g clip-path=\"url(#clip00)\">\n",
       "<text style=\"fill:#00002d; fill-opacity:1; font-family:Arial,Helvetica Neue,Helvetica,sans-serif; font-size:12; text-anchor:end;\" transform=\"rotate(0, 44.7108, 258.762)\" x=\"44.7108\" y=\"258.762\">100000000000</text>\n",
       "</g>\n",
       "<g clip-path=\"url(#clip00)\">\n",
       "<text style=\"fill:#00002d; fill-opacity:1; font-family:Arial,Helvetica Neue,Helvetica,sans-serif; font-size:12; text-anchor:end;\" transform=\"rotate(0, 44.7108, 151.224)\" x=\"44.7108\" y=\"151.224\">200000000000</text>\n",
       "</g>\n",
       "<g clip-path=\"url(#clip00)\">\n",
       "<text style=\"fill:#00002d; fill-opacity:1; font-family:Arial,Helvetica Neue,Helvetica,sans-serif; font-size:12; text-anchor:end;\" transform=\"rotate(0, 44.7108, 43.6852)\" x=\"44.7108\" y=\"43.6852\">300000000000</text>\n",
       "</g>\n",
       "<g clip-path=\"url(#clip00)\">\n",
       "<text style=\"fill:#00002d; fill-opacity:1; font-family:Arial,Helvetica Neue,Helvetica,sans-serif; font-size:16; text-anchor:middle;\" transform=\"rotate(0, 323.387, 397.6)\" x=\"323.387\" y=\"397.6\">Algorithms</text>\n",
       "</g>\n",
       "<g clip-path=\"url(#clip00)\">\n",
       "<text style=\"fill:#00002d; fill-opacity:1; font-family:Arial,Helvetica Neue,Helvetica,sans-serif; font-size:16; text-anchor:middle;\" transform=\"rotate(-90, 14.4, 182.869)\" x=\"14.4\" y=\"182.869\">Efficiency</text>\n",
       "</g>\n",
       "<polygon clip-path=\"url(#clip02)\" points=\"\n",
       "50.7108,340.571 50.7108,361.8 187.049,361.8 187.049,340.571 50.7108,340.571 50.7108,340.571 \n",
       "  \" fill=\"#0099ff\" fill-opacity=\"1\"/>\n",
       "<polyline clip-path=\"url(#clip02)\" style=\"stroke:#00002d; stroke-width:0.8; stroke-opacity:1; fill:none\" points=\"\n",
       "  50.7108,340.571 50.7108,361.8 187.049,361.8 187.049,340.571 50.7108,340.571 \n",
       "  \"/>\n",
       "<polygon clip-path=\"url(#clip02)\" points=\"\n",
       "187.049,333.252 187.049,361.8 323.387,361.8 323.387,333.252 187.049,333.252 187.049,333.252 \n",
       "  \" fill=\"#0099ff\" fill-opacity=\"1\"/>\n",
       "<polyline clip-path=\"url(#clip02)\" style=\"stroke:#00002d; stroke-width:0.8; stroke-opacity:1; fill:none\" points=\"\n",
       "  187.049,333.252 187.049,361.8 323.387,361.8 323.387,333.252 187.049,333.252 \n",
       "  \"/>\n",
       "<polygon clip-path=\"url(#clip02)\" points=\"\n",
       "323.387,3.93701 323.387,361.8 459.725,361.8 459.725,3.93701 323.387,3.93701 323.387,3.93701 \n",
       "  \" fill=\"#0099ff\" fill-opacity=\"1\"/>\n",
       "<polyline clip-path=\"url(#clip02)\" style=\"stroke:#00002d; stroke-width:0.8; stroke-opacity:1; fill:none\" points=\"\n",
       "  323.387,3.93701 323.387,361.8 459.725,361.8 459.725,3.93701 323.387,3.93701 \n",
       "  \"/>\n",
       "<polygon clip-path=\"url(#clip02)\" points=\"\n",
       "459.725,341.938 459.725,361.8 596.063,361.8 596.063,341.938 459.725,341.938 459.725,341.938 \n",
       "  \" fill=\"#0099ff\" fill-opacity=\"1\"/>\n",
       "<polyline clip-path=\"url(#clip02)\" style=\"stroke:#00002d; stroke-width:0.8; stroke-opacity:1; fill:none\" points=\"\n",
       "  459.725,341.938 459.725,361.8 596.063,361.8 596.063,341.938 459.725,341.938 \n",
       "  \"/>\n",
       "</svg>\n"
      ]
     },
     "execution_count": 76,
     "metadata": {},
     "output_type": "execute_result"
    }
   ],
   "source": [
    "setups = [Dict(:alg=>:RK4);Dict(:alg=>:RK4,:dense=>false);Dict(:alg=>:RK4,:dense=>false,:save_timeseries=>false);Dict(:alg=>:ode4)]\n",
    "names = [\"RK4 Continuous\";\"RK4 Non-Dense\";\"RK4 Save End\";\"ode4\"]\n",
    "shoot = ode_shootout(prob,tspan,setups;Δt=1/2^(6),names=names)\n",
    "println(shoot)\n",
    "plot(shoot)"
   ]
  },
  {
   "cell_type": "markdown",
   "metadata": {},
   "source": [
    "As the cost of function calculations increases, the implementations, calculating essentially the same thing, tend to converge in efficiency. However, even with 100x100 matrices, `:RK4` is still ODE.jl's `:ode4`. How much faster depends on how intense of an output you want. It's slightly faster when receiving the continuous output, 40% faster with just standard output, and 18x faster when using the option to only save at the end."
   ]
  },
  {
   "cell_type": "markdown",
   "metadata": {},
   "source": [
    "## Dormand-Prince 4/5 Tests\n",
    "\n",
    "The Dormand-Prince 4/5 method is the standard method in most (but not all, which we will get to later) mathematical software. Thus we wished to test the efficiency between the implementations. Note that we fixed the starting Δt since the ODE.jl algorithm picked absurdly small values, and to make the tests more fair for ODE.jl we fixed all of the starting Δts."
   ]
  },
  {
   "cell_type": "code",
   "execution_count": 81,
   "metadata": {
    "collapsed": false,
    "scrolled": false
   },
   "outputs": [
    {
     "name": "stdout",
     "output_type": "stream",
     "text": [
      "Names: String[\"DifferentialEquations\",\"ODE\",\"ODEInterface\"], Winner: DifferentialEquations\n",
      "Efficiencies: [1861.16,21.9859,79.4867]\n",
      "EffRatios: [1.0,84.6524,23.4148]\n",
      "Times: [0.144424,0.090817,0.0207101]\n",
      "Errors: [0.00372028,0.500827,0.607468]\n",
      "\n"
     ]
    },
    {
     "data": {
      "text/html": [
       "<?xml version=\"1.0\" encoding=\"utf-8\"?>\n",
       "<svg xmlns=\"http://www.w3.org/2000/svg\" xmlns:xlink=\"http://www.w3.org/1999/xlink\" width=\"600\" height=\"400\" viewBox=\"0 0 600 400\">\n",
       "<defs>\n",
       "  <clipPath id=\"clip00\">\n",
       "    <rect x=\"0\" y=\"0\" width=\"600\" height=\"400\"/>\n",
       "  </clipPath>\n",
       "</defs>\n",
       "<polygon clip-path=\"url(#clip00)\" points=\"\n",
       "0,400 600,400 600,0 0,0 \n",
       "  \" fill=\"#ffffff\" fill-opacity=\"1\"/>\n",
       "<defs>\n",
       "  <clipPath id=\"clip01\">\n",
       "    <rect x=\"120\" y=\"0\" width=\"421\" height=\"400\"/>\n",
       "  </clipPath>\n",
       "</defs>\n",
       "<polygon clip-path=\"url(#clip00)\" points=\"\n",
       "50.7108,361.8 596.063,361.8 596.063,3.93701 50.7108,3.93701 \n",
       "  \" fill=\"#ffffff\" fill-opacity=\"1\"/>\n",
       "<defs>\n",
       "  <clipPath id=\"clip02\">\n",
       "    <rect x=\"50\" y=\"3\" width=\"546\" height=\"358\"/>\n",
       "  </clipPath>\n",
       "</defs>\n",
       "<polyline clip-path=\"url(#clip02)\" style=\"stroke:#00002d; stroke-width:0.8; stroke-opacity:0.5; fill:none\" stroke-dasharray=\"1, 2\" points=\"\n",
       "  141.603,356.432 141.603,9.30495 \n",
       "  \"/>\n",
       "<polyline clip-path=\"url(#clip02)\" style=\"stroke:#00002d; stroke-width:0.8; stroke-opacity:0.5; fill:none\" stroke-dasharray=\"1, 2\" points=\"\n",
       "  323.387,356.432 323.387,9.30495 \n",
       "  \"/>\n",
       "<polyline clip-path=\"url(#clip02)\" style=\"stroke:#00002d; stroke-width:0.8; stroke-opacity:0.5; fill:none\" stroke-dasharray=\"1, 2\" points=\"\n",
       "  505.171,356.432 505.171,9.30495 \n",
       "  \"/>\n",
       "<polyline clip-path=\"url(#clip02)\" style=\"stroke:#00002d; stroke-width:0.8; stroke-opacity:0.5; fill:none\" stroke-dasharray=\"1, 2\" points=\"\n",
       "  58.8911,361.8 587.883,361.8 \n",
       "  \"/>\n",
       "<polyline clip-path=\"url(#clip02)\" style=\"stroke:#00002d; stroke-width:0.8; stroke-opacity:0.5; fill:none\" stroke-dasharray=\"1, 2\" points=\"\n",
       "  58.8911,265.66 587.883,265.66 \n",
       "  \"/>\n",
       "<polyline clip-path=\"url(#clip02)\" style=\"stroke:#00002d; stroke-width:0.8; stroke-opacity:0.5; fill:none\" stroke-dasharray=\"1, 2\" points=\"\n",
       "  58.8911,169.521 587.883,169.521 \n",
       "  \"/>\n",
       "<polyline clip-path=\"url(#clip02)\" style=\"stroke:#00002d; stroke-width:0.8; stroke-opacity:0.5; fill:none\" stroke-dasharray=\"1, 2\" points=\"\n",
       "  58.8911,73.381 587.883,73.381 \n",
       "  \"/>\n",
       "<polyline clip-path=\"url(#clip02)\" style=\"stroke:#00002d; stroke-width:0.8; stroke-opacity:1; fill:none\" points=\"\n",
       "  50.7108,361.8 596.063,361.8 \n",
       "  \"/>\n",
       "<polyline clip-path=\"url(#clip02)\" style=\"stroke:#00002d; stroke-width:0.8; stroke-opacity:1; fill:none\" points=\"\n",
       "  50.7108,3.93701 596.063,3.93701 \n",
       "  \"/>\n",
       "<polyline clip-path=\"url(#clip02)\" style=\"stroke:#00002d; stroke-width:0.8; stroke-opacity:1; fill:none\" points=\"\n",
       "  141.603,361.8 141.603,356.432 \n",
       "  \"/>\n",
       "<polyline clip-path=\"url(#clip02)\" style=\"stroke:#00002d; stroke-width:0.8; stroke-opacity:1; fill:none\" points=\"\n",
       "  141.603,3.93701 141.603,9.30495 \n",
       "  \"/>\n",
       "<polyline clip-path=\"url(#clip02)\" style=\"stroke:#00002d; stroke-width:0.8; stroke-opacity:1; fill:none\" points=\"\n",
       "  323.387,361.8 323.387,356.432 \n",
       "  \"/>\n",
       "<polyline clip-path=\"url(#clip02)\" style=\"stroke:#00002d; stroke-width:0.8; stroke-opacity:1; fill:none\" points=\"\n",
       "  323.387,3.93701 323.387,9.30495 \n",
       "  \"/>\n",
       "<polyline clip-path=\"url(#clip02)\" style=\"stroke:#00002d; stroke-width:0.8; stroke-opacity:1; fill:none\" points=\"\n",
       "  505.171,361.8 505.171,356.432 \n",
       "  \"/>\n",
       "<polyline clip-path=\"url(#clip02)\" style=\"stroke:#00002d; stroke-width:0.8; stroke-opacity:1; fill:none\" points=\"\n",
       "  505.171,3.93701 505.171,9.30495 \n",
       "  \"/>\n",
       "<polyline clip-path=\"url(#clip02)\" style=\"stroke:#00002d; stroke-width:0.8; stroke-opacity:1; fill:none\" points=\"\n",
       "  50.7108,361.8 50.7108,3.93701 \n",
       "  \"/>\n",
       "<polyline clip-path=\"url(#clip02)\" style=\"stroke:#00002d; stroke-width:0.8; stroke-opacity:1; fill:none\" points=\"\n",
       "  596.063,361.8 596.063,3.93701 \n",
       "  \"/>\n",
       "<polyline clip-path=\"url(#clip02)\" style=\"stroke:#00002d; stroke-width:0.8; stroke-opacity:1; fill:none\" points=\"\n",
       "  50.7108,361.8 58.8911,361.8 \n",
       "  \"/>\n",
       "<polyline clip-path=\"url(#clip02)\" style=\"stroke:#00002d; stroke-width:0.8; stroke-opacity:1; fill:none\" points=\"\n",
       "  596.063,361.8 587.883,361.8 \n",
       "  \"/>\n",
       "<polyline clip-path=\"url(#clip02)\" style=\"stroke:#00002d; stroke-width:0.8; stroke-opacity:1; fill:none\" points=\"\n",
       "  50.7108,265.66 58.8911,265.66 \n",
       "  \"/>\n",
       "<polyline clip-path=\"url(#clip02)\" style=\"stroke:#00002d; stroke-width:0.8; stroke-opacity:1; fill:none\" points=\"\n",
       "  596.063,265.66 587.883,265.66 \n",
       "  \"/>\n",
       "<polyline clip-path=\"url(#clip02)\" style=\"stroke:#00002d; stroke-width:0.8; stroke-opacity:1; fill:none\" points=\"\n",
       "  50.7108,169.521 58.8911,169.521 \n",
       "  \"/>\n",
       "<polyline clip-path=\"url(#clip02)\" style=\"stroke:#00002d; stroke-width:0.8; stroke-opacity:1; fill:none\" points=\"\n",
       "  596.063,169.521 587.883,169.521 \n",
       "  \"/>\n",
       "<polyline clip-path=\"url(#clip02)\" style=\"stroke:#00002d; stroke-width:0.8; stroke-opacity:1; fill:none\" points=\"\n",
       "  50.7108,73.381 58.8911,73.381 \n",
       "  \"/>\n",
       "<polyline clip-path=\"url(#clip02)\" style=\"stroke:#00002d; stroke-width:0.8; stroke-opacity:1; fill:none\" points=\"\n",
       "  596.063,73.381 587.883,73.381 \n",
       "  \"/>\n",
       "<g clip-path=\"url(#clip00)\">\n",
       "<text style=\"fill:#00002d; fill-opacity:1; font-family:Arial,Helvetica Neue,Helvetica,sans-serif; font-size:12; text-anchor:middle;\" transform=\"rotate(0, 141.603, 378.6)\" x=\"141.603\" y=\"378.6\">DifferentialEquations</text>\n",
       "</g>\n",
       "<g clip-path=\"url(#clip00)\">\n",
       "<text style=\"fill:#00002d; fill-opacity:1; font-family:Arial,Helvetica Neue,Helvetica,sans-serif; font-size:12; text-anchor:middle;\" transform=\"rotate(0, 323.387, 378.6)\" x=\"323.387\" y=\"378.6\">ODE</text>\n",
       "</g>\n",
       "<g clip-path=\"url(#clip00)\">\n",
       "<text style=\"fill:#00002d; fill-opacity:1; font-family:Arial,Helvetica Neue,Helvetica,sans-serif; font-size:12; text-anchor:middle;\" transform=\"rotate(0, 505.171, 378.6)\" x=\"505.171\" y=\"378.6\">ODEInterface</text>\n",
       "</g>\n",
       "<g clip-path=\"url(#clip00)\">\n",
       "<text style=\"fill:#00002d; fill-opacity:1; font-family:Arial,Helvetica Neue,Helvetica,sans-serif; font-size:12; text-anchor:end;\" transform=\"rotate(0, 44.7108, 366.3)\" x=\"44.7108\" y=\"366.3\">0</text>\n",
       "</g>\n",
       "<g clip-path=\"url(#clip00)\">\n",
       "<text style=\"fill:#00002d; fill-opacity:1; font-family:Arial,Helvetica Neue,Helvetica,sans-serif; font-size:12; text-anchor:end;\" transform=\"rotate(0, 44.7108, 270.16)\" x=\"44.7108\" y=\"270.16\">500</text>\n",
       "</g>\n",
       "<g clip-path=\"url(#clip00)\">\n",
       "<text style=\"fill:#00002d; fill-opacity:1; font-family:Arial,Helvetica Neue,Helvetica,sans-serif; font-size:12; text-anchor:end;\" transform=\"rotate(0, 44.7108, 174.021)\" x=\"44.7108\" y=\"174.021\">1000</text>\n",
       "</g>\n",
       "<g clip-path=\"url(#clip00)\">\n",
       "<text style=\"fill:#00002d; fill-opacity:1; font-family:Arial,Helvetica Neue,Helvetica,sans-serif; font-size:12; text-anchor:end;\" transform=\"rotate(0, 44.7108, 77.881)\" x=\"44.7108\" y=\"77.881\">1500</text>\n",
       "</g>\n",
       "<g clip-path=\"url(#clip00)\">\n",
       "<text style=\"fill:#00002d; fill-opacity:1; font-family:Arial,Helvetica Neue,Helvetica,sans-serif; font-size:16; text-anchor:middle;\" transform=\"rotate(0, 323.387, 397.6)\" x=\"323.387\" y=\"397.6\">Algorithms</text>\n",
       "</g>\n",
       "<g clip-path=\"url(#clip00)\">\n",
       "<text style=\"fill:#00002d; fill-opacity:1; font-family:Arial,Helvetica Neue,Helvetica,sans-serif; font-size:16; text-anchor:middle;\" transform=\"rotate(-90, 14.4, 182.869)\" x=\"14.4\" y=\"182.869\">Efficiency</text>\n",
       "</g>\n",
       "<polygon clip-path=\"url(#clip02)\" points=\"\n",
       "50.7108,3.93701 50.7108,361.8 232.495,361.8 232.495,3.93701 50.7108,3.93701 50.7108,3.93701 \n",
       "  \" fill=\"#0099ff\" fill-opacity=\"1\"/>\n",
       "<polyline clip-path=\"url(#clip02)\" style=\"stroke:#00002d; stroke-width:0.8; stroke-opacity:1; fill:none\" points=\"\n",
       "  50.7108,3.93701 50.7108,361.8 232.495,361.8 232.495,3.93701 50.7108,3.93701 \n",
       "  \"/>\n",
       "<polygon clip-path=\"url(#clip02)\" points=\"\n",
       "232.495,357.573 232.495,361.8 414.279,361.8 414.279,357.573 232.495,357.573 232.495,357.573 \n",
       "  \" fill=\"#0099ff\" fill-opacity=\"1\"/>\n",
       "<polyline clip-path=\"url(#clip02)\" style=\"stroke:#00002d; stroke-width:0.8; stroke-opacity:1; fill:none\" points=\"\n",
       "  232.495,357.573 232.495,361.8 414.279,361.8 414.279,357.573 232.495,357.573 \n",
       "  \"/>\n",
       "<polygon clip-path=\"url(#clip02)\" points=\"\n",
       "414.279,346.516 414.279,361.8 596.063,361.8 596.063,346.516 414.279,346.516 414.279,346.516 \n",
       "  \" fill=\"#0099ff\" fill-opacity=\"1\"/>\n",
       "<polyline clip-path=\"url(#clip02)\" style=\"stroke:#00002d; stroke-width:0.8; stroke-opacity:1; fill:none\" points=\"\n",
       "  414.279,346.516 414.279,361.8 596.063,361.8 596.063,346.516 414.279,346.516 \n",
       "  \"/>\n",
       "</svg>\n"
      ]
     },
     "execution_count": 81,
     "metadata": {},
     "output_type": "execute_result"
    }
   ],
   "source": [
    "tspan = [0,10]\n",
    "setups = [Dict(:alg=>:DP5)\n",
    "          Dict(:abstol=>1e-3,:reltol=>1e-6,:alg=>:ode45) # Fix ODE to be normal\n",
    "          Dict(:alg=>:dopri5)]\n",
    "names = [\"DifferentialEquations\";\"ODE\";\"ODEInterface\"]\n",
    "shoot = ode_shootout(prob,tspan,setups;Δt=1/2^(10),names=names)\n",
    "println(shoot)\n",
    "plot(shoot)"
   ]
  },
  {
   "cell_type": "markdown",
   "metadata": {},
   "source": [
    "Notice that we changed ODE.jl's tolerances to match the standard tolerances every other ODE solver tends to use (and is thus the default of both DifferentialEquations.jl and ODEInterface.jl!). This gives a strong showing for DifferentialEquations.jl. Notice that it took the least amount of while achieving 100x less error than the other methods. We do note that `:dopri5` did run faster, one difference from the `:DP5` algorithm being a lower standard `β` (stepsize stabilization). DifferentialEquations.jl tweaks the old formula to a different error normalization which allows for more stabilization resulting in higher efficiency."
   ]
  },
  {
   "cell_type": "code",
   "execution_count": 217,
   "metadata": {
    "collapsed": false
   },
   "outputs": [
    {
     "name": "stdout",
     "output_type": "stream",
     "text": [
      "Names: String[\"DifferentialEquations\",\"ODEInterface\"], Winner: DifferentialEquations\n",
      "Efficiencies: [248.433,117.145]\n",
      "EffRatios: [1.0,2.12073]\n",
      "Times: [0.0295705,0.0140525]\n",
      "Errors: [0.136123,0.607468]\n",
      "\n"
     ]
    },
    {
     "data": {
      "text/html": [
       "<img src=\"data:image/png;base64,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\" />"
      ]
     },
     "execution_count": 217,
     "metadata": {},
     "output_type": "execute_result"
    }
   ],
   "source": [
    "setups = [Dict(:alg=>:DP5)\n",
    "          Dict(:alg=>:dopri5)]\n",
    "\n",
    "names = [\"DifferentialEquations\";\"ODEInterface\"]\n",
    "shoot = ode_shootout(prob,tspan,setups;Δt=1/2^(10),names=names,dense=false,β=0.04)\n",
    "println(shoot)\n",
    "plot(shoot)"
   ]
  },
  {
   "cell_type": "markdown",
   "metadata": {},
   "source": [
    "As you can see, even if we change the settings to match the timings, `:DP5` comes out with approximately 5x less error! Note that we can also match settings:"
   ]
  },
  {
   "cell_type": "code",
   "execution_count": 219,
   "metadata": {
    "collapsed": false
   },
   "outputs": [
    {
     "name": "stdout",
     "output_type": "stream",
     "text": [
      "[0.0,0.015625,0.171875,0.675567,1.32885,2.18583,3.1662,4.24249,5.38272,6.56682,7.78027,9.01332,10.0]\n",
      "[0.0,0.015625,0.171875,0.675567,1.32885,2.18583,3.1662,4.24249,5.38272,6.56682,7.78027,9.01332,10.0]\n"
     ]
    }
   ],
   "source": [
    "sol1 =solve(prob::ODEProblem,[0,10],Δt=1/2^6,alg=:DP5,β=0.04,expo1=.17,qmin=0.2,qmax=10.0,fullnormalize=true)\n",
    "sol2 =solve(prob::ODEProblem,[0,10],Δt=1/2^6,alg=:dopri5,β=0.04)\n",
    "println(sol1.t)\n",
    "println(sol2.t)"
   ]
  },
  {
   "cell_type": "code",
   "execution_count": 231,
   "metadata": {
    "collapsed": false
   },
   "outputs": [
    {
     "name": "stdout",
     "output_type": "stream",
     "text": [
      "Names: String[\"DifferentialEquations\",\"ODEInterface\"], Winner: DifferentialEquations\n",
      "Efficiencies: [193.686,107.876]\n",
      "EffRatios: [1.0,1.79546]\n",
      "Times: [0.00849921,0.01526]\n",
      "Errors: [0.607468,0.607468]\n",
      "\n"
     ]
    },
    {
     "data": {
      "text/html": [
       "<img src=\"data:image/png;base64,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\" />"
      ]
     },
     "execution_count": 231,
     "metadata": {},
     "output_type": "execute_result"
    }
   ],
   "source": [
    "setups = [Dict(:alg=>:DP5)\n",
    "          Dict(:alg=>:dopri5)]\n",
    "\n",
    "names = [\"DifferentialEquations\";\"ODEInterface\"]\n",
    "shoot = ode_shootout(prob,tspan,setups;Δt=1/2^(10),names=names,dense=false,β=0.04,expo1=.17,qmin=0.2,qmax=10.0,fullnormalize=true,numruns=100)\n",
    "println(shoot)\n",
    "plot(shoot)"
   ]
  },
  {
   "cell_type": "markdown",
   "metadata": {},
   "source": [
    "`:DP5` a more optimized solver than the classic `:dopri5` method"
   ]
  },
  {
   "cell_type": "markdown",
   "metadata": {},
   "source": [
    "Let's track the changes under differing circumstances. What happens if the tolerance is lower? Adding keyword arguments "
   ]
  },
  {
   "cell_type": "code",
   "execution_count": 132,
   "metadata": {
    "collapsed": false
   },
   "outputs": [
    {
     "name": "stdout",
     "output_type": "stream",
     "text": [
      "Names: String[\"DifferentialEquations\",\"ODE\",\"ODEInterface\"], Winner: DifferentialEquations\n",
      "Efficiencies: [4079.1,813.83,86.6338]\n",
      "EffRatios: [1.0,5.01222,47.0844]\n",
      "Times: [0.0658962,0.140849,0.0190016]\n",
      "Errors: [0.00372028,0.00872395,0.607468]\n",
      "\n"
     ]
    },
    {
     "data": {
      "text/html": [
       "<?xml version=\"1.0\" encoding=\"utf-8\"?>\n",
       "<svg xmlns=\"http://www.w3.org/2000/svg\" xmlns:xlink=\"http://www.w3.org/1999/xlink\" width=\"600\" height=\"400\" viewBox=\"0 0 600 400\">\n",
       "<defs>\n",
       "  <clipPath id=\"clip00\">\n",
       "    <rect x=\"0\" y=\"0\" width=\"600\" height=\"400\"/>\n",
       "  </clipPath>\n",
       "</defs>\n",
       "<polygon clip-path=\"url(#clip00)\" points=\"\n",
       "0,400 600,400 600,0 0,0 \n",
       "  \" fill=\"#ffffff\" fill-opacity=\"1\"/>\n",
       "<defs>\n",
       "  <clipPath id=\"clip01\">\n",
       "    <rect x=\"120\" y=\"0\" width=\"421\" height=\"400\"/>\n",
       "  </clipPath>\n",
       "</defs>\n",
       "<polygon clip-path=\"url(#clip00)\" points=\"\n",
       "50.7108,361.8 596.063,361.8 596.063,3.93701 50.7108,3.93701 \n",
       "  \" fill=\"#ffffff\" fill-opacity=\"1\"/>\n",
       "<defs>\n",
       "  <clipPath id=\"clip02\">\n",
       "    <rect x=\"50\" y=\"3\" width=\"546\" height=\"358\"/>\n",
       "  </clipPath>\n",
       "</defs>\n",
       "<polyline clip-path=\"url(#clip02)\" style=\"stroke:#00002d; stroke-width:0.8; stroke-opacity:0.5; fill:none\" stroke-dasharray=\"1, 2\" points=\"\n",
       "  141.603,356.432 141.603,9.30495 \n",
       "  \"/>\n",
       "<polyline clip-path=\"url(#clip02)\" style=\"stroke:#00002d; stroke-width:0.8; stroke-opacity:0.5; fill:none\" stroke-dasharray=\"1, 2\" points=\"\n",
       "  323.387,356.432 323.387,9.30495 \n",
       "  \"/>\n",
       "<polyline clip-path=\"url(#clip02)\" style=\"stroke:#00002d; stroke-width:0.8; stroke-opacity:0.5; fill:none\" stroke-dasharray=\"1, 2\" points=\"\n",
       "  505.171,356.432 505.171,9.30495 \n",
       "  \"/>\n",
       "<polyline clip-path=\"url(#clip02)\" style=\"stroke:#00002d; stroke-width:0.8; stroke-opacity:0.5; fill:none\" stroke-dasharray=\"1, 2\" points=\"\n",
       "  58.8911,361.8 587.883,361.8 \n",
       "  \"/>\n",
       "<polyline clip-path=\"url(#clip02)\" style=\"stroke:#00002d; stroke-width:0.8; stroke-opacity:0.5; fill:none\" stroke-dasharray=\"1, 2\" points=\"\n",
       "  58.8911,274.069 587.883,274.069 \n",
       "  \"/>\n",
       "<polyline clip-path=\"url(#clip02)\" style=\"stroke:#00002d; stroke-width:0.8; stroke-opacity:0.5; fill:none\" stroke-dasharray=\"1, 2\" points=\"\n",
       "  58.8911,186.338 587.883,186.338 \n",
       "  \"/>\n",
       "<polyline clip-path=\"url(#clip02)\" style=\"stroke:#00002d; stroke-width:0.8; stroke-opacity:0.5; fill:none\" stroke-dasharray=\"1, 2\" points=\"\n",
       "  58.8911,98.6073 587.883,98.6073 \n",
       "  \"/>\n",
       "<polyline clip-path=\"url(#clip02)\" style=\"stroke:#00002d; stroke-width:0.8; stroke-opacity:0.5; fill:none\" stroke-dasharray=\"1, 2\" points=\"\n",
       "  58.8911,10.8764 587.883,10.8764 \n",
       "  \"/>\n",
       "<polyline clip-path=\"url(#clip02)\" style=\"stroke:#00002d; stroke-width:0.8; stroke-opacity:1; fill:none\" points=\"\n",
       "  50.7108,361.8 596.063,361.8 \n",
       "  \"/>\n",
       "<polyline clip-path=\"url(#clip02)\" style=\"stroke:#00002d; stroke-width:0.8; stroke-opacity:1; fill:none\" points=\"\n",
       "  50.7108,3.93701 596.063,3.93701 \n",
       "  \"/>\n",
       "<polyline clip-path=\"url(#clip02)\" style=\"stroke:#00002d; stroke-width:0.8; stroke-opacity:1; fill:none\" points=\"\n",
       "  141.603,361.8 141.603,356.432 \n",
       "  \"/>\n",
       "<polyline clip-path=\"url(#clip02)\" style=\"stroke:#00002d; stroke-width:0.8; stroke-opacity:1; fill:none\" points=\"\n",
       "  141.603,3.93701 141.603,9.30495 \n",
       "  \"/>\n",
       "<polyline clip-path=\"url(#clip02)\" style=\"stroke:#00002d; stroke-width:0.8; stroke-opacity:1; fill:none\" points=\"\n",
       "  323.387,361.8 323.387,356.432 \n",
       "  \"/>\n",
       "<polyline clip-path=\"url(#clip02)\" style=\"stroke:#00002d; stroke-width:0.8; stroke-opacity:1; fill:none\" points=\"\n",
       "  323.387,3.93701 323.387,9.30495 \n",
       "  \"/>\n",
       "<polyline clip-path=\"url(#clip02)\" style=\"stroke:#00002d; stroke-width:0.8; stroke-opacity:1; fill:none\" points=\"\n",
       "  505.171,361.8 505.171,356.432 \n",
       "  \"/>\n",
       "<polyline clip-path=\"url(#clip02)\" style=\"stroke:#00002d; stroke-width:0.8; stroke-opacity:1; fill:none\" points=\"\n",
       "  505.171,3.93701 505.171,9.30495 \n",
       "  \"/>\n",
       "<polyline clip-path=\"url(#clip02)\" style=\"stroke:#00002d; stroke-width:0.8; stroke-opacity:1; fill:none\" points=\"\n",
       "  50.7108,361.8 50.7108,3.93701 \n",
       "  \"/>\n",
       "<polyline clip-path=\"url(#clip02)\" style=\"stroke:#00002d; stroke-width:0.8; stroke-opacity:1; fill:none\" points=\"\n",
       "  596.063,361.8 596.063,3.93701 \n",
       "  \"/>\n",
       "<polyline clip-path=\"url(#clip02)\" style=\"stroke:#00002d; stroke-width:0.8; stroke-opacity:1; fill:none\" points=\"\n",
       "  50.7108,361.8 58.8911,361.8 \n",
       "  \"/>\n",
       "<polyline clip-path=\"url(#clip02)\" style=\"stroke:#00002d; stroke-width:0.8; stroke-opacity:1; fill:none\" points=\"\n",
       "  596.063,361.8 587.883,361.8 \n",
       "  \"/>\n",
       "<polyline clip-path=\"url(#clip02)\" style=\"stroke:#00002d; stroke-width:0.8; stroke-opacity:1; fill:none\" points=\"\n",
       "  50.7108,274.069 58.8911,274.069 \n",
       "  \"/>\n",
       "<polyline clip-path=\"url(#clip02)\" style=\"stroke:#00002d; stroke-width:0.8; stroke-opacity:1; fill:none\" points=\"\n",
       "  596.063,274.069 587.883,274.069 \n",
       "  \"/>\n",
       "<polyline clip-path=\"url(#clip02)\" style=\"stroke:#00002d; stroke-width:0.8; stroke-opacity:1; fill:none\" points=\"\n",
       "  50.7108,186.338 58.8911,186.338 \n",
       "  \"/>\n",
       "<polyline clip-path=\"url(#clip02)\" style=\"stroke:#00002d; stroke-width:0.8; stroke-opacity:1; fill:none\" points=\"\n",
       "  596.063,186.338 587.883,186.338 \n",
       "  \"/>\n",
       "<polyline clip-path=\"url(#clip02)\" style=\"stroke:#00002d; stroke-width:0.8; stroke-opacity:1; fill:none\" points=\"\n",
       "  50.7108,98.6073 58.8911,98.6073 \n",
       "  \"/>\n",
       "<polyline clip-path=\"url(#clip02)\" style=\"stroke:#00002d; stroke-width:0.8; stroke-opacity:1; fill:none\" points=\"\n",
       "  596.063,98.6073 587.883,98.6073 \n",
       "  \"/>\n",
       "<polyline clip-path=\"url(#clip02)\" style=\"stroke:#00002d; stroke-width:0.8; stroke-opacity:1; fill:none\" points=\"\n",
       "  50.7108,10.8764 58.8911,10.8764 \n",
       "  \"/>\n",
       "<polyline clip-path=\"url(#clip02)\" style=\"stroke:#00002d; stroke-width:0.8; stroke-opacity:1; fill:none\" points=\"\n",
       "  596.063,10.8764 587.883,10.8764 \n",
       "  \"/>\n",
       "<g clip-path=\"url(#clip00)\">\n",
       "<text style=\"fill:#00002d; fill-opacity:1; font-family:Arial,Helvetica Neue,Helvetica,sans-serif; font-size:12; text-anchor:middle;\" transform=\"rotate(0, 141.603, 378.6)\" x=\"141.603\" y=\"378.6\">DifferentialEquations</text>\n",
       "</g>\n",
       "<g clip-path=\"url(#clip00)\">\n",
       "<text style=\"fill:#00002d; fill-opacity:1; font-family:Arial,Helvetica Neue,Helvetica,sans-serif; font-size:12; text-anchor:middle;\" transform=\"rotate(0, 323.387, 378.6)\" x=\"323.387\" y=\"378.6\">ODE</text>\n",
       "</g>\n",
       "<g clip-path=\"url(#clip00)\">\n",
       "<text style=\"fill:#00002d; fill-opacity:1; font-family:Arial,Helvetica Neue,Helvetica,sans-serif; font-size:12; text-anchor:middle;\" transform=\"rotate(0, 505.171, 378.6)\" x=\"505.171\" y=\"378.6\">ODEInterface</text>\n",
       "</g>\n",
       "<g clip-path=\"url(#clip00)\">\n",
       "<text style=\"fill:#00002d; fill-opacity:1; font-family:Arial,Helvetica Neue,Helvetica,sans-serif; font-size:12; text-anchor:end;\" transform=\"rotate(0, 44.7108, 366.3)\" x=\"44.7108\" y=\"366.3\">0</text>\n",
       "</g>\n",
       "<g clip-path=\"url(#clip00)\">\n",
       "<text style=\"fill:#00002d; fill-opacity:1; font-family:Arial,Helvetica Neue,Helvetica,sans-serif; font-size:12; text-anchor:end;\" transform=\"rotate(0, 44.7108, 278.569)\" x=\"44.7108\" y=\"278.569\">1000</text>\n",
       "</g>\n",
       "<g clip-path=\"url(#clip00)\">\n",
       "<text style=\"fill:#00002d; fill-opacity:1; font-family:Arial,Helvetica Neue,Helvetica,sans-serif; font-size:12; text-anchor:end;\" transform=\"rotate(0, 44.7108, 190.838)\" x=\"44.7108\" y=\"190.838\">2000</text>\n",
       "</g>\n",
       "<g clip-path=\"url(#clip00)\">\n",
       "<text style=\"fill:#00002d; fill-opacity:1; font-family:Arial,Helvetica Neue,Helvetica,sans-serif; font-size:12; text-anchor:end;\" transform=\"rotate(0, 44.7108, 103.107)\" x=\"44.7108\" y=\"103.107\">3000</text>\n",
       "</g>\n",
       "<g clip-path=\"url(#clip00)\">\n",
       "<text style=\"fill:#00002d; fill-opacity:1; font-family:Arial,Helvetica Neue,Helvetica,sans-serif; font-size:12; text-anchor:end;\" transform=\"rotate(0, 44.7108, 15.3764)\" x=\"44.7108\" y=\"15.3764\">4000</text>\n",
       "</g>\n",
       "<g clip-path=\"url(#clip00)\">\n",
       "<text style=\"fill:#00002d; fill-opacity:1; font-family:Arial,Helvetica Neue,Helvetica,sans-serif; font-size:16; text-anchor:middle;\" transform=\"rotate(0, 323.387, 397.6)\" x=\"323.387\" y=\"397.6\">Algorithms</text>\n",
       "</g>\n",
       "<g clip-path=\"url(#clip00)\">\n",
       "<text style=\"fill:#00002d; fill-opacity:1; font-family:Arial,Helvetica Neue,Helvetica,sans-serif; font-size:16; text-anchor:middle;\" transform=\"rotate(-90, 14.4, 182.869)\" x=\"14.4\" y=\"182.869\">Efficiency</text>\n",
       "</g>\n",
       "<polygon clip-path=\"url(#clip02)\" points=\"\n",
       "50.7108,3.93701 50.7108,361.8 232.495,361.8 232.495,3.93701 50.7108,3.93701 50.7108,3.93701 \n",
       "  \" fill=\"#0099ff\" fill-opacity=\"1\"/>\n",
       "<polyline clip-path=\"url(#clip02)\" style=\"stroke:#00002d; stroke-width:0.8; stroke-opacity:1; fill:none\" points=\"\n",
       "  50.7108,3.93701 50.7108,361.8 232.495,361.8 232.495,3.93701 50.7108,3.93701 \n",
       "  \"/>\n",
       "<polygon clip-path=\"url(#clip02)\" points=\"\n",
       "232.495,290.402 232.495,361.8 414.279,361.8 414.279,290.402 232.495,290.402 232.495,290.402 \n",
       "  \" fill=\"#0099ff\" fill-opacity=\"1\"/>\n",
       "<polyline clip-path=\"url(#clip02)\" style=\"stroke:#00002d; stroke-width:0.8; stroke-opacity:1; fill:none\" points=\"\n",
       "  232.495,290.402 232.495,361.8 414.279,361.8 414.279,290.402 232.495,290.402 \n",
       "  \"/>\n",
       "<polygon clip-path=\"url(#clip02)\" points=\"\n",
       "414.279,354.2 414.279,361.8 596.063,361.8 596.063,354.2 414.279,354.2 414.279,354.2 \n",
       "  \" fill=\"#0099ff\" fill-opacity=\"1\"/>\n",
       "<polyline clip-path=\"url(#clip02)\" style=\"stroke:#00002d; stroke-width:0.8; stroke-opacity:1; fill:none\" points=\"\n",
       "  414.279,354.2 414.279,361.8 596.063,361.8 596.063,354.2 414.279,354.2 \n",
       "  \"/>\n",
       "</svg>\n"
      ]
     },
     "execution_count": 132,
     "metadata": {},
     "output_type": "execute_result"
    }
   ],
   "source": [
    "setups = [Dict(:alg=>:DP5)\n",
    "          Dict(:alg=>:ode45) # Fix ODE to be normal\n",
    "          Dict(:alg=>:dopri5)]\n",
    "names = [\"DifferentialEquations\";\"ODE\";\"ODEInterface\"]\n",
    "shoot = ode_shootout(prob,tspan,setups;Δt=1/2^(10),names=names,abstol=1e-6,roltol=1e-6,dense=false)\n",
    "println(shoot)\n",
    "plot(shoot)"
   ]
  },
  {
   "cell_type": "markdown",
   "metadata": {},
   "source": [
    "DifferentialEquations.jl is once again both faster and with lower error than ODE.jl. However, the timings between ODEInterface and DifferentialEquations are too far off for that comparison to matter (same wtih ODE.jl vs ODEInterface). The reason is because efficiency changes on a different scale than error, so this comparison only makes sense when either times or error are close to matched (i.e. quicker times will be less efficient because of how error scales with `Δt`. So saying ODE.jl did better than ODEInterface here is a spurious result). So let's match the DifferentialEquation.jl with ODEInterface.jl by matching the β's."
   ]
  },
  {
   "cell_type": "code",
   "execution_count": 136,
   "metadata": {
    "collapsed": false
   },
   "outputs": [
    {
     "name": "stdout",
     "output_type": "stream",
     "text": [
      "Names: String[\"DifferentialEquations\",\"ODEInterface\"], Winner: DifferentialEquations\n",
      "Efficiencies: [414.501,75.6599]\n",
      "EffRatios: [1.0,5.47847]\n",
      "Times: [0.0177232,0.0217576]\n",
      "Errors: [0.136123,0.607468]\n",
      "\n"
     ]
    },
    {
     "data": {
      "text/html": [
       "<?xml version=\"1.0\" encoding=\"utf-8\"?>\n",
       "<svg xmlns=\"http://www.w3.org/2000/svg\" xmlns:xlink=\"http://www.w3.org/1999/xlink\" width=\"600\" height=\"400\" viewBox=\"0 0 600 400\">\n",
       "<defs>\n",
       "  <clipPath id=\"clip00\">\n",
       "    <rect x=\"0\" y=\"0\" width=\"600\" height=\"400\"/>\n",
       "  </clipPath>\n",
       "</defs>\n",
       "<polygon clip-path=\"url(#clip00)\" points=\"\n",
       "0,400 600,400 600,0 0,0 \n",
       "  \" fill=\"#ffffff\" fill-opacity=\"1\"/>\n",
       "<defs>\n",
       "  <clipPath id=\"clip01\">\n",
       "    <rect x=\"120\" y=\"0\" width=\"421\" height=\"400\"/>\n",
       "  </clipPath>\n",
       "</defs>\n",
       "<polygon clip-path=\"url(#clip00)\" points=\"\n",
       "50.7108,361.8 596.063,361.8 596.063,3.93701 50.7108,3.93701 \n",
       "  \" fill=\"#ffffff\" fill-opacity=\"1\"/>\n",
       "<defs>\n",
       "  <clipPath id=\"clip02\">\n",
       "    <rect x=\"50\" y=\"3\" width=\"546\" height=\"358\"/>\n",
       "  </clipPath>\n",
       "</defs>\n",
       "<polyline clip-path=\"url(#clip02)\" style=\"stroke:#00002d; stroke-width:0.8; stroke-opacity:0.5; fill:none\" stroke-dasharray=\"1, 2\" points=\"\n",
       "  187.049,356.432 187.049,9.30495 \n",
       "  \"/>\n",
       "<polyline clip-path=\"url(#clip02)\" style=\"stroke:#00002d; stroke-width:0.8; stroke-opacity:0.5; fill:none\" stroke-dasharray=\"1, 2\" points=\"\n",
       "  459.725,356.432 459.725,9.30495 \n",
       "  \"/>\n",
       "<polyline clip-path=\"url(#clip02)\" style=\"stroke:#00002d; stroke-width:0.8; stroke-opacity:0.5; fill:none\" stroke-dasharray=\"1, 2\" points=\"\n",
       "  58.8911,361.8 587.883,361.8 \n",
       "  \"/>\n",
       "<polyline clip-path=\"url(#clip02)\" style=\"stroke:#00002d; stroke-width:0.8; stroke-opacity:0.5; fill:none\" stroke-dasharray=\"1, 2\" points=\"\n",
       "  58.8911,275.464 587.883,275.464 \n",
       "  \"/>\n",
       "<polyline clip-path=\"url(#clip02)\" style=\"stroke:#00002d; stroke-width:0.8; stroke-opacity:0.5; fill:none\" stroke-dasharray=\"1, 2\" points=\"\n",
       "  58.8911,189.128 587.883,189.128 \n",
       "  \"/>\n",
       "<polyline clip-path=\"url(#clip02)\" style=\"stroke:#00002d; stroke-width:0.8; stroke-opacity:0.5; fill:none\" stroke-dasharray=\"1, 2\" points=\"\n",
       "  58.8911,102.792 587.883,102.792 \n",
       "  \"/>\n",
       "<polyline clip-path=\"url(#clip02)\" style=\"stroke:#00002d; stroke-width:0.8; stroke-opacity:0.5; fill:none\" stroke-dasharray=\"1, 2\" points=\"\n",
       "  58.8911,16.4565 587.883,16.4565 \n",
       "  \"/>\n",
       "<polyline clip-path=\"url(#clip02)\" style=\"stroke:#00002d; stroke-width:0.8; stroke-opacity:1; fill:none\" points=\"\n",
       "  50.7108,361.8 596.063,361.8 \n",
       "  \"/>\n",
       "<polyline clip-path=\"url(#clip02)\" style=\"stroke:#00002d; stroke-width:0.8; stroke-opacity:1; fill:none\" points=\"\n",
       "  50.7108,3.93701 596.063,3.93701 \n",
       "  \"/>\n",
       "<polyline clip-path=\"url(#clip02)\" style=\"stroke:#00002d; stroke-width:0.8; stroke-opacity:1; fill:none\" points=\"\n",
       "  187.049,361.8 187.049,356.432 \n",
       "  \"/>\n",
       "<polyline clip-path=\"url(#clip02)\" style=\"stroke:#00002d; stroke-width:0.8; stroke-opacity:1; fill:none\" points=\"\n",
       "  187.049,3.93701 187.049,9.30495 \n",
       "  \"/>\n",
       "<polyline clip-path=\"url(#clip02)\" style=\"stroke:#00002d; stroke-width:0.8; stroke-opacity:1; fill:none\" points=\"\n",
       "  459.725,361.8 459.725,356.432 \n",
       "  \"/>\n",
       "<polyline clip-path=\"url(#clip02)\" style=\"stroke:#00002d; stroke-width:0.8; stroke-opacity:1; fill:none\" points=\"\n",
       "  459.725,3.93701 459.725,9.30495 \n",
       "  \"/>\n",
       "<polyline clip-path=\"url(#clip02)\" style=\"stroke:#00002d; stroke-width:0.8; stroke-opacity:1; fill:none\" points=\"\n",
       "  50.7108,361.8 50.7108,3.93701 \n",
       "  \"/>\n",
       "<polyline clip-path=\"url(#clip02)\" style=\"stroke:#00002d; stroke-width:0.8; stroke-opacity:1; fill:none\" points=\"\n",
       "  596.063,361.8 596.063,3.93701 \n",
       "  \"/>\n",
       "<polyline clip-path=\"url(#clip02)\" style=\"stroke:#00002d; stroke-width:0.8; stroke-opacity:1; fill:none\" points=\"\n",
       "  50.7108,361.8 58.8911,361.8 \n",
       "  \"/>\n",
       "<polyline clip-path=\"url(#clip02)\" style=\"stroke:#00002d; stroke-width:0.8; stroke-opacity:1; fill:none\" points=\"\n",
       "  596.063,361.8 587.883,361.8 \n",
       "  \"/>\n",
       "<polyline clip-path=\"url(#clip02)\" style=\"stroke:#00002d; stroke-width:0.8; stroke-opacity:1; fill:none\" points=\"\n",
       "  50.7108,275.464 58.8911,275.464 \n",
       "  \"/>\n",
       "<polyline clip-path=\"url(#clip02)\" style=\"stroke:#00002d; stroke-width:0.8; stroke-opacity:1; fill:none\" points=\"\n",
       "  596.063,275.464 587.883,275.464 \n",
       "  \"/>\n",
       "<polyline clip-path=\"url(#clip02)\" style=\"stroke:#00002d; stroke-width:0.8; stroke-opacity:1; fill:none\" points=\"\n",
       "  50.7108,189.128 58.8911,189.128 \n",
       "  \"/>\n",
       "<polyline clip-path=\"url(#clip02)\" style=\"stroke:#00002d; stroke-width:0.8; stroke-opacity:1; fill:none\" points=\"\n",
       "  596.063,189.128 587.883,189.128 \n",
       "  \"/>\n",
       "<polyline clip-path=\"url(#clip02)\" style=\"stroke:#00002d; stroke-width:0.8; stroke-opacity:1; fill:none\" points=\"\n",
       "  50.7108,102.792 58.8911,102.792 \n",
       "  \"/>\n",
       "<polyline clip-path=\"url(#clip02)\" style=\"stroke:#00002d; stroke-width:0.8; stroke-opacity:1; fill:none\" points=\"\n",
       "  596.063,102.792 587.883,102.792 \n",
       "  \"/>\n",
       "<polyline clip-path=\"url(#clip02)\" style=\"stroke:#00002d; stroke-width:0.8; stroke-opacity:1; fill:none\" points=\"\n",
       "  50.7108,16.4565 58.8911,16.4565 \n",
       "  \"/>\n",
       "<polyline clip-path=\"url(#clip02)\" style=\"stroke:#00002d; stroke-width:0.8; stroke-opacity:1; fill:none\" points=\"\n",
       "  596.063,16.4565 587.883,16.4565 \n",
       "  \"/>\n",
       "<g clip-path=\"url(#clip00)\">\n",
       "<text style=\"fill:#00002d; fill-opacity:1; font-family:Arial,Helvetica Neue,Helvetica,sans-serif; font-size:12; text-anchor:middle;\" transform=\"rotate(0, 187.049, 378.6)\" x=\"187.049\" y=\"378.6\">DifferentialEquations</text>\n",
       "</g>\n",
       "<g clip-path=\"url(#clip00)\">\n",
       "<text style=\"fill:#00002d; fill-opacity:1; font-family:Arial,Helvetica Neue,Helvetica,sans-serif; font-size:12; text-anchor:middle;\" transform=\"rotate(0, 459.725, 378.6)\" x=\"459.725\" y=\"378.6\">ODEInterface</text>\n",
       "</g>\n",
       "<g clip-path=\"url(#clip00)\">\n",
       "<text style=\"fill:#00002d; fill-opacity:1; font-family:Arial,Helvetica Neue,Helvetica,sans-serif; font-size:12; text-anchor:end;\" transform=\"rotate(0, 44.7108, 366.3)\" x=\"44.7108\" y=\"366.3\">0</text>\n",
       "</g>\n",
       "<g clip-path=\"url(#clip00)\">\n",
       "<text style=\"fill:#00002d; fill-opacity:1; font-family:Arial,Helvetica Neue,Helvetica,sans-serif; font-size:12; text-anchor:end;\" transform=\"rotate(0, 44.7108, 279.964)\" x=\"44.7108\" y=\"279.964\">100</text>\n",
       "</g>\n",
       "<g clip-path=\"url(#clip00)\">\n",
       "<text style=\"fill:#00002d; fill-opacity:1; font-family:Arial,Helvetica Neue,Helvetica,sans-serif; font-size:12; text-anchor:end;\" transform=\"rotate(0, 44.7108, 193.628)\" x=\"44.7108\" y=\"193.628\">200</text>\n",
       "</g>\n",
       "<g clip-path=\"url(#clip00)\">\n",
       "<text style=\"fill:#00002d; fill-opacity:1; font-family:Arial,Helvetica Neue,Helvetica,sans-serif; font-size:12; text-anchor:end;\" transform=\"rotate(0, 44.7108, 107.292)\" x=\"44.7108\" y=\"107.292\">300</text>\n",
       "</g>\n",
       "<g clip-path=\"url(#clip00)\">\n",
       "<text style=\"fill:#00002d; fill-opacity:1; font-family:Arial,Helvetica Neue,Helvetica,sans-serif; font-size:12; text-anchor:end;\" transform=\"rotate(0, 44.7108, 20.9565)\" x=\"44.7108\" y=\"20.9565\">400</text>\n",
       "</g>\n",
       "<g clip-path=\"url(#clip00)\">\n",
       "<text style=\"fill:#00002d; fill-opacity:1; font-family:Arial,Helvetica Neue,Helvetica,sans-serif; font-size:16; text-anchor:middle;\" transform=\"rotate(0, 323.387, 397.6)\" x=\"323.387\" y=\"397.6\">Algorithms</text>\n",
       "</g>\n",
       "<g clip-path=\"url(#clip00)\">\n",
       "<text style=\"fill:#00002d; fill-opacity:1; font-family:Arial,Helvetica Neue,Helvetica,sans-serif; font-size:16; text-anchor:middle;\" transform=\"rotate(-90, 14.4, 182.869)\" x=\"14.4\" y=\"182.869\">Efficiency</text>\n",
       "</g>\n",
       "<polygon clip-path=\"url(#clip02)\" points=\"\n",
       "50.7108,3.93701 50.7108,361.8 323.387,361.8 323.387,3.93701 50.7108,3.93701 50.7108,3.93701 \n",
       "  \" fill=\"#0099ff\" fill-opacity=\"1\"/>\n",
       "<polyline clip-path=\"url(#clip02)\" style=\"stroke:#00002d; stroke-width:0.8; stroke-opacity:1; fill:none\" points=\"\n",
       "  50.7108,3.93701 50.7108,361.8 323.387,361.8 323.387,3.93701 50.7108,3.93701 \n",
       "  \"/>\n",
       "<polygon clip-path=\"url(#clip02)\" points=\"\n",
       "323.387,296.478 323.387,361.8 596.063,361.8 596.063,296.478 323.387,296.478 323.387,296.478 \n",
       "  \" fill=\"#0099ff\" fill-opacity=\"1\"/>\n",
       "<polyline clip-path=\"url(#clip02)\" style=\"stroke:#00002d; stroke-width:0.8; stroke-opacity:1; fill:none\" points=\"\n",
       "  323.387,296.478 323.387,361.8 596.063,361.8 596.063,296.478 323.387,296.478 \n",
       "  \"/>\n",
       "</svg>\n"
      ]
     },
     "execution_count": 136,
     "metadata": {},
     "output_type": "execute_result"
    }
   ],
   "source": [
    "setups = [Dict(:alg=>:DP5)\n",
    "          Dict(:alg=>:dopri5)]\n",
    "names = [\"DifferentialEquations\";\"ODEInterface\"]\n",
    "shoot = ode_shootout(prob,tspan,setups;Δt=1/2^(10),names=names,abstol=1e-6,roltol=1e-6,dense=false,β=0.04)\n",
    "println(shoot)\n",
    "plot(shoot)"
   ]
  },
  {
   "cell_type": "markdown",
   "metadata": {},
   "source": [
    "As you can see, it's less efficient for quicker solving as theoretically predicted. However, still DifferentialEquations.jl's `:DP5` is both the fastest and is by far the winner in terms of error, being 20% faster while being 4x more accurate than `:dopri5`"
   ]
  },
  {
   "cell_type": "markdown",
   "metadata": {},
   "source": [
    "### Choices\n",
    "\n",
    "Now let's look at some of the development choices made in `:DP5` which allows it to be so efficient."
   ]
  },
  {
   "cell_type": "code",
   "execution_count": 144,
   "metadata": {
    "collapsed": false
   },
   "outputs": [
    {
     "name": "stdout",
     "output_type": "stream",
     "text": [
      "Names: String[\"Standard DP5\",\"Vectorized\",\"No PI Control\",\"Full Normalized\",\"Tableau Form\",\"Lower β\"], Winner: Standard DP5\n",
      "Efficiencies: [3348.61,1299.89,192.895,236.616,367.137,390.425]\n",
      "EffRatios: [1.0,2.57606,17.3597,14.1521,9.12085,8.57681]\n",
      "Times: [0.0791935,0.204007,0.0236998,0.0315894,0.0572336,0.0188449]\n",
      "Errors: [0.00377091,0.00377091,0.218743,0.133787,0.0475905,0.135915]\n",
      "\n"
     ]
    },
    {
     "data": {
      "text/html": [
       "<img src=\"data:image/png;base64,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\" />"
      ]
     },
     "execution_count": 144,
     "metadata": {},
     "output_type": "execute_result"
    }
   ],
   "source": [
    "setups = [Dict(:alg=>:DP5)\n",
    "          Dict(:alg=>:DP5Vectorized)\n",
    "          Dict(:alg=>:DP5,:timechoicealg=>:Simple)\n",
    "          Dict(:alg=>:DP5,:fullnormalize=>true)\n",
    "          Dict(:alg=>:ExplicitRK)\n",
    "          Dict(:alg=>:DP5,:β=>0.04)]\n",
    "\n",
    "names = [\"Standard DP5\",\"Vectorized\",\"No PI Control\",\"Full Normalized\",\"Tableau Form\",\"Lower β\"]\n",
    "\n",
    "shoot = ode_shootout(prob,tspan,setups,names=names,dense=false)\n",
    "println(shoot)\n",
    "plot(shoot)"
   ]
  },
  {
   "cell_type": "markdown",
   "metadata": {},
   "source": [
    "What we can see from these efficiencies is which elements of the algorithm cause how much of a change to the efficiency. We know that DifferentialEquations.jl's devectorized implementation is much better than ODE.jl's (indeed, since there is no adaptivity in the `:RK4` algorithm, that's what the test was measuring). But what we see here is that the devectorization is the smallest contributing factor to the speed. The most crucial factor was the PI stepsize control (which ODE.jl doesn't even have!). Next we see that changing the normalization and increasing the beta had tremendous effects, all significantly more than changing from a tableau form (i.e. unrolling the tableau to individual stack-allocated variables) and de-vectorizing.\n",
    "\n",
    "Here we note that this still vastly underestimates DifferentialEquations.jl's performance since, in this devectorized form, within-method parallelization/threading is trivial. Indeed, from this there has already been developed a `:DP5Threaded` which works with Julia's experimental threading. This results in even more efficiency. Tests including `:DP5Threaded` will be included once a few issues with Julia's threading are cleaned up (mostly due to type-inference).\n",
    "\n",
    "### ODE.jl Defaults\n",
    "\n",
    "As noted before, ODE.jl's default tolerances are odd and do not match up with the standards. To test if \"ODE.jl was fine-tuned for its defaults\", we decided to run `:DP5` against `:ode45` in its own territory."
   ]
  },
  {
   "cell_type": "code",
   "execution_count": 151,
   "metadata": {
    "collapsed": false
   },
   "outputs": [
    {
     "name": "stdout",
     "output_type": "stream",
     "text": [
      "Names: String[\"DifferentialEquations\",\"ODE\"], Winner: DifferentialEquations\n",
      "Efficiencies: [1.09693e5,768.121]\n",
      "EffRatios: [1.0,142.807]\n",
      "Times: [0.172873,0.172057]\n",
      "Errors: [5.27342e-5,0.00756653]\n",
      "\n"
     ]
    },
    {
     "data": {
      "text/html": [
       "<img src=\"data:image/png;base64,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\" />"
      ]
     },
     "execution_count": 151,
     "metadata": {},
     "output_type": "execute_result"
    }
   ],
   "source": [
    "setups = [Dict(:abstol=>1e-9,:reltol=>1e-5,:alg=>:DP5)\n",
    "          Dict(:alg=>:ode45)]\n",
    "names = [\"DifferentialEquations\",\"ODE\"]\n",
    "shoot = ode_shootout(prob,tspan,setups;names=names,dense=false)\n",
    "println(shoot)\n",
    "plot(shoot)"
   ]
  },
  {
   "cell_type": "markdown",
   "metadata": {},
   "source": [
    "As you can see, it's still not even close. DifferentialEquations.jl matches runtime ODE.jl average trials, but also achieves 140x less error.\n",
    "\n",
    "### Algorithm Choice\n",
    "\n",
    "Let's test different choices for the algorithm. We have thoroughly tested `:DP5` since Dormand-Prince 4/5 pairs pretty much the standard. However, it's not the only choice for non-stiff methods. In fact, DifferentialEquations.jl has over 100 other non-stiff methods to choose from! Let's see if a few top choices fair any better on this problem:"
   ]
  },
  {
   "cell_type": "code",
   "execution_count": 158,
   "metadata": {
    "collapsed": false
   },
   "outputs": [
    {
     "name": "stdout",
     "output_type": "stream",
     "text": [
      "Names: String[\"DP5\",\"ode23\",\"BS3\",\"DP8\",\"dop853\",\"ode78\",\"odex\",\"cvode_Adams\"], Winner: DP5\n",
      "Efficiencies: [3457.54,0.572516,4.5949,3061.41,4.19536,633.882,2.79021,0.383964]\n",
      "EffRatios: [1.0,6039.21,752.474,1.1294,824.134,5.45455,1239.17,9004.85]\n",
      "Times: [0.0766984,1.18682,0.274144,0.0510976,0.00816788,0.089304,0.0205363,0.0344436]\n",
      "Errors: [0.00377091,1.47174,0.793864,0.00639261,29.1824,0.0176653,17.4518,75.6137]\n",
      "\n"
     ]
    },
    {
     "data": {
      "text/html": [
       "<img src=\"data:image/png;base64,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\" />"
      ]
     },
     "execution_count": 158,
     "metadata": {},
     "output_type": "execute_result"
    }
   ],
   "source": [
    "setups = [Dict(:alg=>:DP5)\n",
    "          Dict(:alg=>:ode23)\n",
    "          Dict(:alg=>:BS3)\n",
    "          Dict(:alg=>:DP8)\n",
    "          Dict(:alg=>:dop853)\n",
    "          Dict(:alg=>:ode78)\n",
    "          Dict(:alg=>:odex)\n",
    "          Dict(:alg=>:cvode_Adams)]\n",
    "shoot = ode_shootout(prob,tspan,setups,dense=false)\n",
    "println(shoot)\n",
    "plot(shoot)"
   ]
  },
  {
   "cell_type": "markdown",
   "metadata": {},
   "source": [
    "Obviously as expected, DifferentialEquations.jl does well, ODE.jl does not, Sundial's Adams method is not well suited for this problem. The only interesting thing is `:dop853` which is inefficient but fast. However, note that we can match settings with `:dop853`:"
   ]
  },
  {
   "cell_type": "code",
   "execution_count": 199,
   "metadata": {
    "collapsed": false
   },
   "outputs": [
    {
     "name": "stdout",
     "output_type": "stream",
     "text": [
      "[0.0,0.015625,0.109375,0.469249,0.964308,1.50402,2.05713,2.61416,3.1723,3.73076,4.2893,4.84786,5.40642,5.96498,6.52353,7.08209,7.64065,8.1992,8.75776,9.31631,9.87486,10.0]\n",
      "[0.0,0.015625,0.109375,0.469249,0.964308,1.50402,2.05713,2.61416,3.1723,3.73076,4.2893,4.84786,5.40642,5.96498,6.52353,7.08209,7.64065,8.1992,8.75776,9.31631,9.87486,10.0]\n"
     ]
    }
   ],
   "source": [
    "sol2 =solve(prob::ODEProblem,[0,10],Δt=1/2^6,alg=:DP8,β=0.13,qmin=0.333,qmax=6.0,fullnormalize=true)\n",
    "sol3 =solve(prob::ODEProblem,[0,10],Δt=1/2^6,alg=:dop853,β=0.13)\n",
    "println(sol2.t)\n",
    "println(sol3.t)"
   ]
  },
  {
   "cell_type": "code",
   "execution_count": 235,
   "metadata": {
    "collapsed": false
   },
   "outputs": [
    {
     "name": "stdout",
     "output_type": "stream",
     "text": [
      "Names: String[\"DP8\",\"dop853\"], Winner: dop853\n",
      "Efficiencies: [1.99569e5,4.44662e5]\n",
      "EffRatios: [2.22811,1.0]\n",
      "Times: [0.085965,0.0385819]\n",
      "Errors: [5.82889e-5,5.82889e-5]\n",
      "\n"
     ]
    },
    {
     "data": {
      "text/html": [
       "<img src=\"data:image/png;base64,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\" />"
      ]
     },
     "execution_count": 235,
     "metadata": {},
     "output_type": "execute_result"
    }
   ],
   "source": [
    "setups = [Dict(:alg=>:DP8)\n",
    "          Dict(:alg=>:dop853)]\n",
    "shoot = ode_shootout(prob,tspan,setups,dense=false,Δt=1/2^6,β=0.13,qmin=0.333,qmax=6.0,fullnormalize=true)\n",
    "println(shoot)\n",
    "plot(shoot)"
   ]
  },
  {
   "cell_type": "markdown",
   "metadata": {},
   "source": [
    "Currently at matched settings `:dop853` is 2.5x faster. We'll see what happens when `:DP8` gets optimized and multithreaded! The goal is to do as much better than `:dop853` as we were able to do with `:DP5` vs `:dopri5`.\n",
    "\n",
    "## Other Runge-Kutta Algorithms\n",
    "\n",
    "DifferentialEquations.jl has plenty of other Runge-Kutta algorithms. These Dormand-Prince pairs were the most efficient in the 80's, is that still the case?"
   ]
  },
  {
   "cell_type": "code",
   "execution_count": 262,
   "metadata": {
    "collapsed": false
   },
   "outputs": [
    {
     "name": "stdout",
     "output_type": "stream",
     "text": [
      "Names: String[\"DP5\",\"BS3\",\"BS5\",\"Tsit5\",\"Vern6\",\"TanYam7\",\"Vern7\",\"Vern8\",\"DP8\",\"Vern9\"], Winner: Vern8\n",
      "Efficiencies: [3391.38,4.58742,1237.32,641.474,11800.2,23793.1,73262.7,2.32326e5,3103.09,75335.9]\n",
      "EffRatios: [68.5049,50644.1,187.765,362.175,19.6883,9.76441,3.17114,1.0,74.8692,3.08387]\n",
      "Times: [0.0781948,0.27459,0.0402281,0.0417708,0.0168485,0.017323,0.0168725,0.0493344,0.0504112,0.0765692]\n",
      "Errors: [0.00377091,0.793864,0.0200904,0.0373206,0.00502976,0.00242619,0.000808981,8.72474e-5,0.00639261,0.000173358]\n",
      "\n"
     ]
    },
    {
     "data": {
      "text/html": [
       "<img src=\"data:image/png;base64,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\" />"
      ]
     },
     "execution_count": 262,
     "metadata": {},
     "output_type": "execute_result"
    }
   ],
   "source": [
    "setups = [Dict(:alg=>:DP5)\n",
    "          Dict(:alg=>:BS3)\n",
    "          Dict(:alg=>:BS5)\n",
    "          Dict(:alg=>:Tsit5)\n",
    "          Dict(:alg=>:Vern6)\n",
    "          Dict(:alg=>:TanYam7)\n",
    "          Dict(:alg=>:Vern7)\n",
    "          Dict(:alg=>:Vern8)\n",
    "          Dict(:alg=>:DP8)\n",
    "          Dict(:alg=>:Vern9)]\n",
    "shoot = ode_shootout(prob,tspan,setups,dense=false)\n",
    "println(shoot)\n",
    "plot(shoot)"
   ]
  },
  {
   "cell_type": "markdown",
   "metadata": {},
   "source": [
    "It's clear that the Vern8 method is really good! Settings need to be optimized, but it looks like `:Vern8` is more efficient than `DP8` and should be optimized instead. Just quickly playing around with settings:"
   ]
  },
  {
   "cell_type": "code",
   "execution_count": 281,
   "metadata": {
    "collapsed": false
   },
   "outputs": [
    {
     "name": "stdout",
     "output_type": "stream",
     "text": [
      "Names: String[\"Vern8\",\"dop853\"], Winner: dop853\n",
      "Efficiencies: [1.3824e9,3.10785e9]\n",
      "EffRatios: [2.24816,1.0]\n",
      "Times: [0.162382,0.139065]\n",
      "Errors: [4.45482e-9,2.31377e-9]\n",
      "\n"
     ]
    },
    {
     "data": {
      "text/html": [
       "<img src=\"data:image/png;base64,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\" />"
      ]
     },
     "execution_count": 281,
     "metadata": {},
     "output_type": "execute_result"
    }
   ],
   "source": [
    "setups = [Dict(:alg=>:Vern8,:β=>0.13,:γ=>0.85)\n",
    "          Dict(:alg=>:dop853,:β=>0.2)]\n",
    "shoot = ode_shootout(prob,tspan,setups,dense=false)\n",
    "println(shoot)\n",
    "plot(shoot)"
   ]
  },
  {
   "cell_type": "markdown",
   "metadata": {},
   "source": [
    "`Vern8` is also within 2x of `:dop853`. Some optimization needs to be done and we should beat it soon! Thus it's clear that ODE.jl is far behind, with the true competition being between DifferentialEquations.jl and ODEInterface's `:dop853`"
   ]
  },
  {
   "cell_type": "markdown",
   "metadata": {},
   "source": [
    "## ODE.jl Matched Timings\n",
    "\n",
    "Next we found tolerances to roughly match the timings between the DifferentialEquations.jl and ODE.jl algorithms at mild tolerances. In this range 4/5 pairs should beat Order 8 methods."
   ]
  },
  {
   "cell_type": "code",
   "execution_count": 291,
   "metadata": {
    "collapsed": false
   },
   "outputs": [
    {
     "name": "stdout",
     "output_type": "stream",
     "text": [
      "Names: String[\"DP5\",\"BS5\",\"Tsit5\",\"DP8\",\"ode45\",\"ode78\"], Winner: BS5\n",
      "Efficiencies: [3402.6,11575.6,1938.36,525.897,25.3,17.6675]\n",
      "EffRatios: [3.40198,1.0,5.97184,22.0111,457.532,655.188]\n",
      "Times: [0.077573,0.0593046,0.0575002,0.0367974,0.0726448,0.0697828]\n",
      "Errors: [0.0037886,0.0014567,0.00897216,0.0516753,0.544096,0.811103]\n",
      "\n"
     ]
    },
    {
     "data": {
      "text/html": [
       "<img src=\"data:image/png;base64,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\" />"
      ]
     },
     "execution_count": 291,
     "metadata": {},
     "output_type": "execute_result"
    }
   ],
   "source": [
    "setups = [Dict(:alg=>:DP5,:abstol=>1e-5,:reltol=>1e-3)\n",
    "          Dict(:alg=>:BS5,:abstol=>1e-6,:reltol=>2e-4)\n",
    "          Dict(:alg=>:Tsit5,:abstol=>1e-6,:reltol=>2e-4)\n",
    "          Dict(:alg=>:DP8,:abstol=>1e-5,:reltol=>1e-2)\n",
    "          Dict(:alg=>:ode45,:abstol=>1e-4,:reltol=>5e-5)\n",
    "          Dict(:alg=>:ode78,:abstol=>1e-7,:reltol=>5e-5)]\n",
    "shoot = ode_shootout(prob,tspan,setups,dense=false)\n",
    "println(shoot)\n",
    "plot(shoot)"
   ]
  },
  {
   "cell_type": "markdown",
   "metadata": {},
   "source": [
    "These results show that the DifferentialEquations.jl algorithms dominiate over the ODE.jl algorithms in terms of efficiency even when matching runtimes.\n",
    "\n",
    "What is BS5? This pair is not as well known, but the Bogakai-Shampine 4/5 pair is a highly efficient FSAL Runge-Kutta pair. While it uses one more stage than \"optimal\", this allows it to have vastly reduced error and two error estimators for a more robust calculation. From this test we can see that it even destroys the DifferentialEquations.jl `:DP5` implementation on this test. This Runge-Kutta method is actually the default in Mathematica, and more tests will be done to see whether it would be a more suitable default than `:DP5`. As you can see, DifferentialEquations.jl's benchmarking facilities and large algorithm database provides a good option for research and comparison between methods!"
   ]
  },
  {
   "cell_type": "markdown",
   "metadata": {},
   "source": [
    "### Results on Numbers\n",
    "\n",
    "Now we test the results on \"numbers\", i.e. ODEs in one variable. This won't even be fair because DifferentialEquations.jl provides special dispatches on number while the other wrapped packages treat them as size-1 arrays (this is by the design of their packages). "
   ]
  },
  {
   "cell_type": "code",
   "execution_count": 288,
   "metadata": {
    "collapsed": false
   },
   "outputs": [
    {
     "name": "stdout",
     "output_type": "stream",
     "text": [
      "Names: String[\"DP5\",\"ode45\",\"dopri5\"], Winner: DP5\n",
      "Efficiencies: [22589.0,2090.73,2934.87]\n",
      "EffRatios: [1.0,10.8044,7.69678]\n",
      "Times: [0.000323557,0.0006807,0.000576208]\n",
      "Errors: [0.136821,0.702664,0.591334]\n",
      "\n"
     ]
    },
    {
     "data": {
      "text/html": [
       "<img src=\"data:image/png;base64,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\" />"
      ]
     },
     "execution_count": 288,
     "metadata": {},
     "output_type": "execute_result"
    }
   ],
   "source": [
    "setups = [Dict(:alg=>:DP5)\n",
    "          Dict(:abstol=>1e-3,:reltol=>1e-6,:alg=>:ode45); # Fix ODE to be normal\n",
    "          Dict(:alg=>:dopri5)]\n",
    "shoot = ode_shootout(probnum,tspan,setups)\n",
    "println(shoot)\n",
    "plot(shoot)"
   ]
  },
  {
   "cell_type": "markdown",
   "metadata": {},
   "source": [
    "In this case, `:DP5` is about four times as fast as the other algorithms and still achieves less error, making it the clear winner. This is even without continuous output turned off. More features, faster, less error, etc."
   ]
  },
  {
   "cell_type": "markdown",
   "metadata": {},
   "source": [
    "### Conclusions\n",
    "\n",
    "As you can see, a lot of time has been spent on DifferentialEquations.jl's non-stiff solvers are not only feature-filled, but also very efficient. ODEs in one variable are special-cased in DifferentialEquations.jl's algorithms to give maximal efficiency. All of the methods can work on arbitrary-sized arrays, and the methods are fully devectorized and utilize caching to have nearly zero allocations during the core loop. Tweaks on stepsize stabilization methods are also included, resulting in an even more efficient stepsize method.\n",
    "\n",
    "The result is DifferentialEquations.jl comes out on top in terms of efficiency in almost every test. The only case where it falls behind is when considering higher order methods, where the very new implementations of `Vern8` and `DP8` are about 2x from the classic `:dop853`, with `:DP8` matching its properties exactly. This shows that even the early stages of DifferentialEquations.jl show great promise, and the multithreaded versions will likely be even more efficient. ODE.jl's algorithm have higher error and runtimes than the DifferentialEquations.jl algorithms, meaning that they are interesting for academic reasons, but are not in the same league of efficiency.\n",
    "\n",
    "Thus we recommend trying `:DP5` on your standard problems. It's continuous output comes almost for free and it is proven to be the most  For problems where you can get away with crude tolerances, `:BS3` may be the fastest and most efficient algorithm. Where stringent tolerances are needed, `:DP8` or `Vern8` comes out on top if you need continuous output or other DifferentialEquations.jl features, and we have our eye on `:dop853` and are getting close. Not included in this test are the Feagin methods like `:Feagin14` which are extremely high order Runge-Kutta methods. These are only efficient when your tolerances are \"at the level of BigFloats\", and dominate until the tolerance is about 1e-40, where extrapolation algorithms finally have an advantage."
   ]
  }
 ],
 "metadata": {
  "kernelspec": {
   "display_name": "Julia 0.5.0-rc3",
   "language": "julia",
   "name": "julia-0.5"
  },
  "language_info": {
   "file_extension": ".jl",
   "mimetype": "application/julia",
   "name": "julia",
   "version": "0.5.0"
  }
 },
 "nbformat": 4,
 "nbformat_minor": 1
}
