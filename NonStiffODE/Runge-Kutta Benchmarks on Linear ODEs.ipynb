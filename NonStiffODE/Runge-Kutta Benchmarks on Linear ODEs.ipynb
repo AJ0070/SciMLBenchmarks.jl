{
 "cells": [
  {
   "cell_type": "markdown",
   "metadata": {},
   "source": [
    "# Runge-Kutta Benchmarks on Linear ODEs\n",
    "\n",
    "This notebook is to document benchmarks between the Runge-Kutta solvers implemented in Julia. These are the implementations native to OrdinaryDiffEq.jl, ODE.jl, and those the classic Hairer methods provided by ODEInterface.jl. We will use OrdinaryDiffEq.jl's benchmarking framework for performing these tests. The purpose of this notebook is to complement the work-precision diagrams by showing how the same algorithm (Runge-Kutta Order 4) is many times faster in OrdinaryDiffEq.jl than in ODE.jl, and that OrdinaryDiffEq.jl specializes on scalar problems for more efficiency gains.\n",
    "\n",
    "First, let's define our problems:"
   ]
  },
  {
   "cell_type": "code",
   "execution_count": 14,
   "metadata": {
    "collapsed": false
   },
   "outputs": [
    {
     "data": {
      "text/plain": [
       "Plots.GRBackend()"
      ]
     },
     "execution_count": 14,
     "metadata": {},
     "output_type": "execute_result"
    }
   ],
   "source": [
    "using DifferentialEquations\n",
    "\n",
    "# Linear ODE\n",
    "f = (t,u) -> (1.01*u)\n",
    "analytic = (t,u₀) -> u₀*exp(1.01*t)\n",
    "probnum = ODETestProblem(f,1/2,analytic)\n",
    "\n",
    "# 2D Linear ODE\n",
    "f = (t,u,du) -> begin\n",
    "  for i in 1:length(u)\n",
    "    du[i] = 1.01*u[i]\n",
    "  end\n",
    "end\n",
    "analytic = (t,u₀) -> u₀*exp(1.01*t)\n",
    "tspan = (0,1);\n",
    "prob = ODETestProblem(f,rand(100,100),analytic)\n",
    "using Plots; gr()"
   ]
  },
  {
   "cell_type": "markdown",
   "metadata": {},
   "source": [
    "Here, `probnum` is a simply the 1-dimensional linear ODE, and `prob` is a 100x100 matrix of linear ODEs.\n",
    "\n",
    "Although  the linear ODE may be the most \"basic\" case, the linear ODE on [0,10] has some interesting qualities. Since it rises so fast in the end, most of the error is accumulated there. However, error from earlier is compounded in later stages. Therefore, in order for an algorithm to achieve low error, it has to be able to evenly distribute its error (in percentage) about the whole problem. Thus it is a good test of the ability for the adaptivity algorithm to control error globally. Also, the small time it takes for the actual function calculations better highlights the differences between implementations. Lastly, the steep rise in the end can be a problem for methods trying to scrape by with higher error but faster speeds. This means that lower order methods tend to get trapped, but too high of an order simply costs too much. Who will do best? Let's see what we get!\n",
    "\n",
    "## First, A Choice\n",
    "\n",
    "Note that DifferentialEquations.jl by default stores more information than the other algorithms. This is for the continuous output that is allowed via `sol(t)`. To make the tests fair, we turn this off for the tests.\n",
    "\n",
    "## RK4\n",
    "\n",
    "To use the suite, we simply define the setups we want to run on a problem, and then call the shootout function. Let's start by testing the RK4 implementations on probnum. RK4 algorithms are fixed timestep, and so by choosing the same timestep, we should arrive at around the same error (sans numerical truncation), meaning this is a good test of how efficient the most basic implementaions are. Since RK4 is a relatively simple algorithm, the differences shouldn't be too dramatic. Here we will test DifferentialEquations' native `RK4` vs the implementation `rk4` from ODE.jl."
   ]
  },
  {
   "cell_type": "code",
   "execution_count": 25,
   "metadata": {
    "collapsed": false
   },
   "outputs": [
    {
     "data": {
      "text/plain": [
       "DiffEqDevTools.Shootout(Dict{Symbol,Any}[Dict{Symbol,Any}(Pair{Symbol,Any}(:alg,DiffEqBase.RK4)),Dict{Symbol,Any}(Pair{Symbol,Any}(:dense,false),Pair{Symbol,Any}(:alg,DiffEqBase.RK4)),Dict{Symbol,Any}(Pair{Symbol,Any}(:save_timeseries,false),Pair{Symbol,Any}(:dense,false),Pair{Symbol,Any}(:alg,DiffEqBase.RK4)),Dict{Symbol,Any}(Pair{Symbol,Any}(:alg,DiffEqBase.rk4))],[0.00048526,0.000393981,0.000203308,0.000706806],[7.07298e-10,7.07298e-10,7.07298e-10,7.073e-10],[1.45678e11,1.79429e11,3.47707e11,1.00015e11],[1.0 0.811897 0.418967 1.45656; 1.23168 1.0 0.516034 1.79402; 2.38683 1.93786 1.0 3.47654; 0.686551 0.557409 0.287642 1.0],DiffEqBase.AbstractODESolution[DiffEqBase.ODETestSolution{Array{Float64,1},Array{Float64,1},Float64,Array{Float64,1},Array{Float64,1},DiffEqBase.ODETestProblem{Float64,Float64,false,##21#22},DiffEqBase.RK4},DiffEqBase.ODETestSolution{Array{Float64,1},Array{Float64,1},Float64,Array{Float64,1},Array{Float64,1},DiffEqBase.ODETestProblem{Float64,Float64,false,##21#22},DiffEqBase.RK4},DiffEqBase.ODETestSolution{Array{Float64,1},Array{Float64,1},Float64,Array{Float64,1},Array{Float64,1},DiffEqBase.ODETestProblem{Float64,Float64,false,##21#22},DiffEqBase.RK4},DiffEqBase.ODETestSolution{Array{Float64,1},Array{Float64,1},Float64,Array{Float64,1},Array{Float64,1},DiffEqBase.ODETestProblem{Float64,Float64,false,##21#22},DataType}],String[\"RK4 Continuous\",\"RK4 Non-Dense\",\"RK4 Save End\",\"ODE.jl rk4\"],4,3,\"RK4 Save End\")"
      ]
     },
     "execution_count": 25,
     "metadata": {},
     "output_type": "execute_result"
    }
   ],
   "source": [
    "setups = [Dict(:alg=>RK4);Dict(:alg=>RK4,:dense=>false);Dict(:alg=>RK4,:dense=>false,:save_timeseries=>false);Dict(:alg=>rk4)]\n",
    "names = [\"RK4 Continuous\";\"RK4 Non-Dense\";\"RK4 Save End\";\"ODE.jl rk4\"]\n",
    "shoot = ode_shootout(probnum,setups;dt=1/2^(6),names=names)"
   ]
  },
  {
   "cell_type": "markdown",
   "metadata": {},
   "source": [
    "Here, we define:\n",
    "\n",
    "$$ Efficiency = \\frac{1}{Error \\times Time} $$\n",
    "\n",
    "Thus if an algorithm results in less error or faster runtimes, it's calculated as more efficient. These results show that DifferentialEquations' `:RK4` is 1.75x as efficient as ODE.jl's `:ode4`. We can get more information by printing the results:"
   ]
  },
  {
   "cell_type": "code",
   "execution_count": 36,
   "metadata": {
    "collapsed": false
   },
   "outputs": [
    {
     "name": "stdout",
     "output_type": "stream",
     "text": [
      "shoot.times = [0.00048526,0.000393981,0.000203308,0.000706806]\n",
      "shoot.errors = [7.07298e-10,7.07298e-10,7.07298e-10,7.073e-10]\n",
      "shoot.effs = [1.45678e11,1.79429e11,3.47707e11,1.00015e11]\n",
      "shoot.effratios[shoot.bestidx,:] = [2.38683,1.93786,1.0,3.47654]\n"
     ]
    },
    {
     "data": {
      "text/plain": [
       "4-element Array{Float64,1}:\n",
       " 2.38683\n",
       " 1.93786\n",
       " 1.0    \n",
       " 3.47654"
      ]
     },
     "execution_count": 36,
     "metadata": {},
     "output_type": "execute_result"
    }
   ],
   "source": [
    "@show shoot.times # Times\n",
    "@show shoot.errors # Errors\n",
    "@show shoot.effs # Efficiencies\n",
    "@show shoot.effratios[shoot.bestidx,:] # Efficiencies"
   ]
  },
  {
   "cell_type": "markdown",
   "metadata": {},
   "source": [
    "This shows that the resulting error was essentialy the same, but `:RK4` ran faster ~3.5x faster. This shows how the DifferentialEquations.jl algorithms are well-optimized, and even the non-multithreaded versions can beat other other Julia implmentations. This is by default a mean of 20 runs and is thus quite stable result. A plot recipe is provided to plot the efficiencies together:"
   ]
  },
  {
   "cell_type": "code",
   "execution_count": 37,
   "metadata": {
    "collapsed": false
   },
   "outputs": [
    {
     "data": {
      "text/html": [
       "<?xml version=\"1.0\" encoding=\"utf-8\"?>\n",
       "<svg xmlns=\"http://www.w3.org/2000/svg\" xmlns:xlink=\"http://www.w3.org/1999/xlink\" width=\"600\" height=\"400\" viewBox=\"0 0 600 400\">\n",
       "<defs>\n",
       "  <clipPath id=\"clip00\">\n",
       "    <rect x=\"0\" y=\"0\" width=\"600\" height=\"400\"/>\n",
       "  </clipPath>\n",
       "</defs>\n",
       "<polygon clip-path=\"url(#clip00)\" points=\"\n",
       "0,400 600,400 600,0 0,0 \n",
       "  \" fill=\"#ffffff\" fill-opacity=\"1\"/>\n",
       "<defs>\n",
       "  <clipPath id=\"clip01\">\n",
       "    <rect x=\"120\" y=\"0\" width=\"421\" height=\"400\"/>\n",
       "  </clipPath>\n",
       "</defs>\n",
       "<polygon clip-path=\"url(#clip00)\" points=\"\n",
       "125.881,369.674 596.063,369.674 596.063,3.93701 125.881,3.93701 \n",
       "  \" fill=\"#ffffff\" fill-opacity=\"1\"/>\n",
       "<defs>\n",
       "  <clipPath id=\"clip02\">\n",
       "    <rect x=\"125\" y=\"3\" width=\"471\" height=\"366\"/>\n",
       "  </clipPath>\n",
       "</defs>\n",
       "<polyline clip-path=\"url(#clip02)\" style=\"stroke:#00002d; stroke-width:0.8; stroke-opacity:0.5; fill:none\" stroke-dasharray=\"1, 2\" points=\"\n",
       "  194.634,364.188 194.634,9.42306 \n",
       "  \"/>\n",
       "<polyline clip-path=\"url(#clip02)\" style=\"stroke:#00002d; stroke-width:0.8; stroke-opacity:0.5; fill:none\" stroke-dasharray=\"1, 2\" points=\"\n",
       "  305.526,364.188 305.526,9.42306 \n",
       "  \"/>\n",
       "<polyline clip-path=\"url(#clip02)\" style=\"stroke:#00002d; stroke-width:0.8; stroke-opacity:0.5; fill:none\" stroke-dasharray=\"1, 2\" points=\"\n",
       "  416.418,364.188 416.418,9.42306 \n",
       "  \"/>\n",
       "<polyline clip-path=\"url(#clip02)\" style=\"stroke:#00002d; stroke-width:0.8; stroke-opacity:0.5; fill:none\" stroke-dasharray=\"1, 2\" points=\"\n",
       "  527.31,364.188 527.31,9.42306 \n",
       "  \"/>\n",
       "<polyline clip-path=\"url(#clip02)\" style=\"stroke:#00002d; stroke-width:0.8; stroke-opacity:0.5; fill:none\" stroke-dasharray=\"1, 2\" points=\"\n",
       "  132.934,369.674 589.01,369.674 \n",
       "  \"/>\n",
       "<polyline clip-path=\"url(#clip02)\" style=\"stroke:#00002d; stroke-width:0.8; stroke-opacity:0.5; fill:none\" stroke-dasharray=\"1, 2\" points=\"\n",
       "  132.934,264.489 589.01,264.489 \n",
       "  \"/>\n",
       "<polyline clip-path=\"url(#clip02)\" style=\"stroke:#00002d; stroke-width:0.8; stroke-opacity:0.5; fill:none\" stroke-dasharray=\"1, 2\" points=\"\n",
       "  132.934,159.303 589.01,159.303 \n",
       "  \"/>\n",
       "<polyline clip-path=\"url(#clip02)\" style=\"stroke:#00002d; stroke-width:0.8; stroke-opacity:0.5; fill:none\" stroke-dasharray=\"1, 2\" points=\"\n",
       "  132.934,54.1182 589.01,54.1182 \n",
       "  \"/>\n",
       "<polyline clip-path=\"url(#clip02)\" style=\"stroke:#00002d; stroke-width:0.8; stroke-opacity:1; fill:none\" points=\"\n",
       "  125.881,369.674 596.063,369.674 \n",
       "  \"/>\n",
       "<polyline clip-path=\"url(#clip02)\" style=\"stroke:#00002d; stroke-width:0.8; stroke-opacity:1; fill:none\" points=\"\n",
       "  194.634,369.674 194.634,364.188 \n",
       "  \"/>\n",
       "<polyline clip-path=\"url(#clip02)\" style=\"stroke:#00002d; stroke-width:0.8; stroke-opacity:1; fill:none\" points=\"\n",
       "  305.526,369.674 305.526,364.188 \n",
       "  \"/>\n",
       "<polyline clip-path=\"url(#clip02)\" style=\"stroke:#00002d; stroke-width:0.8; stroke-opacity:1; fill:none\" points=\"\n",
       "  416.418,369.674 416.418,364.188 \n",
       "  \"/>\n",
       "<polyline clip-path=\"url(#clip02)\" style=\"stroke:#00002d; stroke-width:0.8; stroke-opacity:1; fill:none\" points=\"\n",
       "  527.31,369.674 527.31,364.188 \n",
       "  \"/>\n",
       "<polyline clip-path=\"url(#clip02)\" style=\"stroke:#00002d; stroke-width:0.8; stroke-opacity:1; fill:none\" points=\"\n",
       "  125.881,369.674 125.881,3.93701 \n",
       "  \"/>\n",
       "<polyline clip-path=\"url(#clip02)\" style=\"stroke:#00002d; stroke-width:0.8; stroke-opacity:1; fill:none\" points=\"\n",
       "  125.881,369.674 132.934,369.674 \n",
       "  \"/>\n",
       "<polyline clip-path=\"url(#clip02)\" style=\"stroke:#00002d; stroke-width:0.8; stroke-opacity:1; fill:none\" points=\"\n",
       "  125.881,264.489 132.934,264.489 \n",
       "  \"/>\n",
       "<polyline clip-path=\"url(#clip02)\" style=\"stroke:#00002d; stroke-width:0.8; stroke-opacity:1; fill:none\" points=\"\n",
       "  125.881,159.303 132.934,159.303 \n",
       "  \"/>\n",
       "<polyline clip-path=\"url(#clip02)\" style=\"stroke:#00002d; stroke-width:0.8; stroke-opacity:1; fill:none\" points=\"\n",
       "  125.881,54.1182 132.934,54.1182 \n",
       "  \"/>\n",
       "<g clip-path=\"url(#clip00)\">\n",
       "<text style=\"fill:#00002d; fill-opacity:1; font-family:Arial,Helvetica Neue,Helvetica,sans-serif; font-size:12; text-anchor:middle;\" transform=\"rotate(0, 194.634, 381.674)\" x=\"194.634\" y=\"381.674\">RK4 Continuous</text>\n",
       "</g>\n",
       "<g clip-path=\"url(#clip00)\">\n",
       "<text style=\"fill:#00002d; fill-opacity:1; font-family:Arial,Helvetica Neue,Helvetica,sans-serif; font-size:12; text-anchor:middle;\" transform=\"rotate(0, 305.526, 381.674)\" x=\"305.526\" y=\"381.674\">RK4 Non-Dense</text>\n",
       "</g>\n",
       "<g clip-path=\"url(#clip00)\">\n",
       "<text style=\"fill:#00002d; fill-opacity:1; font-family:Arial,Helvetica Neue,Helvetica,sans-serif; font-size:12; text-anchor:middle;\" transform=\"rotate(0, 416.418, 381.674)\" x=\"416.418\" y=\"381.674\">RK4 Save End</text>\n",
       "</g>\n",
       "<g clip-path=\"url(#clip00)\">\n",
       "<text style=\"fill:#00002d; fill-opacity:1; font-family:Arial,Helvetica Neue,Helvetica,sans-serif; font-size:12; text-anchor:middle;\" transform=\"rotate(0, 527.31, 381.674)\" x=\"527.31\" y=\"381.674\">ODE.jl rk4</text>\n",
       "</g>\n",
       "<g clip-path=\"url(#clip00)\">\n",
       "<text style=\"fill:#00002d; fill-opacity:1; font-family:Arial,Helvetica Neue,Helvetica,sans-serif; font-size:12; text-anchor:end;\" transform=\"rotate(0, 124.681, 374.174)\" x=\"124.681\" y=\"374.174\">0</text>\n",
       "</g>\n",
       "<g clip-path=\"url(#clip00)\">\n",
       "<text style=\"fill:#00002d; fill-opacity:1; font-family:Arial,Helvetica Neue,Helvetica,sans-serif; font-size:12; text-anchor:end;\" transform=\"rotate(0, 124.681, 268.989)\" x=\"124.681\" y=\"268.989\">100000000000</text>\n",
       "</g>\n",
       "<g clip-path=\"url(#clip00)\">\n",
       "<text style=\"fill:#00002d; fill-opacity:1; font-family:Arial,Helvetica Neue,Helvetica,sans-serif; font-size:12; text-anchor:end;\" transform=\"rotate(0, 124.681, 163.803)\" x=\"124.681\" y=\"163.803\">200000000000</text>\n",
       "</g>\n",
       "<g clip-path=\"url(#clip00)\">\n",
       "<text style=\"fill:#00002d; fill-opacity:1; font-family:Arial,Helvetica Neue,Helvetica,sans-serif; font-size:12; text-anchor:end;\" transform=\"rotate(0, 124.681, 58.6182)\" x=\"124.681\" y=\"58.6182\">300000000000</text>\n",
       "</g>\n",
       "<g clip-path=\"url(#clip00)\">\n",
       "<text style=\"fill:#00002d; fill-opacity:1; font-family:Arial,Helvetica Neue,Helvetica,sans-serif; font-size:16; text-anchor:middle;\" transform=\"rotate(0, 360.972, 397.6)\" x=\"360.972\" y=\"397.6\">Algorithms</text>\n",
       "</g>\n",
       "<g clip-path=\"url(#clip00)\">\n",
       "<text style=\"fill:#00002d; fill-opacity:1; font-family:Arial,Helvetica Neue,Helvetica,sans-serif; font-size:16; text-anchor:middle;\" transform=\"rotate(-90, 14.4, 186.806)\" x=\"14.4\" y=\"186.806\">Efficiency</text>\n",
       "</g>\n",
       "<polygon clip-path=\"url(#clip02)\" points=\"\n",
       "139.188,216.443 139.188,369.674 250.08,369.674 250.08,216.443 139.188,216.443 139.188,216.443 \n",
       "  \" fill=\"#0099ff\" fill-opacity=\"1\"/>\n",
       "<polyline clip-path=\"url(#clip02)\" style=\"stroke:#00002d; stroke-width:0.8; stroke-opacity:1; fill:none\" points=\"\n",
       "  139.188,216.443 139.188,369.674 250.08,369.674 250.08,216.443 139.188,216.443 \n",
       "  \"/>\n",
       "<polygon clip-path=\"url(#clip02)\" points=\"\n",
       "250.08,180.941 250.08,369.674 360.972,369.674 360.972,180.941 250.08,180.941 250.08,180.941 \n",
       "  \" fill=\"#0099ff\" fill-opacity=\"1\"/>\n",
       "<polyline clip-path=\"url(#clip02)\" style=\"stroke:#00002d; stroke-width:0.8; stroke-opacity:1; fill:none\" points=\"\n",
       "  250.08,180.941 250.08,369.674 360.972,369.674 360.972,180.941 250.08,180.941 \n",
       "  \"/>\n",
       "<polygon clip-path=\"url(#clip02)\" points=\"\n",
       "360.972,3.93701 360.972,369.674 471.864,369.674 471.864,3.93701 360.972,3.93701 360.972,3.93701 \n",
       "  \" fill=\"#0099ff\" fill-opacity=\"1\"/>\n",
       "<polyline clip-path=\"url(#clip02)\" style=\"stroke:#00002d; stroke-width:0.8; stroke-opacity:1; fill:none\" points=\"\n",
       "  360.972,3.93701 360.972,369.674 471.864,369.674 471.864,3.93701 360.972,3.93701 \n",
       "  \"/>\n",
       "<polygon clip-path=\"url(#clip02)\" points=\"\n",
       "471.864,264.473 471.864,369.674 582.756,369.674 582.756,264.473 471.864,264.473 471.864,264.473 \n",
       "  \" fill=\"#0099ff\" fill-opacity=\"1\"/>\n",
       "<polyline clip-path=\"url(#clip02)\" style=\"stroke:#00002d; stroke-width:0.8; stroke-opacity:1; fill:none\" points=\"\n",
       "  471.864,264.473 471.864,369.674 582.756,369.674 582.756,264.473 471.864,264.473 \n",
       "  \"/>\n",
       "</svg>\n"
      ]
     },
     "execution_count": 37,
     "metadata": {},
     "output_type": "execute_result"
    }
   ],
   "source": [
    "plot(shoot)"
   ]
  },
  {
   "cell_type": "markdown",
   "metadata": {},
   "source": [
    "Next we test the difference between the implementations on the larger problem."
   ]
  },
  {
   "cell_type": "code",
   "execution_count": 42,
   "metadata": {
    "collapsed": false
   },
   "outputs": [
    {
     "name": "stdout",
     "output_type": "stream",
     "text": [
      "[16.9957,10.2685,1.0,22.5886]\n"
     ]
    },
    {
     "data": {
      "text/html": [
       "<?xml version=\"1.0\" encoding=\"utf-8\"?>\n",
       "<svg xmlns=\"http://www.w3.org/2000/svg\" xmlns:xlink=\"http://www.w3.org/1999/xlink\" width=\"600\" height=\"400\" viewBox=\"0 0 600 400\">\n",
       "<defs>\n",
       "  <clipPath id=\"clip00\">\n",
       "    <rect x=\"0\" y=\"0\" width=\"600\" height=\"400\"/>\n",
       "  </clipPath>\n",
       "</defs>\n",
       "<polygon clip-path=\"url(#clip00)\" points=\"\n",
       "0,400 600,400 600,0 0,0 \n",
       "  \" fill=\"#ffffff\" fill-opacity=\"1\"/>\n",
       "<defs>\n",
       "  <clipPath id=\"clip01\">\n",
       "    <rect x=\"120\" y=\"0\" width=\"421\" height=\"400\"/>\n",
       "  </clipPath>\n",
       "</defs>\n",
       "<polygon clip-path=\"url(#clip00)\" points=\"\n",
       "116.993,369.674 596.063,369.674 596.063,3.93701 116.993,3.93701 \n",
       "  \" fill=\"#ffffff\" fill-opacity=\"1\"/>\n",
       "<defs>\n",
       "  <clipPath id=\"clip02\">\n",
       "    <rect x=\"116\" y=\"3\" width=\"480\" height=\"366\"/>\n",
       "  </clipPath>\n",
       "</defs>\n",
       "<polyline clip-path=\"url(#clip02)\" style=\"stroke:#00002d; stroke-width:0.8; stroke-opacity:0.5; fill:none\" stroke-dasharray=\"1, 2\" points=\"\n",
       "  187.045,364.188 187.045,9.42306 \n",
       "  \"/>\n",
       "<polyline clip-path=\"url(#clip02)\" style=\"stroke:#00002d; stroke-width:0.8; stroke-opacity:0.5; fill:none\" stroke-dasharray=\"1, 2\" points=\"\n",
       "  300.034,364.188 300.034,9.42306 \n",
       "  \"/>\n",
       "<polyline clip-path=\"url(#clip02)\" style=\"stroke:#00002d; stroke-width:0.8; stroke-opacity:0.5; fill:none\" stroke-dasharray=\"1, 2\" points=\"\n",
       "  413.022,364.188 413.022,9.42306 \n",
       "  \"/>\n",
       "<polyline clip-path=\"url(#clip02)\" style=\"stroke:#00002d; stroke-width:0.8; stroke-opacity:0.5; fill:none\" stroke-dasharray=\"1, 2\" points=\"\n",
       "  526.01,364.188 526.01,9.42306 \n",
       "  \"/>\n",
       "<polyline clip-path=\"url(#clip02)\" style=\"stroke:#00002d; stroke-width:0.8; stroke-opacity:0.5; fill:none\" stroke-dasharray=\"1, 2\" points=\"\n",
       "  124.179,369.674 588.877,369.674 \n",
       "  \"/>\n",
       "<polyline clip-path=\"url(#clip02)\" style=\"stroke:#00002d; stroke-width:0.8; stroke-opacity:0.5; fill:none\" stroke-dasharray=\"1, 2\" points=\"\n",
       "  124.179,273.447 588.877,273.447 \n",
       "  \"/>\n",
       "<polyline clip-path=\"url(#clip02)\" style=\"stroke:#00002d; stroke-width:0.8; stroke-opacity:0.5; fill:none\" stroke-dasharray=\"1, 2\" points=\"\n",
       "  124.179,177.221 588.877,177.221 \n",
       "  \"/>\n",
       "<polyline clip-path=\"url(#clip02)\" style=\"stroke:#00002d; stroke-width:0.8; stroke-opacity:0.5; fill:none\" stroke-dasharray=\"1, 2\" points=\"\n",
       "  124.179,80.9939 588.877,80.9939 \n",
       "  \"/>\n",
       "<polyline clip-path=\"url(#clip02)\" style=\"stroke:#00002d; stroke-width:0.8; stroke-opacity:1; fill:none\" points=\"\n",
       "  116.993,369.674 596.063,369.674 \n",
       "  \"/>\n",
       "<polyline clip-path=\"url(#clip02)\" style=\"stroke:#00002d; stroke-width:0.8; stroke-opacity:1; fill:none\" points=\"\n",
       "  187.045,369.674 187.045,364.188 \n",
       "  \"/>\n",
       "<polyline clip-path=\"url(#clip02)\" style=\"stroke:#00002d; stroke-width:0.8; stroke-opacity:1; fill:none\" points=\"\n",
       "  300.034,369.674 300.034,364.188 \n",
       "  \"/>\n",
       "<polyline clip-path=\"url(#clip02)\" style=\"stroke:#00002d; stroke-width:0.8; stroke-opacity:1; fill:none\" points=\"\n",
       "  413.022,369.674 413.022,364.188 \n",
       "  \"/>\n",
       "<polyline clip-path=\"url(#clip02)\" style=\"stroke:#00002d; stroke-width:0.8; stroke-opacity:1; fill:none\" points=\"\n",
       "  526.01,369.674 526.01,364.188 \n",
       "  \"/>\n",
       "<polyline clip-path=\"url(#clip02)\" style=\"stroke:#00002d; stroke-width:0.8; stroke-opacity:1; fill:none\" points=\"\n",
       "  116.993,369.674 116.993,3.93701 \n",
       "  \"/>\n",
       "<polyline clip-path=\"url(#clip02)\" style=\"stroke:#00002d; stroke-width:0.8; stroke-opacity:1; fill:none\" points=\"\n",
       "  116.993,369.674 124.179,369.674 \n",
       "  \"/>\n",
       "<polyline clip-path=\"url(#clip02)\" style=\"stroke:#00002d; stroke-width:0.8; stroke-opacity:1; fill:none\" points=\"\n",
       "  116.993,273.447 124.179,273.447 \n",
       "  \"/>\n",
       "<polyline clip-path=\"url(#clip02)\" style=\"stroke:#00002d; stroke-width:0.8; stroke-opacity:1; fill:none\" points=\"\n",
       "  116.993,177.221 124.179,177.221 \n",
       "  \"/>\n",
       "<polyline clip-path=\"url(#clip02)\" style=\"stroke:#00002d; stroke-width:0.8; stroke-opacity:1; fill:none\" points=\"\n",
       "  116.993,80.9939 124.179,80.9939 \n",
       "  \"/>\n",
       "<g clip-path=\"url(#clip00)\">\n",
       "<text style=\"fill:#00002d; fill-opacity:1; font-family:Arial,Helvetica Neue,Helvetica,sans-serif; font-size:12; text-anchor:middle;\" transform=\"rotate(0, 187.045, 381.674)\" x=\"187.045\" y=\"381.674\">RK4 Continuous</text>\n",
       "</g>\n",
       "<g clip-path=\"url(#clip00)\">\n",
       "<text style=\"fill:#00002d; fill-opacity:1; font-family:Arial,Helvetica Neue,Helvetica,sans-serif; font-size:12; text-anchor:middle;\" transform=\"rotate(0, 300.034, 381.674)\" x=\"300.034\" y=\"381.674\">RK4 Non-Dense</text>\n",
       "</g>\n",
       "<g clip-path=\"url(#clip00)\">\n",
       "<text style=\"fill:#00002d; fill-opacity:1; font-family:Arial,Helvetica Neue,Helvetica,sans-serif; font-size:12; text-anchor:middle;\" transform=\"rotate(0, 413.022, 381.674)\" x=\"413.022\" y=\"381.674\">RK4 Save End</text>\n",
       "</g>\n",
       "<g clip-path=\"url(#clip00)\">\n",
       "<text style=\"fill:#00002d; fill-opacity:1; font-family:Arial,Helvetica Neue,Helvetica,sans-serif; font-size:12; text-anchor:middle;\" transform=\"rotate(0, 526.01, 381.674)\" x=\"526.01\" y=\"381.674\">ode4</text>\n",
       "</g>\n",
       "<g clip-path=\"url(#clip00)\">\n",
       "<text style=\"fill:#00002d; fill-opacity:1; font-family:Arial,Helvetica Neue,Helvetica,sans-serif; font-size:12; text-anchor:end;\" transform=\"rotate(0, 115.793, 374.174)\" x=\"115.793\" y=\"374.174\">0</text>\n",
       "</g>\n",
       "<g clip-path=\"url(#clip00)\">\n",
       "<text style=\"fill:#00002d; fill-opacity:1; font-family:Arial,Helvetica Neue,Helvetica,sans-serif; font-size:12; text-anchor:end;\" transform=\"rotate(0, 115.793, 277.947)\" x=\"115.793\" y=\"277.947\">5000000000</text>\n",
       "</g>\n",
       "<g clip-path=\"url(#clip00)\">\n",
       "<text style=\"fill:#00002d; fill-opacity:1; font-family:Arial,Helvetica Neue,Helvetica,sans-serif; font-size:12; text-anchor:end;\" transform=\"rotate(0, 115.793, 181.721)\" x=\"115.793\" y=\"181.721\">10000000000</text>\n",
       "</g>\n",
       "<g clip-path=\"url(#clip00)\">\n",
       "<text style=\"fill:#00002d; fill-opacity:1; font-family:Arial,Helvetica Neue,Helvetica,sans-serif; font-size:12; text-anchor:end;\" transform=\"rotate(0, 115.793, 85.4939)\" x=\"115.793\" y=\"85.4939\">15000000000</text>\n",
       "</g>\n",
       "<g clip-path=\"url(#clip00)\">\n",
       "<text style=\"fill:#00002d; fill-opacity:1; font-family:Arial,Helvetica Neue,Helvetica,sans-serif; font-size:16; text-anchor:middle;\" transform=\"rotate(0, 356.528, 397.6)\" x=\"356.528\" y=\"397.6\">Algorithms</text>\n",
       "</g>\n",
       "<g clip-path=\"url(#clip00)\">\n",
       "<text style=\"fill:#00002d; fill-opacity:1; font-family:Arial,Helvetica Neue,Helvetica,sans-serif; font-size:16; text-anchor:middle;\" transform=\"rotate(-90, 14.4, 186.806)\" x=\"14.4\" y=\"186.806\">Efficiency</text>\n",
       "</g>\n",
       "<polygon clip-path=\"url(#clip02)\" points=\"\n",
       "130.551,348.155 130.551,369.674 243.539,369.674 243.539,348.155 130.551,348.155 130.551,348.155 \n",
       "  \" fill=\"#0099ff\" fill-opacity=\"1\"/>\n",
       "<polyline clip-path=\"url(#clip02)\" style=\"stroke:#00002d; stroke-width:0.8; stroke-opacity:1; fill:none\" points=\"\n",
       "  130.551,348.155 130.551,369.674 243.539,369.674 243.539,348.155 130.551,348.155 \n",
       "  \"/>\n",
       "<polygon clip-path=\"url(#clip02)\" points=\"\n",
       "243.539,334.057 243.539,369.674 356.528,369.674 356.528,334.057 243.539,334.057 243.539,334.057 \n",
       "  \" fill=\"#0099ff\" fill-opacity=\"1\"/>\n",
       "<polyline clip-path=\"url(#clip02)\" style=\"stroke:#00002d; stroke-width:0.8; stroke-opacity:1; fill:none\" points=\"\n",
       "  243.539,334.057 243.539,369.674 356.528,369.674 356.528,334.057 243.539,334.057 \n",
       "  \"/>\n",
       "<polygon clip-path=\"url(#clip02)\" points=\"\n",
       "356.528,3.93701 356.528,369.674 469.516,369.674 469.516,3.93701 356.528,3.93701 356.528,3.93701 \n",
       "  \" fill=\"#0099ff\" fill-opacity=\"1\"/>\n",
       "<polyline clip-path=\"url(#clip02)\" style=\"stroke:#00002d; stroke-width:0.8; stroke-opacity:1; fill:none\" points=\"\n",
       "  356.528,3.93701 356.528,369.674 469.516,369.674 469.516,3.93701 356.528,3.93701 \n",
       "  \"/>\n",
       "<polygon clip-path=\"url(#clip02)\" points=\"\n",
       "469.516,353.483 469.516,369.674 582.504,369.674 582.504,353.483 469.516,353.483 469.516,353.483 \n",
       "  \" fill=\"#0099ff\" fill-opacity=\"1\"/>\n",
       "<polyline clip-path=\"url(#clip02)\" style=\"stroke:#00002d; stroke-width:0.8; stroke-opacity:1; fill:none\" points=\"\n",
       "  469.516,353.483 469.516,369.674 582.504,369.674 582.504,353.483 469.516,353.483 \n",
       "  \"/>\n",
       "</svg>\n"
      ]
     },
     "execution_count": 42,
     "metadata": {},
     "output_type": "execute_result"
    }
   ],
   "source": [
    "setups = [Dict(:alg=>RK4);Dict(:alg=>RK4,:dense=>false);Dict(:alg=>RK4,:dense=>false,:save_timeseries=>false);Dict(:alg=>rk4)]\n",
    "names = [\"RK4 Continuous\";\"RK4 Non-Dense\";\"RK4 Save End\";\"ode4\"]\n",
    "shoot = ode_shootout(prob,setups;dt=1/2^(6),names=names)\n",
    "println(shoot.effratios[shoot.bestidx,:])\n",
    "plot(shoot)"
   ]
  },
  {
   "cell_type": "markdown",
   "metadata": {},
   "source": [
    "As the cost of function calculations increases, the implementations, they are still calculating essentially the same thing, but the efficiency gap grows. With 100x100 matrices, OrdinaryDiffEq.jl in \"fast-mode\" is 22.5x faster than ODE.jl, and still 2x faster and 1.5x faster with the full timeseries and with continuous (interpolated) output respectively. This is a huge differece which shows that the OrdinaryDiffEq algorithms have a much better implementation."
   ]
  },
  {
   "cell_type": "markdown",
   "metadata": {},
   "source": [
    "### Results on Numbers\n",
    "\n",
    "Now we test the results on \"numbers\", i.e. ODEs in one variable. This won't even be fair because OrdinaryDiffEq.jl provides special dispatches on number while the other wrapped packages treat them as size-1 arrays (this is by the design of their packages). `rk45` is from ODE.jl and `dopri5` is the classic Hairer Fortran method."
   ]
  },
  {
   "cell_type": "code",
   "execution_count": 80,
   "metadata": {
    "collapsed": false
   },
   "outputs": [
    {
     "name": "stdout",
     "output_type": "stream",
     "text": [
      "[0.000220502,0.000591133,0.000377418]\n",
      "[2.82981e-6,2.65329e-6,2.82981e-6]\n",
      "[1.0,2.51362,1.71163]\n"
     ]
    },
    {
     "data": {
      "text/html": [
       "<?xml version=\"1.0\" encoding=\"utf-8\"?>\n",
       "<svg xmlns=\"http://www.w3.org/2000/svg\" xmlns:xlink=\"http://www.w3.org/1999/xlink\" width=\"600\" height=\"400\" viewBox=\"0 0 600 400\">\n",
       "<defs>\n",
       "  <clipPath id=\"clip00\">\n",
       "    <rect x=\"0\" y=\"0\" width=\"600\" height=\"400\"/>\n",
       "  </clipPath>\n",
       "</defs>\n",
       "<polygon clip-path=\"url(#clip00)\" points=\"\n",
       "0,400 600,400 600,0 0,0 \n",
       "  \" fill=\"#ffffff\" fill-opacity=\"1\"/>\n",
       "<defs>\n",
       "  <clipPath id=\"clip01\">\n",
       "    <rect x=\"120\" y=\"0\" width=\"421\" height=\"400\"/>\n",
       "  </clipPath>\n",
       "</defs>\n",
       "<polygon clip-path=\"url(#clip00)\" points=\"\n",
       "90.3259,369.674 596.063,369.674 596.063,3.93701 90.3259,3.93701 \n",
       "  \" fill=\"#ffffff\" fill-opacity=\"1\"/>\n",
       "<defs>\n",
       "  <clipPath id=\"clip02\">\n",
       "    <rect x=\"90\" y=\"3\" width=\"506\" height=\"366\"/>\n",
       "  </clipPath>\n",
       "</defs>\n",
       "<polyline clip-path=\"url(#clip02)\" style=\"stroke:#00002d; stroke-width:0.8; stroke-opacity:0.5; fill:none\" stroke-dasharray=\"1, 2\" points=\"\n",
       "  184.158,364.188 184.158,9.42306 \n",
       "  \"/>\n",
       "<polyline clip-path=\"url(#clip02)\" style=\"stroke:#00002d; stroke-width:0.8; stroke-opacity:0.5; fill:none\" stroke-dasharray=\"1, 2\" points=\"\n",
       "  343.194,364.188 343.194,9.42306 \n",
       "  \"/>\n",
       "<polyline clip-path=\"url(#clip02)\" style=\"stroke:#00002d; stroke-width:0.8; stroke-opacity:0.5; fill:none\" stroke-dasharray=\"1, 2\" points=\"\n",
       "  502.231,364.188 502.231,9.42306 \n",
       "  \"/>\n",
       "<polyline clip-path=\"url(#clip02)\" style=\"stroke:#00002d; stroke-width:0.8; stroke-opacity:0.5; fill:none\" stroke-dasharray=\"1, 2\" points=\"\n",
       "  97.912,369.674 588.477,369.674 \n",
       "  \"/>\n",
       "<polyline clip-path=\"url(#clip02)\" style=\"stroke:#00002d; stroke-width:0.8; stroke-opacity:0.5; fill:none\" stroke-dasharray=\"1, 2\" points=\"\n",
       "  97.912,255.568 588.477,255.568 \n",
       "  \"/>\n",
       "<polyline clip-path=\"url(#clip02)\" style=\"stroke:#00002d; stroke-width:0.8; stroke-opacity:0.5; fill:none\" stroke-dasharray=\"1, 2\" points=\"\n",
       "  97.912,141.462 588.477,141.462 \n",
       "  \"/>\n",
       "<polyline clip-path=\"url(#clip02)\" style=\"stroke:#00002d; stroke-width:0.8; stroke-opacity:0.5; fill:none\" stroke-dasharray=\"1, 2\" points=\"\n",
       "  97.912,27.3556 588.477,27.3556 \n",
       "  \"/>\n",
       "<polyline clip-path=\"url(#clip02)\" style=\"stroke:#00002d; stroke-width:0.8; stroke-opacity:1; fill:none\" points=\"\n",
       "  90.3259,369.674 596.063,369.674 \n",
       "  \"/>\n",
       "<polyline clip-path=\"url(#clip02)\" style=\"stroke:#00002d; stroke-width:0.8; stroke-opacity:1; fill:none\" points=\"\n",
       "  184.158,369.674 184.158,364.188 \n",
       "  \"/>\n",
       "<polyline clip-path=\"url(#clip02)\" style=\"stroke:#00002d; stroke-width:0.8; stroke-opacity:1; fill:none\" points=\"\n",
       "  343.194,369.674 343.194,364.188 \n",
       "  \"/>\n",
       "<polyline clip-path=\"url(#clip02)\" style=\"stroke:#00002d; stroke-width:0.8; stroke-opacity:1; fill:none\" points=\"\n",
       "  502.231,369.674 502.231,364.188 \n",
       "  \"/>\n",
       "<polyline clip-path=\"url(#clip02)\" style=\"stroke:#00002d; stroke-width:0.8; stroke-opacity:1; fill:none\" points=\"\n",
       "  90.3259,369.674 90.3259,3.93701 \n",
       "  \"/>\n",
       "<polyline clip-path=\"url(#clip02)\" style=\"stroke:#00002d; stroke-width:0.8; stroke-opacity:1; fill:none\" points=\"\n",
       "  90.3259,369.674 97.912,369.674 \n",
       "  \"/>\n",
       "<polyline clip-path=\"url(#clip02)\" style=\"stroke:#00002d; stroke-width:0.8; stroke-opacity:1; fill:none\" points=\"\n",
       "  90.3259,255.568 97.912,255.568 \n",
       "  \"/>\n",
       "<polyline clip-path=\"url(#clip02)\" style=\"stroke:#00002d; stroke-width:0.8; stroke-opacity:1; fill:none\" points=\"\n",
       "  90.3259,141.462 97.912,141.462 \n",
       "  \"/>\n",
       "<polyline clip-path=\"url(#clip02)\" style=\"stroke:#00002d; stroke-width:0.8; stroke-opacity:1; fill:none\" points=\"\n",
       "  90.3259,27.3556 97.912,27.3556 \n",
       "  \"/>\n",
       "<g clip-path=\"url(#clip00)\">\n",
       "<text style=\"fill:#00002d; fill-opacity:1; font-family:Arial,Helvetica Neue,Helvetica,sans-serif; font-size:12; text-anchor:middle;\" transform=\"rotate(0, 184.158, 381.674)\" x=\"184.158\" y=\"381.674\">DiffEqBase.DP5</text>\n",
       "</g>\n",
       "<g clip-path=\"url(#clip00)\">\n",
       "<text style=\"fill:#00002d; fill-opacity:1; font-family:Arial,Helvetica Neue,Helvetica,sans-serif; font-size:12; text-anchor:middle;\" transform=\"rotate(0, 343.194, 381.674)\" x=\"343.194\" y=\"381.674\">DiffEqBase.rk45</text>\n",
       "</g>\n",
       "<g clip-path=\"url(#clip00)\">\n",
       "<text style=\"fill:#00002d; fill-opacity:1; font-family:Arial,Helvetica Neue,Helvetica,sans-serif; font-size:12; text-anchor:middle;\" transform=\"rotate(0, 502.231, 381.674)\" x=\"502.231\" y=\"381.674\">DiffEqBase.dopri5</text>\n",
       "</g>\n",
       "<g clip-path=\"url(#clip00)\">\n",
       "<text style=\"fill:#00002d; fill-opacity:1; font-family:Arial,Helvetica Neue,Helvetica,sans-serif; font-size:12; text-anchor:end;\" transform=\"rotate(0, 89.1259, 374.174)\" x=\"89.1259\" y=\"374.174\">0</text>\n",
       "</g>\n",
       "<g clip-path=\"url(#clip00)\">\n",
       "<text style=\"fill:#00002d; fill-opacity:1; font-family:Arial,Helvetica Neue,Helvetica,sans-serif; font-size:12; text-anchor:end;\" transform=\"rotate(0, 89.1259, 260.068)\" x=\"89.1259\" y=\"260.068\">25000000</text>\n",
       "</g>\n",
       "<g clip-path=\"url(#clip00)\">\n",
       "<text style=\"fill:#00002d; fill-opacity:1; font-family:Arial,Helvetica Neue,Helvetica,sans-serif; font-size:12; text-anchor:end;\" transform=\"rotate(0, 89.1259, 145.962)\" x=\"89.1259\" y=\"145.962\">50000000</text>\n",
       "</g>\n",
       "<g clip-path=\"url(#clip00)\">\n",
       "<text style=\"fill:#00002d; fill-opacity:1; font-family:Arial,Helvetica Neue,Helvetica,sans-serif; font-size:12; text-anchor:end;\" transform=\"rotate(0, 89.1259, 31.8556)\" x=\"89.1259\" y=\"31.8556\">75000000</text>\n",
       "</g>\n",
       "<g clip-path=\"url(#clip00)\">\n",
       "<text style=\"fill:#00002d; fill-opacity:1; font-family:Arial,Helvetica Neue,Helvetica,sans-serif; font-size:16; text-anchor:middle;\" transform=\"rotate(0, 343.194, 397.6)\" x=\"343.194\" y=\"397.6\">Algorithms</text>\n",
       "</g>\n",
       "<g clip-path=\"url(#clip00)\">\n",
       "<text style=\"fill:#00002d; fill-opacity:1; font-family:Arial,Helvetica Neue,Helvetica,sans-serif; font-size:16; text-anchor:middle;\" transform=\"rotate(-90, 14.4, 186.806)\" x=\"14.4\" y=\"186.806\">Efficiency</text>\n",
       "</g>\n",
       "<polygon clip-path=\"url(#clip02)\" points=\"\n",
       "104.639,3.93701 104.639,369.674 263.676,369.674 263.676,3.93701 104.639,3.93701 104.639,3.93701 \n",
       "  \" fill=\"#0099ff\" fill-opacity=\"1\"/>\n",
       "<polyline clip-path=\"url(#clip02)\" style=\"stroke:#00002d; stroke-width:0.8; stroke-opacity:1; fill:none\" points=\"\n",
       "  104.639,3.93701 104.639,369.674 263.676,369.674 263.676,3.93701 104.639,3.93701 \n",
       "  \"/>\n",
       "<polygon clip-path=\"url(#clip02)\" points=\"\n",
       "263.676,224.172 263.676,369.674 422.713,369.674 422.713,224.172 263.676,224.172 263.676,224.172 \n",
       "  \" fill=\"#0099ff\" fill-opacity=\"1\"/>\n",
       "<polyline clip-path=\"url(#clip02)\" style=\"stroke:#00002d; stroke-width:0.8; stroke-opacity:1; fill:none\" points=\"\n",
       "  263.676,224.172 263.676,369.674 422.713,369.674 422.713,224.172 263.676,224.172 \n",
       "  \"/>\n",
       "<polygon clip-path=\"url(#clip02)\" points=\"\n",
       "422.713,155.997 422.713,369.674 581.75,369.674 581.75,155.997 422.713,155.997 422.713,155.997 \n",
       "  \" fill=\"#0099ff\" fill-opacity=\"1\"/>\n",
       "<polyline clip-path=\"url(#clip02)\" style=\"stroke:#00002d; stroke-width:0.8; stroke-opacity:1; fill:none\" points=\"\n",
       "  422.713,155.997 422.713,369.674 581.75,369.674 581.75,155.997 422.713,155.997 \n",
       "  \"/>\n",
       "</svg>\n"
      ]
     },
     "execution_count": 80,
     "metadata": {},
     "output_type": "execute_result"
    }
   ],
   "source": [
    "setups = [Dict(:alg=>DP5)\n",
    "          Dict(:abstol=>1e-3,:reltol=>1e-6,:alg=>rk45); # Fix ODE to be normal\n",
    "          Dict(:alg=>dopri5)]\n",
    "shoot = ode_shootout(probnum,setups)\n",
    "println(shoot.times)\n",
    "println(shoot.errors)\n",
    "println(shoot.effratios[shoot.bestidx,:])\n",
    "plot(shoot)"
   ]
  },
  {
   "cell_type": "markdown",
   "metadata": {},
   "source": [
    "In this case, `DP5` is about 2x times as fast as the other algorithms and still achieves less error, making it the clear winner. This is even without continuous output turned off. More features, faster, less error, etc.\n",
    "\n",
    "(Note: We had to fix ODE.jl's tolerances to match those of OrdinaryDiffEq.jl and the Hairer algorithms which have the same defaults. This is because you can artificially make an algorithm \"more efficient\" by using lower tolerances becuase the order of the error higher than one, and thus efficiency is always higher at lower tolerances)"
   ]
  },
  {
   "cell_type": "markdown",
   "metadata": {},
   "source": [
    "### Conclusions\n",
    "\n",
    "As you can see, a lot of time has been spent on OrdinaryDiffEq.jl's non-stiff solvers are not only feature-filled, but also very efficient. ODEs in one variable are special-cased in OrdinaryDiffEq.jl's algorithms to give maximal efficiency. All of the methods can work on arbitrary-sized arrays, and the methods are fully devectorized and utilize caching to have nearly zero allocations during the core loop. Tweaks on stepsize stabilization methods are also included, resulting in an even more efficient stepsize method. Thus even in the odd cases (non-adaptive algorithms, scalar ODEs, etc.) the OrdinaryDiffEq.jl algorithms are much faster than the ODE.jl and classic Fortran algorithms."
   ]
  }
 ],
 "metadata": {
  "kernelspec": {
   "display_name": "Julia 0.5.0-rc3",
   "language": "julia",
   "name": "julia-0.5"
  },
  "language_info": {
   "file_extension": ".jl",
   "mimetype": "application/julia",
   "name": "julia",
   "version": "0.5.0"
  }
 },
 "nbformat": 4,
 "nbformat_minor": 1
}
