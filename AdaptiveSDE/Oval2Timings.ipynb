{
 "cells": [
  {
   "cell_type": "code",
   "execution_count": 1,
   "metadata": {
    "collapsed": false
   },
   "outputs": [
    {
     "name": "stdout",
     "output_type": "stream",
     "text": [
      "Solve once to compile.\n",
      "Compilation complete.\n",
      "\tFrom worker 13:\tSolve once to compile.\n",
      "\tFrom worker 16:\tSolve once to compile.\n",
      "\tFrom worker 16:\tCompilation complete.\n",
      "\tFrom worker 7:\tSolve once to compile.\n",
      "\tFrom worker 4:\tSolve once to compile.\n",
      "\tFrom worker 4:\tCompilation complete.\n",
      "\tFrom worker 11:\tSolve once to compile.\n",
      "\tFrom worker 11:\tCompilation complete.\n",
      "\tFrom worker 5:\tSolve once to compile.\n",
      "\tFrom worker 2:\tSolve once to compile.\n",
      "\tFrom worker 2:\tCompilation complete.\n",
      "\tFrom worker 14:\tSolve once to compile.\n",
      "\tFrom worker 8:\tSolve once to compile.\n",
      "\tFrom worker 8:\tCompilation complete.\n",
      "\tFrom worker 17:\tSolve once to compile.\n",
      "\tFrom worker 17:\tCompilation complete.\n",
      "\tFrom worker 6:\tSolve once to compile.\n",
      "\tFrom worker 6:\tCompilation complete.\n",
      "\tFrom worker 9:\tSolve once to compile.\n",
      "\tFrom worker 3:\tSolve once to compile.\n",
      "\tFrom worker 3:\tCompilation complete.\n",
      "\tFrom worker 12:\tSolve once to compile.\n",
      "\tFrom worker 10:\tSolve once to compile.\n",
      "\tFrom worker 15:\tSolve once to compile.\n",
      "\tFrom worker 15:\tCompilation complete.\n",
      "\tFrom worker 13:\tCompilation complete.\n",
      "\tFrom worker 7:\tCompilation complete.\n",
      "\tFrom worker 5:\tCompilation complete.\n",
      "\tFrom worker 14:\tCompilation complete.\n",
      "\tFrom worker 9:\tCompilation complete.\n",
      "\tFrom worker 12:\tCompilation complete.\n",
      "\tFrom worker 10:\tCompilation complete.\n",
      "Setup Complete\n"
     ]
    }
   ],
   "source": [
    "addprocs()\n",
    "\n",
    "@everywhere begin\n",
    "  using StochasticDiffEq, DiffEqProblemLibrary, ParallelDataTransfer\n",
    "  srand(99 + myid())\n",
    "  prob = oval2ModelExample(largeFluctuations=true,useBigs=false)\n",
    "  prob.tspan = (0.0,1.0)\n",
    "  println(\"Solve once to compile.\")\n",
    "  sol = solve(prob,EM(),dt=1/2^(18),adaptive=false,save_everystep=false)\n",
    "  sol = solve(prob,RKMil(),dt=1/2^(18),adaptive=false,save_everystep=false)\n",
    "  sol = solve(prob,SRIW1(),dt=1/2^(18),adaptive=false,save_everystep=false)\n",
    "  sol = solve(prob,SRI(),dt=1/2^(18),adaptive=false,save_everystep=false)\n",
    "  sol = solve(prob,SRI(tableau=StochasticDiffEq.constructSRIOpt1()),dt=1/2^(18),adaptive=false,save_everystep=false)\n",
    "  Int(sol.u[1]!=NaN)\n",
    "  println(\"Compilation complete.\")\n",
    "  js = 16:21\n",
    "  dts = 1./2.^(js)\n",
    "  fails = Array{Int}(length(dts),3)\n",
    "  times = Array{Float64}(length(dts),3)\n",
    "  numRuns = 10000\n",
    "end\n",
    "println(\"Setup Complete\")"
   ]
  },
  {
   "cell_type": "code",
   "execution_count": 19,
   "metadata": {
    "collapsed": false
   },
   "outputs": [
    {
     "name": "stdout",
     "output_type": "stream",
     "text": [
      "The number of Adaptive Fails is 0. Elapsed time was 12.99248294\n"
     ]
    }
   ],
   "source": [
    "## Timing Runs\n",
    "\n",
    "@everywhere function runAdaptiveSRIW1(i)\n",
    "  sol = solve(prob,SRIW1(),abstol=2.0^(-12),reltol=2.0^(-6),maxIters=Int(1e11),qmax=1.125,save_everystep=false)\n",
    "  Int(any(isnan,sol[end]) || sol.t[end] != 1)\n",
    "end\n",
    "@everywhere srand(99 + myid())\n",
    "adaptiveTime = @elapsed numFails = sum(pmap(runAdaptiveSRIW1,1:numRuns))\n",
    "println(\"The number of Adaptive Fails is $numFails. Elapsed time was $adaptiveTime\")"
   ]
  },
  {
   "cell_type": "code",
   "execution_count": 72,
   "metadata": {
    "collapsed": false
   },
   "outputs": [
    {
     "name": "stdout",
     "output_type": "stream",
     "text": [
      "The number of Adaptive Fails is 0. Elapsed time was 32.503944551\n"
     ]
    }
   ],
   "source": [
    "## Timing Runs\n",
    "\n",
    "@everywhere function runAdaptiveSRI(i)\n",
    "  sol = solve(prob,SRI(error_terms=2),abstol=2.0^(-12),reltol=2.0^(-7),maxIters=Int(1e11),qmax=1.125,save_everystep=false)\n",
    "  Int(any(isnan,sol[end]) || sol.t[end] != 1)\n",
    "end\n",
    "@everywhere srand(99 + myid())\n",
    "adaptiveTime = @elapsed numFails = sum(pmap(runAdaptiveSRI,1:numRuns))\n",
    "println(\"The number of Adaptive Fails is $numFails. Elapsed time was $adaptiveTime\")"
   ]
  },
  {
   "cell_type": "code",
   "execution_count": 80,
   "metadata": {
    "collapsed": false
   },
   "outputs": [
    {
     "name": "stdout",
     "output_type": "stream",
     "text": [
      "The number of Adaptive Fails is 0. Elapsed time was 4.459500891\n"
     ]
    }
   ],
   "source": [
    "## Timing Runs\n",
    "\n",
    "@everywhere function runAdaptiveSRIOpt1(i)\n",
    "  sol = solve(prob,SRI(tableau=StochasticDiffEq.constructSRIOpt1()),abstol=2.0^(-7),reltol=2.0^(-3),maxIters=Int(1e11),qmax=1.125,save_everystep=false)\n",
    "  Int(any(isnan,sol[end]) || sol.t[end] != 1)\n",
    "end\n",
    "@everywhere srand(99 + myid())\n",
    "adaptiveTime = @elapsed numFails = sum(pmap(runAdaptiveSRIOpt1,1:numRuns))\n",
    "println(\"The number of Adaptive Fails is $numFails. Elapsed time was $adaptiveTime\")"
   ]
  },
  {
   "cell_type": "code",
   "execution_count": 60,
   "metadata": {
    "collapsed": false
   },
   "outputs": [
    {
     "name": "stdout",
     "output_type": "stream",
     "text": [
      "The number of Adaptive Fails is 0. Elapsed time was 8.678555793\n"
     ]
    }
   ],
   "source": [
    "## Timing Runs\n",
    "\n",
    "@everywhere function runAdaptiveSRIOpt2(i)\n",
    "  sol = solve(prob,SRI(tableau=StochasticDiffEq.constructSRIOpt2()),abstol=2.0^(-9),reltol=2.0^(-6),maxIters=Int(1e11),qmax=1.125,save_everystep=false)\n",
    "    Int(any(isnan,sol[end]) || sol.t[end] != 1)\n",
    "end\n",
    "@everywhere srand(99 + myid())\n",
    "adaptiveTime = @elapsed numFails = sum(pmap(runAdaptiveSRIOpt2,1:numRuns))\n",
    "println(\"The number of Adaptive Fails is $numFails. Elapsed time was $adaptiveTime\")"
   ]
  },
  {
   "cell_type": "code",
   "execution_count": 52,
   "metadata": {
    "collapsed": false
   },
   "outputs": [
    {
     "name": "stdout",
     "output_type": "stream",
     "text": [
      "The number of Adaptive Fails is 0. Elapsed time was 7.326458853\n"
     ]
    }
   ],
   "source": [
    "## Timing Runs\n",
    "\n",
    "@everywhere function runAdaptiveSRIOpt3(i)\n",
    "  sol = solve(prob,SRI(tableau=StochasticDiffEq.constructSRIOpt3()),abstol=2.0^(-7),reltol=2.0^(-5),maxIters=Int(1e10),qmax=1.125,save_everystep=false)\n",
    "  Int(any(isnan,sol[end]) || sol.t[end] != 1)\n",
    "end\n",
    "@everywhere srand(99 + myid())\n",
    "adaptiveTime = @elapsed numFails = sum(pmap(runAdaptiveSRIOpt3,1:numRuns))\n",
    "println(\"The number of Adaptive Fails is $numFails. Elapsed time was $adaptiveTime\")"
   ]
  },
  {
   "cell_type": "code",
   "execution_count": 44,
   "metadata": {
    "collapsed": false
   },
   "outputs": [
    {
     "name": "stdout",
     "output_type": "stream",
     "text": [
      "The number of Adaptive Fails is 0. Elapsed time was 7.068097671\n"
     ]
    }
   ],
   "source": [
    "## Timing Runs\n",
    "\n",
    "@everywhere function runAdaptiveSRIOpt4(i)\n",
    "  sol = solve(prob,SRI(tableau=StochasticDiffEq.constructSRIOpt4()),abstol=2.0^(-8),reltol=2.0^(-4),maxIters=Int(1e10),qmax=1.125,save_everystep=false)\n",
    "  Int(any(isnan,sol[end]) || sol.t[end] != 1)\n",
    "end\n",
    "@everywhere srand(99 + myid())\n",
    "adaptiveTime = @elapsed numFails = sum(pmap(runAdaptiveSRIOpt4,1:numRuns))\n",
    "println(\"The number of Adaptive Fails is $numFails. Elapsed time was $adaptiveTime\")"
   ]
  },
  {
   "cell_type": "code",
   "execution_count": 25,
   "metadata": {
    "collapsed": false
   },
   "outputs": [
    {
     "name": "stdout",
     "output_type": "stream",
     "text": [
      "j = 1\n",
      "The number of Euler-Maruyama Fails is 130. Elapsed time was 22.485178841\n",
      "j = 2\n",
      "The number of Euler-Maruyama Fails is 35. Elapsed time was 42.220078027\n",
      "j = 3\n",
      "The number of Euler-Maruyama Fails is 6. Elapsed time was 84.478325558\n",
      "j = 4\n",
      "The number of Euler-Maruyama Fails is 0. Elapsed time was 169.96851466\n",
      "j = 5\n",
      "The number of Euler-Maruyama Fails is 0. Elapsed time was 342.955733199\n",
      "j = 6\n",
      "The number of Euler-Maruyama Fails is 0. Elapsed time was 686.696407877\n"
     ]
    }
   ],
   "source": [
    "@everywhere function runEM(i,j)\n",
    "  sol =solve(prob,EM(),dt=dts[j],maxIters=Int(1e11),save_everystep=false,verbose=false)\n",
    "  Int(any(isnan,sol[end]) || sol.t[end] != 1)\n",
    "end\n",
    "for j in eachindex(js)\n",
    "  println(\"j = $j\")\n",
    "  sendto(workers(), j=j)\n",
    "  @everywhere srand(99 + myid())\n",
    "  t1 = @elapsed numFails = sum(pmap((i)->runEM(i,j),1:numRuns))\n",
    "  println(\"The number of Euler-Maruyama Fails is $numFails. Elapsed time was $t1\")\n",
    "  fails[j,1] = numFails\n",
    "  times[j,1] = t1\n",
    "end"
   ]
  },
  {
   "cell_type": "code",
   "execution_count": 26,
   "metadata": {
    "collapsed": false
   },
   "outputs": [
    {
     "name": "stdout",
     "output_type": "stream",
     "text": [
      "j = 1\n",
      "The number of Rossler-SRI Fails is 90. Elapsed time was 51.434818926\n",
      "j = 2\n",
      "The number of Rossler-SRI Fails is 15. Elapsed time was 103.313398945\n",
      "j = 3\n",
      "The number of Rossler-SRI Fails is 2. Elapsed time was 209.047359334\n",
      "j = 4\n",
      "The number of Rossler-SRI Fails is 0. Elapsed time was 424.301395463\n"
     ]
    }
   ],
   "source": [
    "@everywhere function runSRI(i,j)\n",
    "  sol =solve(prob,SRIW1(),dt=dts[j],maxIters=Int(1e11),adaptive=false,save_everystep=false,verbose=false)\n",
    "  Int(any(isnan,sol[end]) || sol.t[end] != 1)\n",
    "end\n",
    "for j in 1:4\n",
    "  println(\"j = $j\")\n",
    "  sendto(workers(), j=j)\n",
    "  @everywhere srand(99 + myid())\n",
    "  t2 = @elapsed numFails = sum(pmap((i)->runSRI(i,j),1:numRuns))\n",
    "  println(\"The number of Rossler-SRI Fails is $numFails. Elapsed time was $t2\")\n",
    "  fails[j,2] = numFails\n",
    "  times[j,2] = t2\n",
    "end"
   ]
  },
  {
   "cell_type": "code",
   "execution_count": 27,
   "metadata": {
    "collapsed": false
   },
   "outputs": [
    {
     "name": "stdout",
     "output_type": "stream",
     "text": [
      "j = 1\n",
      "The number of RK-Milstein Fails is 136. Elapsed time was 24.146935932\n",
      "j = 2\n",
      "The number of RK-Milstein Fails is 36. Elapsed time was 48.227152874\n",
      "j = 3\n",
      "The number of RK-Milstein Fails is 6. Elapsed time was 90.608892005\n",
      "j = 4\n",
      "The number of RK-Milstein Fails is 0. Elapsed time was 182.597809791\n",
      "j = 5\n",
      "The number of RK-Milstein Fails is 0. Elapsed time was 367.733253661\n",
      "j = 6\n",
      "The number of RK-Milstein Fails is 0. Elapsed time was 749.600321343\n"
     ]
    }
   ],
   "source": [
    "@everywhere function runMil(i,j)\n",
    "  sol =solve(prob,RKMil(),dt=dts[j],maxIters=Int(1e11),save_everystep=false,verbose=false)\n",
    "  Int(any(isnan,sol[end]) || sol.t[end] != 1)\n",
    "end\n",
    "for j in eachindex(js)\n",
    "  println(\"j = $j\")\n",
    "  sendto(workers(), j=j)\n",
    "  @everywhere srand(99 + myid())\n",
    "  t3 = @elapsed numFails = sum(pmap((i)->runMil(i,j),1:numRuns))\n",
    "  println(\"The number of RK-Milstein Fails is $numFails. Elapsed time was $t3\")\n",
    "  fails[j,3] = numFails\n",
    "  times[j,3] = t3\n",
    "end"
   ]
  },
  {
   "cell_type": "code",
   "execution_count": null,
   "metadata": {
    "collapsed": false
   },
   "outputs": [],
   "source": [
    "using Plots\n",
    "lw = 3\n",
    "p2 = plot(dts,times,xscale=:log2,yscale=:log2,guidefont=font(16),tickfont=font(14),yguide=\"Elapsed Time (s)\",xguide=L\"Chosen $\\Delta t$\",top_margin=50px,linewidth=lw,lab=[\"Euler-Maruyama\" \"RK-Mil\" \"RosslerSRI\"],legendfont=font(14))\n",
    "plot!(dts,repmat([adaptiveTime],11),linewidth=lw,line=:dash,lab=\"ESRK+RSwM3\",left_margin=75px)\n",
    "scatter!([2.0^(-20);2.0^(-20);2.0^(-18)],[times[5,1];times[5,2];times[3,3]],markersize=20,c=:red,lab=\"\")\n",
    "plot(p2,size=(800,800))"
   ]
  }
 ],
 "metadata": {
  "kernelspec": {
   "display_name": "Julia 0.6.0",
   "language": "julia",
   "name": "julia-0.6"
  },
  "language_info": {
   "file_extension": ".jl",
   "mimetype": "application/julia",
   "name": "julia",
   "version": "0.6.0"
  }
 },
 "nbformat": 4,
 "nbformat_minor": 2
}
