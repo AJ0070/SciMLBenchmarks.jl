{
 "cells": [
  {
   "cell_type": "code",
   "execution_count": null,
   "metadata": {
    "collapsed": true
   },
   "outputs": [],
   "source": [
    "using StochasticDiffEq, Plots, DiffEqDevTools, DiffEqProblemLibrary\n",
    "gr()"
   ]
  },
  {
   "cell_type": "code",
   "execution_count": null,
   "metadata": {
    "collapsed": true
   },
   "outputs": [],
   "source": [
    "prob = prob_sde_additivesystem\n",
    "prob.tspan = (0.0,1.0)\n",
    "\n",
    "reltols = 1.0./10.0.^(1:5)\n",
    "abstols = reltols#[0.0 for i in eachindex(reltols)]\n",
    "setups = [Dict(:alg=>SRIW1())\n",
    "          Dict(:alg=>EM(),:dts=>1.0./5.0.^((1:length(reltols)) + 1))\n",
    "          Dict(:alg=>RKMil(),:dts=>1.0./5.0.^((1:length(reltols)) + 1))\n",
    "          Dict(:alg=>SRIW1(),:dts=>1.0./5.0.^((1:length(reltols)) + 1),:adaptive=>false)\n",
    "          Dict(:alg=>SRA1(),:dts=>1.0./5.0.^((1:length(reltols)) + 1),:adaptive=>false)\n",
    "          Dict(:alg=>SRA1())\n",
    "          ]\n",
    "names = [\"SRIW1\",\"EM\",\"RKMil\",\"SRIW1 Fixed\",\"SRA1 Fixed\",\"SRA1\"]'\n",
    "wp = WorkPrecisionSet(prob,abstols,reltols,setups;numruns=1000,names=names,error_estimate=:l2)\n",
    "plot(wp)"
   ]
  },
  {
   "cell_type": "code",
   "execution_count": null,
   "metadata": {
    "collapsed": true
   },
   "outputs": [],
   "source": [
    "prob = prob_sde_additive\n",
    "prob.tspan = (0.0,1.0)\n",
    "\n",
    "reltols = 1.0./10.0.^(1:5)\n",
    "abstols = reltols#[0.0 for i in eachindex(reltols)]\n",
    "\n",
    "\n",
    "\n",
    "setups = [Dict(:alg=>SRIW1())\n",
    "          Dict(:alg=>EM(),:dts=>1.0./5.0.^((1:length(reltols)) + 1))\n",
    "          Dict(:alg=>RKMil(),:dts=>1.0./5.0.^((1:length(reltols)) + 1))\n",
    "          Dict(:alg=>SRIW1(),:dts=>1.0./5.0.^((1:length(reltols)) + 1),:adaptive=>false)\n",
    "          Dict(:alg=>SRA1(),:dts=>1.0./5.0.^((1:length(reltols)) + 1),:adaptive=>false)\n",
    "          Dict(:alg=>SRA1())\n",
    "          ]\n",
    "names = [\"SRIW1\",\"EM\",\"RKMil\",\"SRIW1 Fixed\",\"SRA1 Fixed\",\"SRA1\"]'\n",
    "wp = WorkPrecisionSet(prob,abstols,reltols,setups;numruns=1000,names=names,error_estimate=:l2)\n",
    "plot(wp)"
   ]
  },
  {
   "cell_type": "code",
   "execution_count": null,
   "metadata": {
    "collapsed": true
   },
   "outputs": [],
   "source": [
    "prob = prob_sde_2Dlinear\n",
    "prob.tspan = (0.0,1.0)\n",
    "\n",
    "reltols = 1.0./10.0.^(1:5)\n",
    "abstols = reltols#[0.0 for i in eachindex(reltols)]\n",
    "\n",
    "setups = [Dict(:alg=>SRIW1())\n",
    "          Dict(:alg=>EM(),:dts=>1.0./5.0.^((1:length(reltols)) + 1))\n",
    "          Dict(:alg=>RKMil(),:dts=>1.0./5.0.^((1:length(reltols)) + 1))\n",
    "          Dict(:alg=>SRIW1(),:dts=>1.0./5.0.^((1:length(reltols)) + 1),:adaptive=>false)\n",
    "          ]\n",
    "names = [\"SRIW1\",\"EM\",\"RKMil\",\"SRIW1 Fixed\"]'\n",
    "wp = WorkPrecisionSet(prob,abstols,reltols,setups;numruns=1000,names=names,error_estimate=:l2)\n",
    "plot(wp)\n"
   ]
  },
  {
   "cell_type": "code",
   "execution_count": null,
   "metadata": {
    "collapsed": true
   },
   "outputs": [],
   "source": [
    "prob = prob_sde_linear\n",
    "prob.tspan = (0.0,1.0)\n",
    "\n",
    "reltols = 1.0./10.0.^(1:5)\n",
    "abstols = reltols#[0.0 for i in eachindex(reltols)]\n",
    "\n",
    "setups = [Dict(:alg=>SRIW1())\n",
    "          Dict(:alg=>EM(),:dts=>1.0./5.0.^((1:length(reltols)) + 1))\n",
    "          Dict(:alg=>RKMil(),:dts=>1.0./5.0.^((1:length(reltols)) + 1))\n",
    "          Dict(:alg=>SRIW1(),:dts=>1.0./5.0.^((1:length(reltols)) + 1),:adaptive=>false)\n",
    "          ]\n",
    "names = [\"SRIW1\",\"EM\",\"RKMil\",\"SRIW1 Fixed\"]'\n",
    "wp = WorkPrecisionSet(prob,abstols,reltols,setups;numruns=1000,names=names,error_estimate=:l2)\n",
    "plot(wp)"
   ]
  },
  {
   "cell_type": "code",
   "execution_count": null,
   "metadata": {
    "collapsed": true
   },
   "outputs": [],
   "source": [
    "prob = prob_sde_wave\n",
    "prob.tspan = (0.0,1.0)\n",
    "\n",
    "reltols = 1.0./10.0.^(1:5)\n",
    "abstols = reltols#[0.0 for i in eachindex(reltols)]\n",
    "\n",
    "setups = [Dict(:alg=>SRIW1())\n",
    "          Dict(:alg=>EM(),:dts=>1.0./5.0.^((1:length(reltols)) + 1))\n",
    "          Dict(:alg=>RKMil(),:dts=>1.0./5.0.^((1:length(reltols)) + 1))\n",
    "          Dict(:alg=>SRIW1(),:dts=>1.0./5.0.^((1:length(reltols)) + 1),:adaptive=>false)\n",
    "          ]\n",
    "names = [\"SRIW1\",\"EM\",\"RKMil\",\"SRIW1 Fixed\"]'\n",
    "wp = WorkPrecisionSet(prob,abstols,reltols,setups;numruns=1000,names=names,error_estimate=:l2)\n",
    "plot(wp)"
   ]
  },
  {
   "cell_type": "code",
   "execution_count": null,
   "metadata": {
    "collapsed": true
   },
   "outputs": [],
   "source": [
    "prob = prob_sde_2Dlinear\n",
    "prob.tspan = (0.0,1.0)\n",
    "\n",
    "reltols = 1.0./10.0.^(1:5)\n",
    "abstols = reltols#[0.0 for i in eachindex(reltols)]\n",
    "\n",
    "setups = [Dict(:alg=>SRIW1())\n",
    "          Dict(:alg=>SRI())\n",
    "          Dict(:alg=>SRI(tableau=StochasticDiffEq.constructSRIOpt1()))\n",
    "          ]\n",
    "names = [\"SRIW1\",\"SRIW1 Fixed\",\"SRIOpt 1\"]'\n",
    "wp = WorkPrecisionSet(prob,abstols,reltols,setups;numruns=1000,names=names,error_estimate=:l2)\n",
    "plot(wp)"
   ]
  }
 ],
 "metadata": {
  "kernelspec": {
   "display_name": "Julia 0.5.2",
   "language": "julia",
   "name": "julia-0.5"
  },
  "language_info": {
   "file_extension": ".jl",
   "mimetype": "application/julia",
   "name": "julia",
   "version": "0.5.2"
  }
 },
 "nbformat": 4,
 "nbformat_minor": 1
}
