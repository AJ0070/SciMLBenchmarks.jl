{
 "cells": [
  {
   "cell_type": "code",
   "execution_count": 1,
   "metadata": {
    "collapsed": false
   },
   "outputs": [
    {
     "name": "stderr",
     "output_type": "stream",
     "text": [
      "\u001b[1m\u001b[34mINFO: Recompiling stale cache file /home/crackauc/.julia/lib/v0.5/StochasticDiffEq.ji for module StochasticDiffEq.\n",
      "\u001b[0m"
     ]
    },
    {
     "data": {
      "text/plain": [
       "DiffEqBase.SDEProblem{Array{Float64,1},Float64,true,true,:Diagonal,DiffEqProblemLibrary.##60#63{Float64,Float64,Float64,Float64,Float64,Float64,Float64,Float64,Float64,Float64,Float64,Int64,Float64,Float64,Float64,Float64,Float64,Float64,Float64,Float64,Float64,Float64,Float64,Float64,Float64,Float64,Float64,Float64,Float64,Float64,Float64,Float64,Float64,Float64,Float64,Float64,Float64,Float64,Float64,Float64,Float64,Float64,Float64,Float64,Float64,Float64,Float64,Float64,Float64,Float64,Float64,Float64,Float64,Float64,Float64,Float64,Float64,Float64,Float64,Float64,Float64,Float64,Float64,Float64,Float64,Float64,Float64,Float64,Float64,Float64,Float64,Float64,Float64,Float64,Float64,Float64},DiffEqProblemLibrary.##61#64{Int64},Base.Random.#randn!}(DiffEqProblemLibrary.#60,DiffEqProblemLibrary.#61,[0.128483,1.25685,0.0030203,0.0027977,0.0101511,0.0422942,0.239135,0.0008014,0.0001464,2.67e-5,4.8e-6,9.0e-7,0.0619917,1.24443,0.0486676,199.938,137.427,1.51802,1.51802],(0.0,500.0),DiffEqBase.NoiseProcess{:Diagonal,true,Base.Random.#randn!}(randn!))"
      ]
     },
     "execution_count": 1,
     "metadata": {},
     "output_type": "execute_result"
    }
   ],
   "source": [
    "using StochasticDiffEq, DiffEqProblemLibrary, BenchmarkTools\n",
    "srand(200)\n",
    "prob = oval2ModelExample(largeFluctuations=true,useBigs=false)"
   ]
  },
  {
   "cell_type": "code",
   "execution_count": 5,
   "metadata": {
    "collapsed": false
   },
   "outputs": [
    {
     "name": "stdout",
     "output_type": "stream",
     "text": [
      "353.793002 seconds (1.07 G allocations: 135.397 GB, 8.80% gc time)\n"
     ]
    }
   ],
   "source": [
    "srand(200)\n",
    "@time for i in 1:10\n",
    "    sol = solve(prob,SRIW1(),dt=(1/2)^(18),qmax=1.125,\n",
    "        timeseries_steps=1000,abstol=1e-5,reltol=1e-3)\n",
    "end"
   ]
  },
  {
   "cell_type": "code",
   "execution_count": 2,
   "metadata": {
    "collapsed": false
   },
   "outputs": [
    {
     "name": "stdout",
     "output_type": "stream",
     "text": [
      "1666.908896 seconds (62.36 G allocations: 1.017 TB, 7.64% gc time)\n"
     ]
    }
   ],
   "source": [
    "srand(200)\n",
    "@time for i in 1:10\n",
    "    sol = solve(prob,SRI(error_terms=2),dt=(1/2)^(18),qmax=1.125,\n",
    "          timeseries_steps=1000,abstol=1e-5,reltol=1e-3,force_dtmin=true)\n",
    "end"
   ]
  },
  {
   "cell_type": "code",
   "execution_count": 7,
   "metadata": {
    "collapsed": false
   },
   "outputs": [
    {
     "name": "stdout",
     "output_type": "stream",
     "text": [
      "225.579037 seconds (199.55 M allocations: 25.094 GB, 2.15% gc time)\n"
     ]
    }
   ],
   "source": [
    "srand(200)\n",
    "@time for i in 1:10\n",
    "    sol = solve(prob,SRI(tableau=StochasticDiffEq.constructSRIOpt1()),dt=(1/2)^(18),qmax=1.125,\n",
    "          timeseries_steps=1000,abstol=1e-5,reltol=1e-3)\n",
    "end"
   ]
  },
  {
   "cell_type": "code",
   "execution_count": null,
   "metadata": {
    "collapsed": true
   },
   "outputs": [],
   "source": []
  }
 ],
 "metadata": {
  "kernelspec": {
   "display_name": "Julia 0.5.0",
   "language": "julia",
   "name": "julia-0.5"
  },
  "language_info": {
   "file_extension": ".jl",
   "mimetype": "application/julia",
   "name": "julia",
   "version": "0.5.0"
  }
 },
 "nbformat": 4,
 "nbformat_minor": 2
}
