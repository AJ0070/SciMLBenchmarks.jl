{
 "cells": [
  {
   "cell_type": "code",
   "execution_count": 1,
   "metadata": {
    "collapsed": false
   },
   "outputs": [
    {
     "data": {
      "text/plain": [
       "DiffEqBase.SDEProblem with uType Array{Float64,1} and tType Float64. In-place: true\n",
       "timespan: (0.0, 500.0)\n",
       "u0: [0.128483, 1.25685, 0.0030203, 0.0027977, 0.0101511, 0.0422942, 0.239135, 0.0008014, 0.0001464, 2.67e-5, 4.8e-6, 9.0e-7, 0.0619917, 1.24443, 0.0486676, 199.938, 137.427, 1.51802, 1.51802]"
      ]
     },
     "execution_count": 1,
     "metadata": {},
     "output_type": "execute_result"
    }
   ],
   "source": [
    "using StochasticDiffEq, DiffEqProblemLibrary\n",
    "srand(200)\n",
    "prob = oval2ModelExample(largeFluctuations=true,useBigs=false)"
   ]
  },
  {
   "cell_type": "code",
   "execution_count": 19,
   "metadata": {
    "collapsed": false
   },
   "outputs": [
    {
     "name": "stdout",
     "output_type": "stream",
     "text": [
      "147.898779 seconds (133.90 M allocations: 7.831 GiB, 1.60% gc time)\n"
     ]
    }
   ],
   "source": [
    "srand(200)\n",
    "@time for i in 1:10\n",
    "    sol = solve(prob,SRIW1(),dt=(1/2)^(18),qmax=1.125,\n",
    "        timeseries_steps=1000,abstol=1e-5,reltol=1e-3)\n",
    "end"
   ]
  },
  {
   "cell_type": "code",
   "execution_count": 26,
   "metadata": {
    "collapsed": false
   },
   "outputs": [
    {
     "name": "stdout",
     "output_type": "stream",
     "text": [
      "i = 1\n",
      "i = 2\n",
      "i = 3\n",
      "i = 4\n",
      "i = 5\n",
      "i = 6\n",
      "i = 7\n",
      "i = 8\n",
      "i = 9\n",
      "i = 10\n",
      "8796.472603 seconds (29.70 G allocations: 2.620 TiB, 12.69% gc time)\n"
     ]
    }
   ],
   "source": [
    "srand(200)\n",
    "@time for i in 1:10\n",
    "    @show i\n",
    "    sol = solve(prob,ImplicitEM(),dt=1/60000)\n",
    "end"
   ]
  },
  {
   "cell_type": "code",
   "execution_count": 3,
   "metadata": {
    "collapsed": false
   },
   "outputs": [
    {
     "name": "stdout",
     "output_type": "stream",
     "text": [
      "i = 1\n",
      "i = 2\n",
      "i = 3\n",
      "i = 4\n",
      "i = 5\n",
      "i = 6\n",
      "i = 7\n",
      "i = 8\n",
      "i = 9\n",
      "i = 10\n",
      "7378.555228 seconds (24.76 G allocations: 2.189 TiB, 12.60% gc time)\n"
     ]
    }
   ],
   "source": [
    "srand(200)\n",
    "@time for i in 1:10\n",
    "    @show i\n",
    "    sol = solve(prob,ImplicitRKMil(),dt=1/50000)\n",
    "end"
   ]
  },
  {
   "cell_type": "code",
   "execution_count": 14,
   "metadata": {
    "collapsed": false
   },
   "outputs": [
    {
     "name": "stdout",
     "output_type": "stream",
     "text": [
      " 33.284208 seconds (16.97 M allocations: 664.508 MiB, 0.53% gc time)\n"
     ]
    }
   ],
   "source": [
    "srand(200)\n",
    "@time for i in 1:10\n",
    "    sol = solve(prob,SOSRI(),dt=(1/2)^(18),qmax=1.125,\n",
    "          timeseries_steps=1000,abstol=1e-4,reltol=1e-2)\n",
    "end"
   ]
  },
  {
   "cell_type": "code",
   "execution_count": 15,
   "metadata": {
    "collapsed": false
   },
   "outputs": [
    {
     "name": "stdout",
     "output_type": "stream",
     "text": [
      " 76.128561 seconds (40.45 M allocations: 1.581 GiB, 0.60% gc time)\n"
     ]
    }
   ],
   "source": [
    "srand(200)\n",
    "@time for i in 1:10\n",
    "    sol = solve(prob,SOSRI2(),dt=(1/2)^(18),qmax=1.125,\n",
    "          timeseries_steps=1000,abstol=1e-4,reltol=1e-4)\n",
    "end"
   ]
  },
  {
   "cell_type": "code",
   "execution_count": 17,
   "metadata": {
    "collapsed": false
   },
   "outputs": [
    {
     "name": "stdout",
     "output_type": "stream",
     "text": [
      "121.756225 seconds (65.51 M allocations: 2.662 GiB, 0.66% gc time)\n"
     ]
    }
   ],
   "source": [
    "srand(200)\n",
    "@time for i in 1:10\n",
    "    sol = solve(prob,SOSRI2(),dt=(1/2)^(18),qmax=1.125,\n",
    "          timeseries_steps=1000,abstol=1e-5,reltol=1e-3)\n",
    "end"
   ]
  },
  {
   "cell_type": "code",
   "execution_count": 13,
   "metadata": {
    "collapsed": false
   },
   "outputs": [
    {
     "name": "stdout",
     "output_type": "stream",
     "text": [
      " 25.971742 seconds (13.77 M allocations: 576.293 MiB, 0.57% gc time)\n"
     ]
    }
   ],
   "source": [
    "srand(200)\n",
    "@time for i in 1:10\n",
    "    sol = solve(prob,SOSRI(),dt=(1/2)^(18),qmax=1.125,\n",
    "          timeseries_steps=1000,abstol=1e-3,reltol=1e-2)\n",
    "end"
   ]
  },
  {
   "cell_type": "code",
   "execution_count": 16,
   "metadata": {
    "collapsed": false
   },
   "outputs": [
    {
     "name": "stdout",
     "output_type": "stream",
     "text": [
      " 73.624740 seconds (37.72 M allocations: 1.406 GiB, 0.60% gc time)\n"
     ]
    }
   ],
   "source": [
    "srand(200)\n",
    "@time for i in 1:10\n",
    "    sol = solve(prob,SOSRI(),dt=(1/2)^(18),qmax=1.125,\n",
    "          timeseries_steps=1000,abstol=1e-4,reltol=1e-4)\n",
    "end"
   ]
  },
  {
   "cell_type": "code",
   "execution_count": 20,
   "metadata": {
    "collapsed": false
   },
   "outputs": [
    {
     "name": "stdout",
     "output_type": "stream",
     "text": [
      " 22.472149 seconds (11.34 M allocations: 444.027 MiB, 0.50% gc time)\n"
     ]
    }
   ],
   "source": [
    "srand(200)\n",
    "@time for i in 1:10\n",
    "    sol = solve(prob,SOSRI(),dt=(1/2)^(18),qmax=1.125,\n",
    "          timeseries_steps=1000,abstol=1e-2,reltol=1e-2)\n",
    "end"
   ]
  },
  {
   "cell_type": "code",
   "execution_count": 11,
   "metadata": {
    "collapsed": false
   },
   "outputs": [
    {
     "name": "stdout",
     "output_type": "stream",
     "text": [
      " 89.198343 seconds (46.06 M allocations: 1.730 GiB, 0.65% gc time)\n"
     ]
    }
   ],
   "source": [
    "srand(200)\n",
    "@time for i in 1:10\n",
    "    sol = solve(prob,SOSRI(),dt=(1/2)^(18),qmax=1.125,\n",
    "          timeseries_steps=1000,abstol=1e-5,reltol=1e-3)\n",
    "end"
   ]
  },
  {
   "cell_type": "code",
   "execution_count": 8,
   "metadata": {
    "collapsed": false
   },
   "outputs": [
    {
     "name": "stderr",
     "output_type": "stream",
     "text": [
      "\u001b[1m\u001b[33mWARNING: \u001b[39m\u001b[22m\u001b[33mdt <= dtmin. Aborting. If you would like to force continuation with dt=dtmin, set force_dtmin=true\u001b[39m\n",
      "\u001b[1m\u001b[33mWARNING: \u001b[39m\u001b[22m\u001b[33mdt <= dtmin. Aborting. If you would like to force continuation with dt=dtmin, set force_dtmin=true\u001b[39m\n",
      "\u001b[1m\u001b[33mWARNING: \u001b[39m\u001b[22m\u001b[33mdt <= dtmin. Aborting. If you would like to force continuation with dt=dtmin, set force_dtmin=true\u001b[39m\n",
      "\u001b[1m\u001b[33mWARNING: \u001b[39m\u001b[22m"
     ]
    }
   ],
   "source": [
    "srand(200)\n",
    "@time for i in 1:10\n",
    "    sol = solve(prob,SOSRI(),dt=(1/2)^(18),qmax=1.125,\n",
    "          timeseries_steps=1000,abstol=1e-2,reltol=1e-1)\n",
    "end"
   ]
  },
  {
   "cell_type": "code",
   "execution_count": 10,
   "metadata": {
    "collapsed": false
   },
   "outputs": [
    {
     "name": "stderr",
     "output_type": "stream",
     "text": [
      "\u001b[1m\u001b[33mWARNING: \u001b[39m\u001b[22m\u001b[33mdt <= dtmin. Aborting. If you would like to force continuation with dt=dtmin, set force_dtmin=true\u001b[39m\n",
      "\u001b[1m\u001b[33mWARNING: \u001b[39m\u001b[22m\u001b[33mdt <= dtmin. Aborting. If you would like to force continuation with dt=dtmin, set force_dtmin=true\u001b[39m\n",
      "\u001b[1m\u001b[33mWARNING: \u001b[39m\u001b[22m\u001b[33mdt <= dtmin. Aborting. If you would like to force continuation with dt=dtmin, set force_dtmin=true\u001b[39m\n",
      "\u001b[1m\u001b[33mWARNING: \u001b[39m\u001b[22m\u001b[33mdt <= dtmin. Aborting. If you would like to force continuation with dt=dtmin, set force_dtmin=true\u001b[39m\n",
      "\u001b[1m\u001b[33mWARNING: \u001b[39m\u001b[22m\u001b[33mdt <= dtmin. Aborting. If you would like to force continuation with dt=dtmin, set force_dtmin=true\u001b[39m\n",
      "\u001b[1m\u001b[33mWARNING: \u001b[39m\u001b[22m\u001b[33mdt <= dtmin. Aborting. If you would like to force continuation with dt=dtmin, set force_dtmin=true\u001b[39m\n",
      "\u001b[1m\u001b[33mWARNING: \u001b[39m\u001b[22m\u001b[33mdt <= dtmin. Aborting. If you would like to force continuation with dt=dtmin, set force_dtmin=true\u001b[39m\n",
      "\u001b[1m\u001b[33mWARNING: \u001b[39m\u001b[22m\u001b[33mdt <= dtmin. Aborting. If you would like to force continuation with dt=dtmin, set force_dtmin=true\u001b[39m\n"
     ]
    },
    {
     "name": "stdout",
     "output_type": "stream",
     "text": [
      "  0.096493 seconds (35.26 k allocations: 2.207 MiB, 7.29% gc time)\n"
     ]
    },
    {
     "name": "stderr",
     "output_type": "stream",
     "text": [
      "\u001b[1m\u001b[33mWARNING: \u001b[39m\u001b[22m\u001b[33mdt <= dtmin. Aborting. If you would like to force continuation with dt=dtmin, set force_dtmin=true\u001b[39m\n",
      "\u001b[1m\u001b[33mWARNING: \u001b[39m\u001b[22m\u001b[33mdt <= dtmin. Aborting. If you would like to force continuation with dt=dtmin, set force_dtmin=true\u001b[39m\n"
     ]
    }
   ],
   "source": [
    "srand(200)\n",
    "@time for i in 1:10\n",
    "    sol = solve(prob,SOSRI2(),dt=(1/2)^(18),qmax=1.125,\n",
    "          timeseries_steps=1000,abstol=1e-4,reltol=1e-1)\n",
    "end"
   ]
  },
  {
   "cell_type": "code",
   "execution_count": 2,
   "metadata": {
    "collapsed": false,
    "scrolled": true
   },
   "outputs": [
    {
     "name": "stdout",
     "output_type": "stream",
     "text": [
      "i = 1\n"
     ]
    },
    {
     "ename": "LoadError",
     "evalue": "\u001b[91mNewton steps could not converge and algorithm is not adaptive. Use a lower dt.\u001b[39m",
     "output_type": "error",
     "traceback": [
      "\u001b[91mNewton steps could not converge and algorithm is not adaptive. Use a lower dt.\u001b[39m",
      "",
      "Stacktrace:",
      " [1] \u001b[1mloopfooter!\u001b[22m\u001b[22m at \u001b[1m/home/crackauc/.julia/v0.6/StochasticDiffEq/src/integrators/integrator_utils.jl:135\u001b[22m\u001b[22m [inlined]",
      " [2] \u001b[1msolve!\u001b[22m\u001b[22m\u001b[1m(\u001b[22m\u001b[22m::StochasticDiffEq.SDEIntegrator{StochasticDiffEq.ImplicitEM{0,true,DiffEqBase.LinSolveFactorize{Base.LinAlg.#lufact!},DataType,Void,Void,Float64,:Predictive},Array{Float64,1},Float64,Float64,Float64,Float64,DiffEqNoiseProcess.NoiseProcess{Float64,2,Float64,Array{Float64,1},Void,Void,DiffEqNoiseProcess.#INPLACE_WHITE_NOISE_DIST,DiffEqNoiseProcess.#INPLACE_WHITE_NOISE_BRIDGE,true,DataStructures.Stack{Tuple{Float64,Array{Float64,1},Void}},ResettableStacks.ResettableStack{Tuple{Float64,Array{Float64,1},Void}},DiffEqNoiseProcess.RSWM{:RSwM1,Float64},RandomNumbers.Xorshifts.Xoroshiro128Plus},Array{Float64,1},DiffEqBase.RODESolution{Float64,2,Array{Array{Float64,1},1},Void,Void,Array{Float64,1},DiffEqNoiseProcess.NoiseProcess{Float64,2,Float64,Array{Float64,1},Void,Void,DiffEqNoiseProcess.#INPLACE_WHITE_NOISE_DIST,DiffEqNoiseProcess.#INPLACE_WHITE_NOISE_BRIDGE,true,DataStructures.Stack{Tuple{Float64,Array{Float64,1},Void}},ResettableStacks.ResettableStack{Tuple{Float64,Array{Float64,1},Void}},DiffEqNoiseProcess.RSWM{:RSwM1,Float64},RandomNumbers.Xorshifts.Xoroshiro128Plus},DiffEqBase.SDEProblem{Array{Float64,1},Float64,true,Void,DiffEqProblemLibrary.##158#161{Float64,Float64,Float64,Float64,Float64,Float64,Float64,Float64,Float64,Float64,Float64,Int64,Float64,Float64,Float64,Float64,Float64,Float64,Float64,Float64,Float64,Float64,Float64,Float64,Float64,Float64,Float64,Float64,Float64,Float64,Float64,Float64,Float64,Float64,Float64,Float64,Float64,Float64,Float64,Float64,Float64,Float64,Float64,Float64,Float64,Float64,Float64,Float64,Float64,Float64,Float64,Float64,Float64,Float64,Float64,Float64,Float64,Float64,Float64,Float64,Float64,Float64,Float64,Float64,Float64,Float64,Float64,Float64,Float64,Float64,Float64,Float64,Float64,Float64,Float64,Float64},DiffEqProblemLibrary.##159#162{Int64},Void,UniformScaling{Int64},Void},StochasticDiffEq.ImplicitEM{0,true,DiffEqBase.LinSolveFactorize{Base.LinAlg.#lufact!},DataType,Void,Void,Float64,:Predictive},StochasticDiffEq.LinearInterpolationData{Array{Array{Float64,1},1},Array{Float64,1}}},StochasticDiffEq.ImplicitEMCache{Array{Float64,1},Array{Float64,1},Array{Float64,2},ForwardDiff.JacobianConfig{ForwardDiff.Tag{DiffEqDiffTools.UJacobianWrapper{DiffEqProblemLibrary.##158#161{Float64,Float64,Float64,Float64,Float64,Float64,Float64,Float64,Float64,Float64,Float64,Int64,Float64,Float64,Float64,Float64,Float64,Float64,Float64,Float64,Float64,Float64,Float64,Float64,Float64,Float64,Float64,Float64,Float64,Float64,Float64,Float64,Float64,Float64,Float64,Float64,Float64,Float64,Float64,Float64,Float64,Float64,Float64,Float64,Float64,Float64,Float64,Float64,Float64,Float64,Float64,Float64,Float64,Float64,Float64,Float64,Float64,Float64,Float64,Float64,Float64,Float64,Float64,Float64,Float64,Float64,Float64,Float64,Float64,Float64,Float64,Float64,Float64,Float64,Float64,Float64},Float64},Float64},Float64,10,Tuple{Array{ForwardDiff.Dual{ForwardDiff.Tag{DiffEqDiffTools.UJacobianWrapper{DiffEqProblemLibrary.##158#161{Float64,Float64,Float64,Float64,Float64,Float64,Float64,Float64,Float64,Float64,Float64,Int64,Float64,Float64,Float64,Float64,Float64,Float64,Float64,Float64,Float64,Float64,Float64,Float64,Float64,Float64,Float64,Float64,Float64,Float64,Float64,Float64,Float64,Float64,Float64,Float64,Float64,Float64,Float64,Float64,Float64,Float64,Float64,Float64,Float64,Float64,Float64,Float64,Float64,Float64,Float64,Float64,Float64,Float64,Float64,Float64,Float64,Float64,Float64,Float64,Float64,Float64,Float64,Float64,Float64,Float64,Float64,Float64,Float64,Float64,Float64,Float64,Float64,Float64,Float64,Float64},Float64},Float64},Float64,10},1},Array{ForwardDiff.Dual{ForwardDiff.Tag{DiffEqDiffTools.UJacobianWrapper{DiffEqProblemLibrary.##158#161{Float64,Float64,Float64,Float64,Float64,Float64,Float64,Float64,Float64,Float64,Float64,Int64,Float64,Float64,Float64,Float64,Float64,Float64,Float64,Float64,Float64,Float64,Float64,Float64,Float64,Float64,Float64,Float64,Float64,Float64,Float64,Float64,Float64,Float64,Float64,Float64,Float64,Float64,Float64,Float64,Float64,Float64,Float64,Float64,Float64,Float64,Float64,Float64,Float64,Float64,Float64,Float64,Float64,Float64,Float64,Float64,Float64,Float64,Float64,Float64,Float64,Float64,Float64,Float64,Float64,Float64,Float64,Float64,Float64,Float64,Float64,Float64,Float64,Float64,Float64,Float64},Float64},Float64},Float64,10},1}}},DiffEqDiffTools.UJacobianWrapper{DiffEqProblemLibrary.##158#161{Float64,Float64,Float64,Float64,Float64,Float64,Float64,Float64,Float64,Float64,Float64,Int64,Float64,Float64,Float64,Float64,Float64,Float64,Float64,Float64,Float64,Float64,Float64,Float64,Float64,Float64,Float64,Float64,Float64,Float64,Float64,Float64,Float64,Float64,Float64,Float64,Float64,Float64,Float64,Float64,Float64,Float64,Float64,Float64,Float64,Float64,Float64,Float64,Float64,Float64,Float64,Float64,Float64,Float64,Float64,Float64,Float64,Float64,Float64,Float64,Float64,Float64,Float64,Float64,Float64,Float64,Float64,Float64,Float64,Float64,Float64,Float64,Float64,Float64,Float64,Float64},Float64},Float64,Array{Float64,1},DiffEqBase.LinSolveFactorize{Base.LinAlg.#lufact!}},Void,DiffEqProblemLibrary.##158#161{Float64,Float64,Float64,Float64,Float64,Float64,Float64,Float64,Float64,Float64,Float64,Int64,Float64,Float64,Float64,Float64,Float64,Float64,Float64,Float64,Float64,Float64,Float64,Float64,Float64,Float64,Float64,Float64,Float64,Float64,Float64,Float64,Float64,Float64,Float64,Float64,Float64,Float64,Float64,Float64,Float64,Float64,Float64,Float64,Float64,Float64,Float64,Float64,Float64,Float64,Float64,Float64,Float64,Float64,Float64,Float64,Float64,Float64,Float64,Float64,Float64,Float64,Float64,Float64,Float64,Float64,Float64,Float64,Float64,Float64,Float64,Float64,Float64,Float64,Float64,Float64},DiffEqProblemLibrary.##159#162{Int64},StochasticDiffEq.SDEOptions{Float64,Float64,DiffEqBase.#ODE_DEFAULT_NORM,DiffEqBase.CallbackSet{Tuple{},Tuple{}},DiffEqBase.#ODE_DEFAULT_ISOUTOFDOMAIN,DiffEqBase.#ODE_DEFAULT_PROG_MESSAGE,DiffEqBase.#ODE_DEFAULT_UNSTABLE_CHECK,DataStructures.BinaryHeap{Float64,DataStructures.LessThan},Void,Void,Float64,Float64,Float64,Float64,Array{Float64,1},Array{Float64,1},Array{Float64,1}},Void}\u001b[1m)\u001b[22m\u001b[22m at \u001b[1m/home/crackauc/.julia/v0.6/StochasticDiffEq/src/solve.jl:348\u001b[22m\u001b[22m",
      " [3] \u001b[1m#solve#81\u001b[22m\u001b[22m\u001b[1m(\u001b[22m\u001b[22m::Array{Any,1}, ::Function, ::DiffEqBase.SDEProblem{Array{Float64,1},Float64,true,Void,DiffEqProblemLibrary.##158#161{Float64,Float64,Float64,Float64,Float64,Float64,Float64,Float64,Float64,Float64,Float64,Int64,Float64,Float64,Float64,Float64,Float64,Float64,Float64,Float64,Float64,Float64,Float64,Float64,Float64,Float64,Float64,Float64,Float64,Float64,Float64,Float64,Float64,Float64,Float64,Float64,Float64,Float64,Float64,Float64,Float64,Float64,Float64,Float64,Float64,Float64,Float64,Float64,Float64,Float64,Float64,Float64,Float64,Float64,Float64,Float64,Float64,Float64,Float64,Float64,Float64,Float64,Float64,Float64,Float64,Float64,Float64,Float64,Float64,Float64,Float64,Float64,Float64,Float64,Float64,Float64},DiffEqProblemLibrary.##159#162{Int64},Void,UniformScaling{Int64},Void}, ::StochasticDiffEq.ImplicitEM{0,true,DiffEqBase.LinSolveFactorize{Base.LinAlg.#lufact!},DataType,Void,Void,Float64,:Predictive}, ::Array{Any,1}, ::Array{Any,1}, ::Array{Any,1}, ::Type{Val{true}}\u001b[1m)\u001b[22m\u001b[22m at \u001b[1m/home/crackauc/.julia/v0.6/StochasticDiffEq/src/solve.jl:7\u001b[22m\u001b[22m",
      " [4] \u001b[1m(::DiffEqBase.#kw##solve)\u001b[22m\u001b[22m\u001b[1m(\u001b[22m\u001b[22m::Array{Any,1}, ::DiffEqBase.#solve, ::DiffEqBase.SDEProblem{Array{Float64,1},Float64,true,Void,DiffEqProblemLibrary.##158#161{Float64,Float64,Float64,Float64,Float64,Float64,Float64,Float64,Float64,Float64,Float64,Int64,Float64,Float64,Float64,Float64,Float64,Float64,Float64,Float64,Float64,Float64,Float64,Float64,Float64,Float64,Float64,Float64,Float64,Float64,Float64,Float64,Float64,Float64,Float64,Float64,Float64,Float64,Float64,Float64,Float64,Float64,Float64,Float64,Float64,Float64,Float64,Float64,Float64,Float64,Float64,Float64,Float64,Float64,Float64,Float64,Float64,Float64,Float64,Float64,Float64,Float64,Float64,Float64,Float64,Float64,Float64,Float64,Float64,Float64,Float64,Float64,Float64,Float64,Float64,Float64},DiffEqProblemLibrary.##159#162{Int64},Void,UniformScaling{Int64},Void}, ::StochasticDiffEq.ImplicitEM{0,true,DiffEqBase.LinSolveFactorize{Base.LinAlg.#lufact!},DataType,Void,Void,Float64,:Predictive}, ::Array{Any,1}, ::Array{Any,1}, ::Array{Any,1}, ::Type{Val{true}}\u001b[1m)\u001b[22m\u001b[22m at \u001b[1m./<missing>:0\u001b[22m\u001b[22m (repeats 2 times)",
      " [5] \u001b[1mmacro expansion\u001b[22m\u001b[22m at \u001b[1m./In[2]:4\u001b[22m\u001b[22m [inlined]",
      " [6] \u001b[1mmacro expansion\u001b[22m\u001b[22m at \u001b[1m./util.jl:237\u001b[22m\u001b[22m [inlined]",
      " [7] \u001b[1manonymous\u001b[22m\u001b[22m at \u001b[1m./<missing>:?\u001b[22m\u001b[22m"
     ]
    }
   ],
   "source": [
    "srand(200)\n",
    "@time for i in 1:10\n",
    "    @show i\n",
    "    sol = solve(prob,ImplicitEM(),dt=1/50000)\n",
    "end"
   ]
  },
  {
   "cell_type": "code",
   "execution_count": 4,
   "metadata": {
    "collapsed": false,
    "scrolled": true
   },
   "outputs": [
    {
     "name": "stdout",
     "output_type": "stream",
     "text": [
      "i = 1\n",
      "i = 2\n",
      "i = 3\n",
      "i = 4\n",
      "i = 5\n"
     ]
    },
    {
     "ename": "LoadError",
     "evalue": "\u001b[91mNewton steps could not converge and algorithm is not adaptive. Use a lower dt.\u001b[39m",
     "output_type": "error",
     "traceback": [
      "\u001b[91mNewton steps could not converge and algorithm is not adaptive. Use a lower dt.\u001b[39m",
      "",
      "Stacktrace:",
      " [1] \u001b[1mloopfooter!\u001b[22m\u001b[22m at \u001b[1m/home/crackauc/.julia/v0.6/StochasticDiffEq/src/integrators/integrator_utils.jl:135\u001b[22m\u001b[22m [inlined]",
      " [2] \u001b[1msolve!\u001b[22m\u001b[22m\u001b[1m(\u001b[22m\u001b[22m::StochasticDiffEq.SDEIntegrator{StochasticDiffEq.ImplicitRKMil{0,true,DiffEqBase.LinSolveFactorize{Base.LinAlg.#lufact!},DataType,Void,Void,Float64,:Predictive,:Ito},Array{Float64,1},Float64,Float64,Float64,Float64,DiffEqNoiseProcess.NoiseProcess{Float64,2,Float64,Array{Float64,1},Void,Void,DiffEqNoiseProcess.#INPLACE_WHITE_NOISE_DIST,DiffEqNoiseProcess.#INPLACE_WHITE_NOISE_BRIDGE,true,DataStructures.Stack{Tuple{Float64,Array{Float64,1},Void}},ResettableStacks.ResettableStack{Tuple{Float64,Array{Float64,1},Void}},DiffEqNoiseProcess.RSWM{:RSwM1,Float64},RandomNumbers.Xorshifts.Xoroshiro128Plus},Array{Float64,1},DiffEqBase.RODESolution{Float64,2,Array{Array{Float64,1},1},Void,Void,Array{Float64,1},DiffEqNoiseProcess.NoiseProcess{Float64,2,Float64,Array{Float64,1},Void,Void,DiffEqNoiseProcess.#INPLACE_WHITE_NOISE_DIST,DiffEqNoiseProcess.#INPLACE_WHITE_NOISE_BRIDGE,true,DataStructures.Stack{Tuple{Float64,Array{Float64,1},Void}},ResettableStacks.ResettableStack{Tuple{Float64,Array{Float64,1},Void}},DiffEqNoiseProcess.RSWM{:RSwM1,Float64},RandomNumbers.Xorshifts.Xoroshiro128Plus},DiffEqBase.SDEProblem{Array{Float64,1},Float64,true,Void,DiffEqProblemLibrary.##158#161{Float64,Float64,Float64,Float64,Float64,Float64,Float64,Float64,Float64,Float64,Float64,Int64,Float64,Float64,Float64,Float64,Float64,Float64,Float64,Float64,Float64,Float64,Float64,Float64,Float64,Float64,Float64,Float64,Float64,Float64,Float64,Float64,Float64,Float64,Float64,Float64,Float64,Float64,Float64,Float64,Float64,Float64,Float64,Float64,Float64,Float64,Float64,Float64,Float64,Float64,Float64,Float64,Float64,Float64,Float64,Float64,Float64,Float64,Float64,Float64,Float64,Float64,Float64,Float64,Float64,Float64,Float64,Float64,Float64,Float64,Float64,Float64,Float64,Float64,Float64,Float64},DiffEqProblemLibrary.##159#162{Int64},Void,UniformScaling{Int64},Void},StochasticDiffEq.ImplicitRKMil{0,true,DiffEqBase.LinSolveFactorize{Base.LinAlg.#lufact!},DataType,Void,Void,Float64,:Predictive,:Ito},StochasticDiffEq.LinearInterpolationData{Array{Array{Float64,1},1},Array{Float64,1}}},StochasticDiffEq.ImplicitRKMilCache{Array{Float64,1},Array{Float64,1},Array{Float64,2},ForwardDiff.JacobianConfig{ForwardDiff.Tag{DiffEqDiffTools.UJacobianWrapper{DiffEqProblemLibrary.##158#161{Float64,Float64,Float64,Float64,Float64,Float64,Float64,Float64,Float64,Float64,Float64,Int64,Float64,Float64,Float64,Float64,Float64,Float64,Float64,Float64,Float64,Float64,Float64,Float64,Float64,Float64,Float64,Float64,Float64,Float64,Float64,Float64,Float64,Float64,Float64,Float64,Float64,Float64,Float64,Float64,Float64,Float64,Float64,Float64,Float64,Float64,Float64,Float64,Float64,Float64,Float64,Float64,Float64,Float64,Float64,Float64,Float64,Float64,Float64,Float64,Float64,Float64,Float64,Float64,Float64,Float64,Float64,Float64,Float64,Float64,Float64,Float64,Float64,Float64,Float64,Float64},Float64},Float64},Float64,10,Tuple{Array{ForwardDiff.Dual{ForwardDiff.Tag{DiffEqDiffTools.UJacobianWrapper{DiffEqProblemLibrary.##158#161{Float64,Float64,Float64,Float64,Float64,Float64,Float64,Float64,Float64,Float64,Float64,Int64,Float64,Float64,Float64,Float64,Float64,Float64,Float64,Float64,Float64,Float64,Float64,Float64,Float64,Float64,Float64,Float64,Float64,Float64,Float64,Float64,Float64,Float64,Float64,Float64,Float64,Float64,Float64,Float64,Float64,Float64,Float64,Float64,Float64,Float64,Float64,Float64,Float64,Float64,Float64,Float64,Float64,Float64,Float64,Float64,Float64,Float64,Float64,Float64,Float64,Float64,Float64,Float64,Float64,Float64,Float64,Float64,Float64,Float64,Float64,Float64,Float64,Float64,Float64,Float64},Float64},Float64},Float64,10},1},Array{ForwardDiff.Dual{ForwardDiff.Tag{DiffEqDiffTools.UJacobianWrapper{DiffEqProblemLibrary.##158#161{Float64,Float64,Float64,Float64,Float64,Float64,Float64,Float64,Float64,Float64,Float64,Int64,Float64,Float64,Float64,Float64,Float64,Float64,Float64,Float64,Float64,Float64,Float64,Float64,Float64,Float64,Float64,Float64,Float64,Float64,Float64,Float64,Float64,Float64,Float64,Float64,Float64,Float64,Float64,Float64,Float64,Float64,Float64,Float64,Float64,Float64,Float64,Float64,Float64,Float64,Float64,Float64,Float64,Float64,Float64,Float64,Float64,Float64,Float64,Float64,Float64,Float64,Float64,Float64,Float64,Float64,Float64,Float64,Float64,Float64,Float64,Float64,Float64,Float64,Float64,Float64},Float64},Float64},Float64,10},1}}},DiffEqDiffTools.UJacobianWrapper{DiffEqProblemLibrary.##158#161{Float64,Float64,Float64,Float64,Float64,Float64,Float64,Float64,Float64,Float64,Float64,Int64,Float64,Float64,Float64,Float64,Float64,Float64,Float64,Float64,Float64,Float64,Float64,Float64,Float64,Float64,Float64,Float64,Float64,Float64,Float64,Float64,Float64,Float64,Float64,Float64,Float64,Float64,Float64,Float64,Float64,Float64,Float64,Float64,Float64,Float64,Float64,Float64,Float64,Float64,Float64,Float64,Float64,Float64,Float64,Float64,Float64,Float64,Float64,Float64,Float64,Float64,Float64,Float64,Float64,Float64,Float64,Float64,Float64,Float64,Float64,Float64,Float64,Float64,Float64,Float64},Float64},Float64,Array{Float64,1},DiffEqBase.LinSolveFactorize{Base.LinAlg.#lufact!}},Void,DiffEqProblemLibrary.##158#161{Float64,Float64,Float64,Float64,Float64,Float64,Float64,Float64,Float64,Float64,Float64,Int64,Float64,Float64,Float64,Float64,Float64,Float64,Float64,Float64,Float64,Float64,Float64,Float64,Float64,Float64,Float64,Float64,Float64,Float64,Float64,Float64,Float64,Float64,Float64,Float64,Float64,Float64,Float64,Float64,Float64,Float64,Float64,Float64,Float64,Float64,Float64,Float64,Float64,Float64,Float64,Float64,Float64,Float64,Float64,Float64,Float64,Float64,Float64,Float64,Float64,Float64,Float64,Float64,Float64,Float64,Float64,Float64,Float64,Float64,Float64,Float64,Float64,Float64,Float64,Float64},DiffEqProblemLibrary.##159#162{Int64},StochasticDiffEq.SDEOptions{Float64,Float64,DiffEqBase.#ODE_DEFAULT_NORM,DiffEqBase.CallbackSet{Tuple{},Tuple{}},DiffEqBase.#ODE_DEFAULT_ISOUTOFDOMAIN,DiffEqBase.#ODE_DEFAULT_PROG_MESSAGE,DiffEqBase.#ODE_DEFAULT_UNSTABLE_CHECK,DataStructures.BinaryHeap{Float64,DataStructures.LessThan},Void,Void,Float64,Float64,Float64,Float64,Array{Float64,1},Array{Float64,1},Array{Float64,1}},Void}\u001b[1m)\u001b[22m\u001b[22m at \u001b[1m/home/crackauc/.julia/v0.6/StochasticDiffEq/src/solve.jl:348\u001b[22m\u001b[22m",
      " [3] \u001b[1m#solve#81\u001b[22m\u001b[22m\u001b[1m(\u001b[22m\u001b[22m::Array{Any,1}, ::Function, ::DiffEqBase.SDEProblem{Array{Float64,1},Float64,true,Void,DiffEqProblemLibrary.##158#161{Float64,Float64,Float64,Float64,Float64,Float64,Float64,Float64,Float64,Float64,Float64,Int64,Float64,Float64,Float64,Float64,Float64,Float64,Float64,Float64,Float64,Float64,Float64,Float64,Float64,Float64,Float64,Float64,Float64,Float64,Float64,Float64,Float64,Float64,Float64,Float64,Float64,Float64,Float64,Float64,Float64,Float64,Float64,Float64,Float64,Float64,Float64,Float64,Float64,Float64,Float64,Float64,Float64,Float64,Float64,Float64,Float64,Float64,Float64,Float64,Float64,Float64,Float64,Float64,Float64,Float64,Float64,Float64,Float64,Float64,Float64,Float64,Float64,Float64,Float64,Float64},DiffEqProblemLibrary.##159#162{Int64},Void,UniformScaling{Int64},Void}, ::StochasticDiffEq.ImplicitRKMil{0,true,DiffEqBase.LinSolveFactorize{Base.LinAlg.#lufact!},DataType,Void,Void,Float64,:Predictive,:Ito}, ::Array{Any,1}, ::Array{Any,1}, ::Array{Any,1}, ::Type{Val{true}}\u001b[1m)\u001b[22m\u001b[22m at \u001b[1m/home/crackauc/.julia/v0.6/StochasticDiffEq/src/solve.jl:7\u001b[22m\u001b[22m",
      " [4] \u001b[1m(::DiffEqBase.#kw##solve)\u001b[22m\u001b[22m\u001b[1m(\u001b[22m\u001b[22m::Array{Any,1}, ::DiffEqBase.#solve, ::DiffEqBase.SDEProblem{Array{Float64,1},Float64,true,Void,DiffEqProblemLibrary.##158#161{Float64,Float64,Float64,Float64,Float64,Float64,Float64,Float64,Float64,Float64,Float64,Int64,Float64,Float64,Float64,Float64,Float64,Float64,Float64,Float64,Float64,Float64,Float64,Float64,Float64,Float64,Float64,Float64,Float64,Float64,Float64,Float64,Float64,Float64,Float64,Float64,Float64,Float64,Float64,Float64,Float64,Float64,Float64,Float64,Float64,Float64,Float64,Float64,Float64,Float64,Float64,Float64,Float64,Float64,Float64,Float64,Float64,Float64,Float64,Float64,Float64,Float64,Float64,Float64,Float64,Float64,Float64,Float64,Float64,Float64,Float64,Float64,Float64,Float64,Float64,Float64},DiffEqProblemLibrary.##159#162{Int64},Void,UniformScaling{Int64},Void}, ::StochasticDiffEq.ImplicitRKMil{0,true,DiffEqBase.LinSolveFactorize{Base.LinAlg.#lufact!},DataType,Void,Void,Float64,:Predictive,:Ito}, ::Array{Any,1}, ::Array{Any,1}, ::Array{Any,1}, ::Type{Val{true}}\u001b[1m)\u001b[22m\u001b[22m at \u001b[1m./<missing>:0\u001b[22m\u001b[22m (repeats 2 times)",
      " [5] \u001b[1mmacro expansion\u001b[22m\u001b[22m at \u001b[1m./In[4]:4\u001b[22m\u001b[22m [inlined]",
      " [6] \u001b[1mmacro expansion\u001b[22m\u001b[22m at \u001b[1m./util.jl:237\u001b[22m\u001b[22m [inlined]",
      " [7] \u001b[1manonymous\u001b[22m\u001b[22m at \u001b[1m./<missing>:?\u001b[22m\u001b[22m"
     ]
    }
   ],
   "source": [
    "srand(200)\n",
    "@time for i in 1:10\n",
    "    @show i\n",
    "    sol = solve(prob,ImplicitRKMil(),dt=1/40000)\n",
    "end"
   ]
  }
 ],
 "metadata": {
  "kernelspec": {
   "display_name": "Julia 0.6.0",
   "language": "julia",
   "name": "julia-0.6"
  },
  "language_info": {
   "file_extension": ".jl",
   "mimetype": "application/julia",
   "name": "julia",
   "version": "0.6.0"
  }
 },
 "nbformat": 4,
 "nbformat_minor": 2
}
