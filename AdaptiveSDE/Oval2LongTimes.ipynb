{
 "cells": [
  {
   "cell_type": "code",
   "execution_count": 1,
   "metadata": {
    "collapsed": false
   },
   "outputs": [
    {
     "data": {
      "text/plain": [
       "DiffEqBase.SDEProblem with uType Array{Float64,1} and tType Float64. In-place: true\n",
       "timespan: (0.0, 500.0)\n",
       "u0: [0.128483, 1.25685, 0.0030203, 0.0027977, 0.0101511, 0.0422942, 0.239135, 0.0008014, 0.0001464, 2.67e-5, 4.8e-6, 9.0e-7, 0.0619917, 1.24443, 0.0486676, 199.938, 137.427, 1.51802, 1.51802]"
      ]
     },
     "execution_count": 1,
     "metadata": {},
     "output_type": "execute_result"
    }
   ],
   "source": [
    "using StochasticDiffEq, DiffEqProblemLibrary\n",
    "srand(200)\n",
    "prob = oval2ModelExample(largeFluctuations=true,useBigs=false)"
   ]
  },
  {
   "cell_type": "code",
   "execution_count": 19,
   "metadata": {
    "collapsed": false
   },
   "outputs": [
    {
     "name": "stdout",
     "output_type": "stream",
     "text": [
      "147.898779 seconds (133.90 M allocations: 7.831 GiB, 1.60% gc time)\n"
     ]
    }
   ],
   "source": [
    "srand(200)\n",
    "@time for i in 1:10\n",
    "    sol = solve(prob,SRIW1(),dt=(1/2)^(18),qmax=1.125,\n",
    "        timeseries_steps=1000,abstol=1e-5,reltol=1e-3)\n",
    "end"
   ]
  },
  {
   "cell_type": "code",
   "execution_count": 14,
   "metadata": {
    "collapsed": false
   },
   "outputs": [
    {
     "name": "stdout",
     "output_type": "stream",
     "text": [
      " 33.284208 seconds (16.97 M allocations: 664.508 MiB, 0.53% gc time)\n"
     ]
    }
   ],
   "source": [
    "srand(200)\n",
    "@time for i in 1:10\n",
    "    sol = solve(prob,SOSRI(),dt=(1/2)^(18),qmax=1.125,\n",
    "          timeseries_steps=1000,abstol=1e-4,reltol=1e-2)\n",
    "end"
   ]
  },
  {
   "cell_type": "code",
   "execution_count": 15,
   "metadata": {
    "collapsed": false
   },
   "outputs": [
    {
     "name": "stdout",
     "output_type": "stream",
     "text": [
      " 76.128561 seconds (40.45 M allocations: 1.581 GiB, 0.60% gc time)\n"
     ]
    }
   ],
   "source": [
    "srand(200)\n",
    "@time for i in 1:10\n",
    "    sol = solve(prob,SOSRI2(),dt=(1/2)^(18),qmax=1.125,\n",
    "          timeseries_steps=1000,abstol=1e-4,reltol=1e-4)\n",
    "end"
   ]
  },
  {
   "cell_type": "code",
   "execution_count": 17,
   "metadata": {
    "collapsed": false
   },
   "outputs": [
    {
     "name": "stdout",
     "output_type": "stream",
     "text": [
      "121.756225 seconds (65.51 M allocations: 2.662 GiB, 0.66% gc time)\n"
     ]
    }
   ],
   "source": [
    "srand(200)\n",
    "@time for i in 1:10\n",
    "    sol = solve(prob,SOSRI2(),dt=(1/2)^(18),qmax=1.125,\n",
    "          timeseries_steps=1000,abstol=1e-5,reltol=1e-3)\n",
    "end"
   ]
  },
  {
   "cell_type": "code",
   "execution_count": 13,
   "metadata": {
    "collapsed": false
   },
   "outputs": [
    {
     "name": "stdout",
     "output_type": "stream",
     "text": [
      " 25.971742 seconds (13.77 M allocations: 576.293 MiB, 0.57% gc time)\n"
     ]
    }
   ],
   "source": [
    "srand(200)\n",
    "@time for i in 1:10\n",
    "    sol = solve(prob,SOSRI(),dt=(1/2)^(18),qmax=1.125,\n",
    "          timeseries_steps=1000,abstol=1e-3,reltol=1e-2)\n",
    "end"
   ]
  },
  {
   "cell_type": "code",
   "execution_count": 16,
   "metadata": {
    "collapsed": false
   },
   "outputs": [
    {
     "name": "stdout",
     "output_type": "stream",
     "text": [
      " 73.624740 seconds (37.72 M allocations: 1.406 GiB, 0.60% gc time)\n"
     ]
    }
   ],
   "source": [
    "srand(200)\n",
    "@time for i in 1:10\n",
    "    sol = solve(prob,SOSRI(),dt=(1/2)^(18),qmax=1.125,\n",
    "          timeseries_steps=1000,abstol=1e-4,reltol=1e-4)\n",
    "end"
   ]
  },
  {
   "cell_type": "code",
   "execution_count": 20,
   "metadata": {
    "collapsed": false
   },
   "outputs": [
    {
     "name": "stdout",
     "output_type": "stream",
     "text": [
      " 22.472149 seconds (11.34 M allocations: 444.027 MiB, 0.50% gc time)\n"
     ]
    }
   ],
   "source": [
    "srand(200)\n",
    "@time for i in 1:10\n",
    "    sol = solve(prob,SOSRI(),dt=(1/2)^(18),qmax=1.125,\n",
    "          timeseries_steps=1000,abstol=1e-2,reltol=1e-2)\n",
    "end"
   ]
  },
  {
   "cell_type": "code",
   "execution_count": 11,
   "metadata": {
    "collapsed": false
   },
   "outputs": [
    {
     "name": "stdout",
     "output_type": "stream",
     "text": [
      " 89.198343 seconds (46.06 M allocations: 1.730 GiB, 0.65% gc time)\n"
     ]
    }
   ],
   "source": [
    "srand(200)\n",
    "@time for i in 1:10\n",
    "    sol = solve(prob,SOSRI(),dt=(1/2)^(18),qmax=1.125,\n",
    "          timeseries_steps=1000,abstol=1e-5,reltol=1e-3)\n",
    "end"
   ]
  },
  {
   "cell_type": "code",
   "execution_count": 8,
   "metadata": {
    "collapsed": false
   },
   "outputs": [
    {
     "name": "stderr",
     "output_type": "stream",
     "text": [
      "\u001b[1m\u001b[33mWARNING: \u001b[39m\u001b[22m\u001b[33mdt <= dtmin. Aborting. If you would like to force continuation with dt=dtmin, set force_dtmin=true\u001b[39m\n",
      "\u001b[1m\u001b[33mWARNING: \u001b[39m\u001b[22m\u001b[33mdt <= dtmin. Aborting. If you would like to force continuation with dt=dtmin, set force_dtmin=true\u001b[39m\n",
      "\u001b[1m\u001b[33mWARNING: \u001b[39m\u001b[22m\u001b[33mdt <= dtmin. Aborting. If you would like to force continuation with dt=dtmin, set force_dtmin=true\u001b[39m\n",
      "\u001b[1m\u001b[33mWARNING: \u001b[39m\u001b[22m"
     ]
    }
   ],
   "source": [
    "srand(200)\n",
    "@time for i in 1:10\n",
    "    sol = solve(prob,SOSRI(),dt=(1/2)^(18),qmax=1.125,\n",
    "          timeseries_steps=1000,abstol=1e-2,reltol=1e-1)\n",
    "end"
   ]
  },
  {
   "cell_type": "code",
   "execution_count": 10,
   "metadata": {
    "collapsed": false
   },
   "outputs": [
    {
     "name": "stderr",
     "output_type": "stream",
     "text": [
      "\u001b[1m\u001b[33mWARNING: \u001b[39m\u001b[22m\u001b[33mdt <= dtmin. Aborting. If you would like to force continuation with dt=dtmin, set force_dtmin=true\u001b[39m\n",
      "\u001b[1m\u001b[33mWARNING: \u001b[39m\u001b[22m\u001b[33mdt <= dtmin. Aborting. If you would like to force continuation with dt=dtmin, set force_dtmin=true\u001b[39m\n",
      "\u001b[1m\u001b[33mWARNING: \u001b[39m\u001b[22m\u001b[33mdt <= dtmin. Aborting. If you would like to force continuation with dt=dtmin, set force_dtmin=true\u001b[39m\n",
      "\u001b[1m\u001b[33mWARNING: \u001b[39m\u001b[22m\u001b[33mdt <= dtmin. Aborting. If you would like to force continuation with dt=dtmin, set force_dtmin=true\u001b[39m\n",
      "\u001b[1m\u001b[33mWARNING: \u001b[39m\u001b[22m\u001b[33mdt <= dtmin. Aborting. If you would like to force continuation with dt=dtmin, set force_dtmin=true\u001b[39m\n",
      "\u001b[1m\u001b[33mWARNING: \u001b[39m\u001b[22m\u001b[33mdt <= dtmin. Aborting. If you would like to force continuation with dt=dtmin, set force_dtmin=true\u001b[39m\n",
      "\u001b[1m\u001b[33mWARNING: \u001b[39m\u001b[22m\u001b[33mdt <= dtmin. Aborting. If you would like to force continuation with dt=dtmin, set force_dtmin=true\u001b[39m\n",
      "\u001b[1m\u001b[33mWARNING: \u001b[39m\u001b[22m\u001b[33mdt <= dtmin. Aborting. If you would like to force continuation with dt=dtmin, set force_dtmin=true\u001b[39m\n"
     ]
    },
    {
     "name": "stdout",
     "output_type": "stream",
     "text": [
      "  0.096493 seconds (35.26 k allocations: 2.207 MiB, 7.29% gc time)\n"
     ]
    },
    {
     "name": "stderr",
     "output_type": "stream",
     "text": [
      "\u001b[1m\u001b[33mWARNING: \u001b[39m\u001b[22m\u001b[33mdt <= dtmin. Aborting. If you would like to force continuation with dt=dtmin, set force_dtmin=true\u001b[39m\n",
      "\u001b[1m\u001b[33mWARNING: \u001b[39m\u001b[22m\u001b[33mdt <= dtmin. Aborting. If you would like to force continuation with dt=dtmin, set force_dtmin=true\u001b[39m\n"
     ]
    }
   ],
   "source": [
    "srand(200)\n",
    "@time for i in 1:10\n",
    "    sol = solve(prob,SOSRI2(),dt=(1/2)^(18),qmax=1.125,\n",
    "          timeseries_steps=1000,abstol=1e-4,reltol=1e-1)\n",
    "end"
   ]
  }
 ],
 "metadata": {
  "kernelspec": {
   "display_name": "Julia 0.6.0",
   "language": "julia",
   "name": "julia-0.6"
  },
  "language_info": {
   "file_extension": ".jl",
   "mimetype": "application/julia",
   "name": "julia",
   "version": "0.6.0"
  }
 },
 "nbformat": 4,
 "nbformat_minor": 2
}
