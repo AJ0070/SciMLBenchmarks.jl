{
 "cells": [
  {
   "cell_type": "code",
   "execution_count": 5,
   "metadata": {
    "collapsed": false
   },
   "outputs": [
    {
     "data": {
      "text/plain": [
       "DiffEqBase.SDEProblem with uType Array{Float64,1} and tType Float64. In-place: true\n",
       "timespan: (0.0, 500.0)\n",
       "u0: [0.128483, 1.25685, 0.0030203, 0.0027977, 0.0101511, 0.0422942, 0.239135, 0.0008014, 0.0001464, 2.67e-5, 4.8e-6, 9.0e-7, 0.0619917, 1.24443, 0.0486676, 199.938, 137.427, 1.51802, 1.51802]"
      ]
     },
     "execution_count": 5,
     "metadata": {},
     "output_type": "execute_result"
    }
   ],
   "source": [
    "using StochasticDiffEq, DiffEqProblemLibrary\n",
    "srand(200)\n",
    "prob = oval2ModelExample(largeFluctuations=true,useBigs=false)"
   ]
  },
  {
   "cell_type": "code",
   "execution_count": 6,
   "metadata": {
    "collapsed": false
   },
   "outputs": [
    {
     "name": "stdout",
     "output_type": "stream",
     "text": [
      "119.710377 seconds (251.07 M allocations: 35.703 GiB, 5.40% gc time)\n"
     ]
    }
   ],
   "source": [
    "srand(200)\n",
    "@time for i in 1:10\n",
    "    sol = solve(prob,SRIW1(),dt=(1/2)^(18),qmax=1.125,\n",
    "        timeseries_steps=1000,abstol=1e-5,reltol=1e-3)\n",
    "end"
   ]
  },
  {
   "cell_type": "code",
   "execution_count": 7,
   "metadata": {
    "collapsed": false
   },
   "outputs": [
    {
     "name": "stdout",
     "output_type": "stream",
     "text": [
      "264."
     ]
    }
   ],
   "source": [
    "srand(200)\n",
    "@time for i in 1:10\n",
    "    sol = solve(prob,SRI(error_terms=2),dt=(1/2)^(18),qmax=1.125,\n",
    "          timeseries_steps=1000,abstol=1e-5,reltol=1e-3,force_dtmin=true)\n",
    "end"
   ]
  },
  {
   "cell_type": "code",
   "execution_count": 9,
   "metadata": {
    "collapsed": false
   },
   "outputs": [
    {
     "name": "stdout",
     "output_type": "stream",
     "text": [
      " 54.815440 seconds (44.73 M allocations: 7.028 GiB, 1.89% gc time)\n"
     ]
    }
   ],
   "source": [
    "srand(200)\n",
    "@time for i in 1:10\n",
    "    sol = solve(prob,SRI(tableau=StochasticDiffEq.constructSRIOpt1()),dt=(1/2)^(18),qmax=1.125,\n",
    "          timeseries_steps=1000,abstol=1e-4,reltol=1e-2)\n",
    "end"
   ]
  },
  {
   "cell_type": "code",
   "execution_count": null,
   "metadata": {
    "collapsed": true
   },
   "outputs": [],
   "source": []
  }
 ],
 "metadata": {
  "kernelspec": {
   "display_name": "Julia 0.6.0",
   "language": "julia",
   "name": "julia-0.6"
  },
  "language_info": {
   "file_extension": ".jl",
   "mimetype": "application/julia",
   "name": "julia",
   "version": "0.6.0"
  }
 },
 "nbformat": 4,
 "nbformat_minor": 2
}
