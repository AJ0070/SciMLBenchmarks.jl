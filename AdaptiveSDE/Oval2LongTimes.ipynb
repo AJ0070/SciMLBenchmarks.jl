{
 "cells": [
  {
   "cell_type": "code",
   "execution_count": 1,
   "metadata": {
    "collapsed": false
   },
   "outputs": [
    {
     "name": "stderr",
     "output_type": "stream",
     "text": [
      "\u001b[1m\u001b[36mINFO: \u001b[39m\u001b[22m\u001b[36mRecompiling stale cache file /home/crackauc/.julia/lib/v0.6/StochasticDiffEq.ji for module StochasticDiffEq.\n",
      "\u001b[39m"
     ]
    },
    {
     "data": {
      "text/plain": [
       "DiffEqBase.SDEProblem with uType Array{Float64,1} and tType Float64. In-place: true\n",
       "timespan: (0.0, 500.0)\n",
       "u0: [0.128483, 1.25685, 0.0030203, 0.0027977, 0.0101511, 0.0422942, 0.239135, 0.0008014, 0.0001464, 2.67e-5, 4.8e-6, 9.0e-7, 0.0619917, 1.24443, 0.0486676, 199.938, 137.427, 1.51802, 1.51802]"
      ]
     },
     "execution_count": 1,
     "metadata": {},
     "output_type": "execute_result"
    }
   ],
   "source": [
    "using StochasticDiffEq, DiffEqProblemLibrary\n",
    "srand(200)\n",
    "prob = oval2ModelExample(largeFluctuations=true,useBigs=false)"
   ]
  },
  {
   "cell_type": "code",
   "execution_count": 2,
   "metadata": {
    "collapsed": false
   },
   "outputs": [
    {
     "name": "stdout",
     "output_type": "stream",
     "text": [
      "134.077563 seconds (254.18 M allocations: 36.797 GiB, 4.53% gc time)\n"
     ]
    }
   ],
   "source": [
    "srand(200)\n",
    "@time for i in 1:10\n",
    "    sol = solve(prob,SRIW1(),dt=(1/2)^(18),qmax=1.125,\n",
    "        timeseries_steps=1000,abstol=1e-5,reltol=1e-3)\n",
    "end"
   ]
  },
  {
   "cell_type": "code",
   "execution_count": 17,
   "metadata": {
    "collapsed": false
   },
   "outputs": [
    {
     "name": "stdout",
     "output_type": "stream",
     "text": [
      "278.304718 seconds (237.58 M allocations: 34.163 GiB, 2.23% gc time)\n"
     ]
    }
   ],
   "source": [
    "srand(200)\n",
    "@time for i in 1:10\n",
    "    sol = solve(prob,SRI(error_terms=2),dt=(1/2)^(18),qmax=1.125,\n",
    "          timeseries_steps=1000,abstol=1e-5,reltol=1e-3,force_dtmin=true)\n",
    "end"
   ]
  },
  {
   "cell_type": "code",
   "execution_count": 18,
   "metadata": {
    "collapsed": false
   },
   "outputs": [
    {
     "name": "stdout",
     "output_type": "stream",
     "text": [
      "357.097802 seconds (297.32 M allocations: 43.510 GiB, 2.50% gc time)\n"
     ]
    }
   ],
   "source": [
    "srand(200)\n",
    "@time for i in 1:10\n",
    "    sol = solve(prob,SRI(),dt=(1/2)^(18),qmax=1.125,\n",
    "          timeseries_steps=1000,abstol=1e-5,reltol=1e-3,force_dtmin=true)\n",
    "end"
   ]
  },
  {
   "cell_type": "code",
   "execution_count": 4,
   "metadata": {
    "collapsed": false
   },
   "outputs": [
    {
     "name": "stdout",
     "output_type": "stream",
     "text": [
      " 58"
     ]
    }
   ],
   "source": [
    "srand(200)\n",
    "@time for i in 1:10\n",
    "    sol = solve(prob,SRI(tableau=StochasticDiffEq.constructSRIOpt1()),dt=(1/2)^(18),qmax=1.125,\n",
    "          timeseries_steps=1000,abstol=1e-4,reltol=1e-2)\n",
    "end"
   ]
  },
  {
   "cell_type": "code",
   "execution_count": 15,
   "metadata": {
    "collapsed": false
   },
   "outputs": [
    {
     "name": "stdout",
     "output_type": "stream",
     "text": [
      "133.714578 seconds (103.35 M allocations: 16.159 GiB, 2.32% gc time)\n"
     ]
    }
   ],
   "source": [
    "srand(200)\n",
    "@time for i in 1:10\n",
    "    sol = solve(prob,SRI(tableau=StochasticDiffEq.constructSRIOpt2()),dt=(1/2)^(18),qmax=1.125,\n",
    "          timeseries_steps=1000,abstol=1e-4,reltol=1e-4)\n",
    "end"
   ]
  },
  {
   "cell_type": "code",
   "execution_count": 21,
   "metadata": {
    "collapsed": false
   },
   "outputs": [
    {
     "name": "stdout",
     "output_type": "stream",
     "text": [
      "189.233673 seconds (147.63 M allocations: 23.076 GiB, 2.33% gc time)\n"
     ]
    }
   ],
   "source": [
    "srand(200)\n",
    "@time for i in 1:10\n",
    "    sol = solve(prob,SRI(tableau=StochasticDiffEq.constructSRIOpt2()),dt=(1/2)^(18),qmax=1.125,\n",
    "          timeseries_steps=1000,abstol=1e-5,reltol=1e-3)\n",
    "end"
   ]
  },
  {
   "cell_type": "code",
   "execution_count": 6,
   "metadata": {
    "collapsed": false
   },
   "outputs": [
    {
     "name": "stdout",
     "output_type": "stream",
     "text": [
      " 46"
     ]
    }
   ],
   "source": [
    "srand(200)\n",
    "@time for i in 1:10\n",
    "    sol = solve(prob,SRI(tableau=StochasticDiffEq.constructSRIOpt1()),dt=(1/2)^(18),qmax=1.125,\n",
    "          timeseries_steps=1000,abstol=1e-3,reltol=1e-2)\n",
    "end"
   ]
  },
  {
   "cell_type": "code",
   "execution_count": 23,
   "metadata": {
    "collapsed": false
   },
   "outputs": [
    {
     "name": "stdout",
     "output_type": "stream",
     "text": [
      "127.546408 seconds (98.95 M allocations: 15.604 GiB, 2.10% gc time)\n"
     ]
    }
   ],
   "source": [
    "srand(200)\n",
    "@time for i in 1:10\n",
    "    sol = solve(prob,SRI(tableau=StochasticDiffEq.constructSRIOpt1()),dt=(1/2)^(18),qmax=1.125,\n",
    "          timeseries_steps=1000,abstol=1e-4,reltol=1e-4)\n",
    "end"
   ]
  },
  {
   "cell_type": "code",
   "execution_count": 16,
   "metadata": {
    "collapsed": false
   },
   "outputs": [
    {
     "name": "stdout",
     "output_type": "stream",
     "text": [
      " 42.278439 seconds (32.83 M allocations: 5.151 GiB, 1.79% gc time)\n"
     ]
    }
   ],
   "source": [
    "srand(200)\n",
    "@time for i in 1:10\n",
    "    sol = solve(prob,SRI(tableau=StochasticDiffEq.constructSRIOpt1()),dt=(1/2)^(18),qmax=1.125,\n",
    "          timeseries_steps=1000,abstol=1e-2,reltol=1e-2)\n",
    "end"
   ]
  },
  {
   "cell_type": "code",
   "execution_count": 22,
   "metadata": {
    "collapsed": false
   },
   "outputs": [
    {
     "name": "stdout",
     "output_type": "stream",
     "text": [
      "161.754319 seconds (125.11 M allocations: 19.704 GiB, 1.96% gc time)\n"
     ]
    }
   ],
   "source": [
    "srand(200)\n",
    "@time for i in 1:10\n",
    "    sol = solve(prob,SRI(tableau=StochasticDiffEq.constructSRIOpt1()),dt=(1/2)^(18),qmax=1.125,\n",
    "          timeseries_steps=1000,abstol=1e-5,reltol=1e-3)\n",
    "end"
   ]
  },
  {
   "cell_type": "code",
   "execution_count": 8,
   "metadata": {
    "collapsed": false
   },
   "outputs": [
    {
     "name": "stderr",
     "output_type": "stream",
     "text": [
      "\u001b[1m\u001b[33mWARNING: \u001b[39m\u001b[22m\u001b[33mdt <= dtmin. Aborting. If you would like to force continuation with dt=dtmin, set force_dtmin=true\u001b[39m\n",
      "\u001b[1m\u001b[33mWARNING: \u001b[39m\u001b[22m\u001b[33mdt <= dtmin. Aborting. If you would like to force continuation with dt=dtmin, set force_dtmin=true\u001b[39m\n",
      "\u001b[1m\u001b[33mWARNING: \u001b[39m\u001b[22m\u001b[33mdt <= dtmin. Aborting. If you would like to force continuation with dt=dtmin, set force_dtmin=true\u001b[39m\n",
      "\u001b[1m\u001b[33mWARNING: \u001b[39m\u001b[22m\u001b[33mdt <= dtmin. Aborting. If you would like to force continuation with dt=dtmin, set force_dtmin=true\u001b[39m\n"
     ]
    }
   ],
   "source": [
    "srand(200)\n",
    "@time for i in 1:10\n",
    "    sol = solve(prob,SRI(tableau=StochasticDiffEq.constructSRIOpt1()),dt=(1/2)^(18),qmax=1.125,\n",
    "          timeseries_steps=1000,abstol=1e-2,reltol=1e-1)\n",
    "end"
   ]
  },
  {
   "cell_type": "code",
   "execution_count": 9,
   "metadata": {
    "collapsed": false
   },
   "outputs": [
    {
     "name": "stderr",
     "output_type": "stream",
     "text": [
      "\u001b[1m\u001b[33mWARNING: \u001b[39m\u001b[22m\u001b[33mdt <= dtmin. Aborting. If you would like to force continuation with dt=dtmin, set force_dtmin=true\u001b[39m\n",
      "\u001b[1m\u001b[33mWARNING: \u001b[39m\u001b[22m\u001b[33mdt <= dtmin. Aborting. If you would like to force continuation with dt=dtmin, set force_dtmin=true\u001b[39m\n",
      "\u001b[1m\u001b[33mWARNING: \u001b[39m\u001b[22m\u001b[33mdt <= dtmin. Aborting. If you would like to force continuation with dt=dtmin, set force_dtmin=true\u001b[39m\n",
      "\u001b[1m\u001b[33mWARNING: \u001b[39m\u001b[22m\u001b[33mdt <= dtmin. Aborting. If you would like to force continuation with dt=dtmin, set force_dtmin=true\u001b[39m\n",
      "\u001b[1m\u001b[33mWARNING: \u001b[39m\u001b[22m\u001b[33mdt <= dtmin. Aborting. If you would like to force continuation with dt=dtmin, set force_dtmin=true\u001b[39m\n",
      "\u001b[1m\u001b[33mWARNING: \u001b[39m\u001b[22m\u001b[33mdt <= dtmin. Aborting. If you would like to force continuation with dt=dtmin, set force_dtmin=true\u001b[39m\n",
      "\u001b[1m\u001b[33mWARNING: \u001b[39m\u001b[22m\u001b[33mdt <= dtmin. Aborting. If you would like to force continuation with dt=dtmin, set force_dtmin=true\u001b[39m\n",
      "\u001b[1m\u001b[33mWARNING: \u001b[39m\u001b[22m\u001b[33mdt <= dtmin. Aborting. If you would like to force continuation with dt=dtmin, set force_dtmin=true\u001b[39m\n"
     ]
    },
    {
     "name": "stdout",
     "output_type": "stream",
     "text": [
      "  0.116645 seconds (104.18 k allocations: 15.075 MiB)\n"
     ]
    },
    {
     "name": "stderr",
     "output_type": "stream",
     "text": [
      "\u001b[1m\u001b[33mWARNING: \u001b[39m\u001b[22m\u001b[33mdt <= dtmin. Aborting. If you would like to force continuation with dt=dtmin, set force_dtmin=true\u001b[39m\n",
      "\u001b[1m\u001b[33mWARNING: \u001b[39m\u001b[22m\u001b[33mdt <= dtmin. Aborting. If you would like to force continuation with dt=dtmin, set force_dtmin=true\u001b[39m\n"
     ]
    }
   ],
   "source": [
    "srand(200)\n",
    "@time for i in 1:10\n",
    "    sol = solve(prob,SRI(tableau=StochasticDiffEq.constructSRIOpt2()),dt=(1/2)^(18),qmax=1.125,\n",
    "          timeseries_steps=1000,abstol=1e-4,reltol=1e-1)\n",
    "end"
   ]
  },
  {
   "cell_type": "code",
   "execution_count": null,
   "metadata": {
    "collapsed": true
   },
   "outputs": [],
   "source": []
  }
 ],
 "metadata": {
  "kernelspec": {
   "display_name": "Julia 0.6.0",
   "language": "julia",
   "name": "julia-0.6"
  },
  "language_info": {
   "file_extension": ".jl",
   "mimetype": "application/julia",
   "name": "julia",
   "version": "0.6.0"
  }
 },
 "nbformat": 4,
 "nbformat_minor": 2
}
