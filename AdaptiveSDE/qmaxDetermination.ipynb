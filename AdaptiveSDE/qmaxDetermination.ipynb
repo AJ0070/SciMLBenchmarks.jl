{
 "cells": [
  {
   "cell_type": "code",
   "execution_count": 1,
   "metadata": {
    "collapsed": false
   },
   "outputs": [
    {
     "name": "stdout",
     "output_type": "stream",
     "text": [
      "Solve once to compile.\n",
      "Compilation complete.\n",
      "\tFrom worker 11:\tSolve once to compile.\n",
      "\tFrom worker 11:\tCompilation complete.\n",
      "\tFrom worker 14:\tSolve once to compile.\n",
      "\tFrom worker 14:\tCompilation complete.\n",
      "\tFrom worker 6:\tSolve once to compile.\n",
      "\tFrom worker 6:\tCompilation complete.\n",
      "\tFrom worker 5:\tSolve once to compile.\n",
      "\tFrom worker 12:\tSolve once to compile.\n",
      "\tFrom worker 12:\tCompilation complete.\n",
      "\tFrom worker 10:\tSolve once to compile.\n",
      "\tFrom worker 10:\tCompilation complete.\n",
      "\tFrom worker 3:\tSolve once to compile.\n",
      "\tFrom worker 3:\tCompilation complete.\n",
      "\tFrom worker 16:\tSolve once to compile.\n",
      "\tFrom worker 16:\tCompilation complete.\n",
      "\tFrom worker 2:\tSolve once to compile.\n",
      "\tFrom worker 13:\tSolve once to compile.\n",
      "\tFrom worker 13:\tCompilation complete.\n",
      "\tFrom worker 7:\tSolve once to compile.\n",
      "\tFrom worker 4:\tSolve once to compile.\n",
      "\tFrom worker 9:\tSolve once to compile.\n",
      "\tFrom worker 9:\tCompilation complete.\n",
      "\tFrom worker 15:\tSolve once to compile.\n",
      "\tFrom worker 15:\tCompilation complete.\n",
      "\tFrom worker 17:\tSolve once to compile.\n",
      "\tFrom worker 17:\tCompilation complete.\n",
      "\tFrom worker 8:\tSolve once to compile.\n",
      "\tFrom worker 7:\tCompilation complete.\n",
      "\tFrom worker 4:\tCompilation complete.\n",
      "\tFrom worker 5:\tCompilation complete.\n",
      "\tFrom worker 8:\tCompilation complete.\n",
      "\tFrom worker 2:\tCompilation complete.\n",
      "Setup Complete\n"
     ]
    }
   ],
   "source": [
    "addprocs()\n",
    "\n",
    "@everywhere qs = 1.0 + 2.0.^(-5:2)\n",
    "times = Array{Float64}(length(qs),4)\n",
    "means = Array{Float64}(length(qs),4)\n",
    "\n",
    "@everywhere begin\n",
    "  using StochasticDiffEq, DiffEqBase, DiffEqProblemLibrary,\n",
    "        Plots, LaTeXStrings, ParallelDataTransfer, DiffEqMonteCarlo\n",
    "  srand(99 + myid())\n",
    "  full_prob = oval2ModelExample(largeFluctuations=true,useBigs=false)\n",
    "  prob = deepcopy(full_prob)\n",
    "  prob.tspan=(0.0,1.0)\n",
    "  println(\"Solve once to compile.\")\n",
    "  sol = solve(prob,EM(),dt=1/2^(18))\n",
    "  Int(sol.u[end][1]!=NaN)\n",
    "  println(\"Compilation complete.\")\n",
    "  num_runs = 10000\n",
    "\n",
    "  probs = Vector{SDEProblem}(3)\n",
    "  p1 = Vector{Any}(3)\n",
    "  p2 = Vector{Any}(3)\n",
    "  p3 = Vector{Any}(3)\n",
    "  ## Problem 1\n",
    "  probs[1] = prob_sde_linear\n",
    "  ## Problem 2\n",
    "  probs[2] = prob_sde_wave\n",
    "  ## Problem 3\n",
    "  probs[3] = prob_sde_additive\n",
    "end\n",
    "println(\"Setup Complete\")\n",
    "\n",
    "## Timing Runs\n",
    "\n",
    "@everywhere function runAdaptive(i,k)\n",
    "  sol = solve(prob,SRIW1(),dt=1/2^(8),abstol=2.0^(-15),reltol=2.0^(-10),maxIters=Int(1e12),qmax=qs[k])\n",
    "  Int(any(isnan,sol[end]) || sol.t[end] != 1)\n",
    "end\n",
    "\n",
    "#Compile\n",
    "monte_prob = MonteCarloProblem(probs[1])\n",
    "test_mc = solve(monte_prob,SRIW1(),dt=1/2^(4),adaptive=true,num_monte=1000,abstol=2.0^(-1),reltol=0)\n",
    "calculate_monte_errors(test_mc);"
   ]
  },
  {
   "cell_type": "markdown",
   "metadata": {},
   "source": [
    "## qmax test on Oval2 Model"
   ]
  },
  {
   "cell_type": "code",
   "execution_count": 2,
   "metadata": {
    "collapsed": false
   },
   "outputs": [
    {
     "name": "stdout",
     "output_type": "stream",
     "text": [
      "k was 1. The number of Adaptive Fails is 0. Elapsed time was 36.254151618\n",
      "k was 2. The number of Adaptive Fails is 0. Elapsed time was 28.5158889\n",
      "k was 3. The number of Adaptive Fails is 0. Elapsed time was 26.332680421\n",
      "k was 4. The number of Adaptive Fails is 0. Elapsed time was 26.457054035\n",
      "k was 5. The number of Adaptive Fails is 0. Elapsed time was 27.698225713\n",
      "k was 6. The number of Adaptive Fails is 0. Elapsed time was 28.750677513\n",
      "k was 7. The number of Adaptive Fails is 0. Elapsed time was 29.873483577\n",
      "k was 8. The number of Adaptive Fails is 0. Elapsed time was 29.451160315\n"
     ]
    }
   ],
   "source": [
    "for k in eachindex(qs)\n",
    "  ParallelDataTransfer.sendto(workers(), k=k)\n",
    "  @everywhere srand(99 + myid())\n",
    "  adaptiveTime = @elapsed numFails = sum(pmap((i)->runAdaptive(i,k),1:num_runs))\n",
    "  println(\"k was $k. The number of Adaptive Fails is $numFails. Elapsed time was $adaptiveTime\")\n",
    "  times[k,4] = adaptiveTime\n",
    "end"
   ]
  },
  {
   "cell_type": "markdown",
   "metadata": {},
   "source": [
    "## qmax test on other problems"
   ]
  },
  {
   "cell_type": "code",
   "execution_count": 5,
   "metadata": {
    "collapsed": false,
    "scrolled": true
   },
   "outputs": [
    {
     "name": "stdout",
     "output_type": "stream",
     "text": [
      "Problem 1\n",
      "for k=1 and i=1, we get that the error was 4.315400143790057e-6 and it took 8.140950299 seconds\n",
      "for k=1 and i=2, we get that the error was 4.89756583367057e-6 and it took 5.807222325 seconds\n",
      "for k=1 and i=3, we get that the error was 8.506156247652843e-6 and it took 6.227678904 seconds\n",
      "for k=1 and i=4, we get that the error was 4.354179640359905e-6 and it took 5.896393505 seconds\n",
      "for k=1 and i=5, we get that the error was 6.1666476750771586e-6 and it took 5.842827081 seconds\n",
      "for k=1 and i=6, we get that the error was 5.445323348038243e-6 and it took 5.757022574 seconds\n",
      "for k=1 and i=7, we get that the error was 5.405930291172606e-6 and it took 5.944903097 seconds\n",
      "for k=1 and i=8, we get that the error was 8.698820539062227e-6 and it took 7.373844157 seconds\n",
      "Problem 2\n",
      "for k=2 and i=1, we get that the error was 4.307280325997364e-6 and it took 6.017691704 seconds\n",
      "for k=2 and i=2, we get that the error was 4.83150423203309e-6 and it took 6.011026717 seconds\n",
      "for k=2 and i=3, we get that the error was 7.606608758050923e-6 and it took 6.070734215 seconds\n",
      "for k=2 and i=4, we get that the error was 4.65004064173092e-6 and it took 12.652427687 seconds\n",
      "for k=2 and i=5, we get that the error was 7.669369083389543e-6 and it took 20.948107163 seconds\n",
      "for k=2 and i=6, we get that the error was 4.72301705675389e-6 and it took 19.292121479 seconds\n",
      "for k=2 and i=7, we get that the error was 1.118656793507671e-5 and it took 19.69424986 seconds\n",
      "for k=2 and i=8, we get that the error was 4.451946645615687e-6 and it took 20.370312615 seconds\n",
      "Problem 3\n",
      "for k=3 and i=1, we get that the error was 4.606803577660524e-6 and it took 20.073919479 seconds\n",
      "for k=3 and i=2, we get that the error was 1.5019806110204998e-5 and it took 20.919654445 seconds\n",
      "for k=3 and i=3, we get that the error was 8.656617599723136e-6 and it took 20.994816014 seconds\n",
      "for k=3 and i=4, we get that the error was 4.518030292427883e-6 and it took 20.142078507 seconds\n",
      "for k=3 and i=5, we get that the error was 5.8188106786924715e-6 and it took 19.376890549 seconds\n",
      "for k=3 and i=6, we get that the error was 4.4579262011708844e-6 and it took 19.279488428 seconds\n",
      "for k=3 and i=7, we get that the error was 5.24760770774213e-6 and it took 18.747781669 seconds\n",
      "for k=3 and i=8, we get that the error was 7.124238675121411e-6 and it took 19.156194478 seconds\n"
     ]
    }
   ],
   "source": [
    "for k in eachindex(probs)\n",
    "  println(\"Problem $k\")\n",
    "  ## Setup\n",
    "  prob = probs[k]\n",
    "  ParallelDataTransfer.sendto(workers(), prob=prob)\n",
    "\n",
    "  for i in eachindex(qs)\n",
    "    ParallelDataTransfer.sendto(workers(), i=i)\n",
    "    msim = solve(monte_prob,dt=1/2^(4),SRIW1(),adaptive=true,num_monte=num_runs,abstol=2.0^(-13),reltol=0,qmax=qs[i])\n",
    "    test_msim = calculate_monte_errors(msim)\n",
    "    times[i,k] = test_msim.elapsedTime\n",
    "    means[i,k] = test_msim.error_means[:final]\n",
    "    println(\"for k=$k and i=$i, we get that the error was $(means[i,k]) and it took $(times[i,k]) seconds\")\n",
    "  end\n",
    "end"
   ]
  }
 ],
 "metadata": {
  "kernelspec": {
   "display_name": "Julia 0.6.0",
   "language": "julia",
   "name": "julia-0.6"
  },
  "language_info": {
   "file_extension": ".jl",
   "mimetype": "application/julia",
   "name": "julia",
   "version": "0.6.0"
  }
 },
 "nbformat": 4,
 "nbformat_minor": 2
}
